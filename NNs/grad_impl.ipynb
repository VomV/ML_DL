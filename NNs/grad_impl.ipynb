{
 "cells": [
  {
   "cell_type": "code",
   "execution_count": 158,
   "metadata": {},
   "outputs": [],
   "source": [
    "import math\n",
    "import numpy as np\n",
    "import matplotlib.pyplot as plt\n",
    "%matplotlib inline"
   ]
  },
  {
   "cell_type": "code",
   "execution_count": 159,
   "metadata": {},
   "outputs": [],
   "source": [
    "def f(x):\n",
    "    return 2*x**2 + 6*x + 8"
   ]
  },
  {
   "cell_type": "code",
   "execution_count": 160,
   "metadata": {},
   "outputs": [
    {
     "data": {
      "text/plain": [
       "28"
      ]
     },
     "execution_count": 160,
     "metadata": {},
     "output_type": "execute_result"
    }
   ],
   "source": [
    "f(2)"
   ]
  },
  {
   "cell_type": "code",
   "execution_count": 161,
   "metadata": {},
   "outputs": [
    {
     "data": {
      "text/plain": [
       "array([-5.  , -4.75, -4.5 , -4.25, -4.  , -3.75, -3.5 , -3.25, -3.  ,\n",
       "       -2.75, -2.5 , -2.25, -2.  , -1.75, -1.5 , -1.25, -1.  , -0.75,\n",
       "       -0.5 , -0.25,  0.  ,  0.25,  0.5 ,  0.75,  1.  ,  1.25,  1.5 ,\n",
       "        1.75,  2.  ,  2.25,  2.5 ,  2.75,  3.  ,  3.25,  3.5 ,  3.75,\n",
       "        4.  ,  4.25,  4.5 ,  4.75])"
      ]
     },
     "execution_count": 161,
     "metadata": {},
     "output_type": "execute_result"
    }
   ],
   "source": [
    "xs = np.arange(-5, 5, 0.25)\n",
    "xs"
   ]
  },
  {
   "cell_type": "code",
   "execution_count": 162,
   "metadata": {},
   "outputs": [
    {
     "data": {
      "text/plain": [
       "[<matplotlib.lines.Line2D at 0x7fd67cad7c40>]"
      ]
     },
     "execution_count": 162,
     "metadata": {},
     "output_type": "execute_result"
    },
    {
     "data": {
      "image/png": "[encoded data removed]",
      "text/plain": [
       "<Figure size 640x480 with 1 Axes>"
      ]
     },
     "metadata": {},
     "output_type": "display_data"
    }
   ],
   "source": [
    "ys = f(xs)\n",
    "plt.plot(xs, ys)"
   ]
  },
  {
   "cell_type": "markdown",
   "metadata": {},
   "source": [
    "Numerical Derivative"
   ]
  },
  {
   "cell_type": "code",
   "execution_count": 163,
   "metadata": {},
   "outputs": [
    {
     "data": {
      "text/plain": [
       "-0.0003580007401637886"
      ]
     },
     "execution_count": 163,
     "metadata": {},
     "output_type": "execute_result"
    }
   ],
   "source": [
    "h = 0.000001\n",
    "x = -1.50009\n",
    "der = (f(x+h)-f(x))/h\n",
    "der"
   ]
  },
  {
   "cell_type": "markdown",
   "metadata": {},
   "source": [
    "Multivariate"
   ]
  },
  {
   "cell_type": "code",
   "execution_count": 164,
   "metadata": {},
   "outputs": [
    {
     "data": {
      "text/plain": [
       "3.000000000010772"
      ]
     },
     "execution_count": 164,
     "metadata": {},
     "output_type": "execute_result"
    }
   ],
   "source": [
    "a = 2\n",
    "b = 3\n",
    "c = 4\n",
    "\n",
    "d = a*b + c\n",
    "\n",
    "h = 0.0001\n",
    "\n",
    "a+=h\n",
    "\n",
    "der = (((a+h)*b + c) - (a*b +c))/h\n",
    "der"
   ]
  },
  {
   "cell_type": "code",
   "execution_count": 165,
   "metadata": {},
   "outputs": [
    {
     "data": {
      "text/plain": [
       "2.000100000003613"
      ]
     },
     "execution_count": 165,
     "metadata": {},
     "output_type": "execute_result"
    }
   ],
   "source": [
    "der = (((b+h)*a + c) - (a*b +c))/h\n",
    "der"
   ]
  },
  {
   "cell_type": "code",
   "execution_count": 166,
   "metadata": {},
   "outputs": [
    {
     "data": {
      "text/plain": [
       "0.9999999999976694"
      ]
     },
     "execution_count": 166,
     "metadata": {},
     "output_type": "execute_result"
    }
   ],
   "source": [
    "der = ((a*b + c+h) - (a*b +c))/h\n",
    "der"
   ]
  },
  {
   "cell_type": "markdown",
   "metadata": {},
   "source": [
    "Data structure to hold values"
   ]
  },
  {
   "cell_type": "code",
   "execution_count": 167,
   "metadata": {},
   "outputs": [
    {
     "name": "stdout",
     "output_type": "stream",
     "text": [
      "Value(data=2.0) Value(data=3.0)\n",
      "Value(data=5.0)\n",
      "Value(data=6.0)\n"
     ]
    }
   ],
   "source": [
    "class Value:\n",
    "\n",
    "    def __init__(self, data):\n",
    "        self.data = data\n",
    "\n",
    "    def __repr__(self):\n",
    "        '''\n",
    "            To print the instances of this class in a required format\n",
    "        '''\n",
    "        return f\"Value(data={self.data})\"\n",
    "    \n",
    "    def __add__(self, other):\n",
    "        return Value(self.data + other.data)\n",
    "    \n",
    "    def __mul__(self, other):\n",
    "        return Value(self.data * other.data)\n",
    "\n",
    "    \n",
    "a = Value(2.0)\n",
    "b = Value(3.0)\n",
    "print(a, b)\n",
    "\n",
    "print(a+b)\n",
    "\n",
    "print(a*b)"
   ]
  },
  {
   "cell_type": "code",
   "execution_count": 168,
   "metadata": {},
   "outputs": [
    {
     "name": "stdout",
     "output_type": "stream",
     "text": [
      "Value(data=10.0)\n"
     ]
    }
   ],
   "source": [
    "c = Value(4)\n",
    "\n",
    "print(a*b + c)"
   ]
  },
  {
   "cell_type": "markdown",
   "metadata": {},
   "source": [
    "To store previous states of the value and the operations"
   ]
  },
  {
   "cell_type": "code",
   "execution_count": 169,
   "metadata": {},
   "outputs": [
    {
     "data": {
      "text/plain": [
       "(Value(data=10.0), {Value(data=4), Value(data=6.0)}, '+', Value(data=8.0))"
      ]
     },
     "execution_count": 169,
     "metadata": {},
     "output_type": "execute_result"
    }
   ],
   "source": [
    "class Value:\n",
    "\n",
    "    def __init__(self, data, _children=(), _op='', label=''):\n",
    "        self.data = data\n",
    "        self._prev = set(_children)\n",
    "        self._op = _op\n",
    "        self.label = label\n",
    "\n",
    "    def __repr__(self):\n",
    "        return f\"Value(data={self.data})\"\n",
    "    \n",
    "    def __add__(self, other):\n",
    "        return Value(self.data + other.data, (self, other), '+')\n",
    "    \n",
    "    def __mul__(self, other):\n",
    "        return Value(self.data * other.data, (self, other), '*')\n",
    "\n",
    "a = Value(2.0, label='a')\n",
    "b = Value(3.0, label='b')\n",
    "c = Value(4, label='c')\n",
    "\n",
    "e = a*b\n",
    "e.label = 'e'\n",
    "d = e + c\n",
    "\n",
    "f = Value(-2.0, label='f')\n",
    "L = d + f; L.label = 'L'\n",
    "\n",
    "d.label = 'd'\n",
    "d, d._prev, d._op, L"
   ]
  },
  {
   "cell_type": "markdown",
   "metadata": {},
   "source": [
    "Visualize the computation graph"
   ]
  },
  {
   "cell_type": "code",
   "execution_count": 170,
   "metadata": {},
   "outputs": [],
   "source": [
    "from graphviz import Digraph\n",
    "\n",
    "def trace(root):\n",
    "    \"build a set of all nodes and edges in a graph\"\n",
    "    nodes, edges = set(), set()\n",
    "    def build(v):\n",
    "        if v not in nodes:\n",
    "            nodes.add(v)\n",
    "            for child in v._prev:\n",
    "                edges.add((child, v))\n",
    "                build(child)\n",
    "    build(root)\n",
    "    return nodes, edges\n",
    "\n",
    "def draw_dot(root):\n",
    "    dot = Digraph(format='svg', graph_attr={'rankdir': 'LR'}) #LR is left to right\n",
    "\n",
    "    nodes, edges = trace(root)\n",
    "    for n in nodes:\n",
    "        uid = str(id(n))\n",
    "        \n",
    "        #for any value in the graph, create a rectangular ('record') node\n",
    "\n",
    "        dot.node(name = uid, label = \"%s | data %.4f\" %(n.label, n.data, ), shape ='record')\n",
    "        if n._op:\n",
    "            #if this value is a result of some operation, create an op node for it\n",
    "            dot.node(name = uid + n._op, label = n._op)\n",
    "            #connect this node to it\n",
    "            dot.edge(uid + n._op, uid)\n",
    "\n",
    "    for n1, n2 in edges:\n",
    "        #connect n1 to op node of n2\n",
    "        dot.edge(str(id(n1)), str(id(n2)) + n2._op)\n",
    "                 \n",
    "    return dot"
   ]
  },
  {
   "cell_type": "code",
   "execution_count": 171,
   "metadata": {},
   "outputs": [
    {
     "data": {
      "image/svg+xml": "<?xml version=\"1.0\" encoding=\"UTF-8\" standalone=\"no\"?>\n<!DOCTYPE svg PUBLIC \"-//W3C//DTD SVG 1.1//EN\"\n \"http://www.w3.org/Graphics/SVG/1.1/DTD/svg11.dtd\">\n<!-- Generated by graphviz version 2.43.0 (0)\n -->\n<!-- Title: %3 Pages: 1 -->\n<svg width=\"803pt\" height=\"186pt\"\n viewBox=\"0.00 0.00 803.00 186.00\" xmlns=\"http://www.w3.org/2000/svg\" xmlns:xlink=\"http://www.w3.org/1999/xlink\">\n<g id=\"graph0\" class=\"graph\" transform=\"scale(1 1) rotate(0) translate(4 182)\">\n<title>%3</title>\n<polygon fill=\"white\" stroke=\"transparent\" points=\"-4,4 -4,-182 799,-182 799,4 -4,4\"/>\n<!-- 140559189631488 -->\n<g id=\"node1\" class=\"node\">\n<title>140559189631488</title>\n<polygon fill=\"none\" stroke=\"black\" points=\"0,-131.5 0,-177.5 102,-177.5 102,-131.5 0,-131.5\"/>\n<text text-anchor=\"middle\" x=\"51\" y=\"-162.3\" font-family=\"Times,serif\" font-size=\"14.00\">a</text>\n<polyline fill=\"none\" stroke=\"black\" points=\"0,-154.5 102,-154.5 \"/>\n<text text-anchor=\"middle\" x=\"51\" y=\"-139.3\" font-family=\"Times,serif\" font-size=\"14.00\">data 2.0000</text>\n</g>\n<!-- 140559189622944* -->\n<g id=\"node8\" class=\"node\">\n<title>140559189622944*</title>\n<ellipse fill=\"none\" stroke=\"black\" cx=\"165\" cy=\"-121.5\" rx=\"27\" ry=\"18\"/>\n<text text-anchor=\"middle\" x=\"165\" y=\"-117.8\" font-family=\"Times,serif\" font-size=\"14.00\">*</text>\n</g>\n<!-- 140559189631488&#45;&gt;140559189622944* -->\n<g id=\"edge5\" class=\"edge\">\n<title>140559189631488&#45;&gt;140559189622944*</title>\n<path fill=\"none\" stroke=\"black\" d=\"M102.1,-139.74C111.67,-136.92 121.46,-134.03 130.36,-131.41\"/>\n<polygon fill=\"black\" stroke=\"black\" points=\"131.36,-134.77 139.96,-128.58 129.38,-128.05 131.36,-134.77\"/>\n</g>\n<!-- 140559189633024 -->\n<g id=\"node2\" class=\"node\">\n<title>140559189633024</title>\n<polygon fill=\"none\" stroke=\"black\" points=\"0,-66.5 0,-112.5 102,-112.5 102,-66.5 0,-66.5\"/>\n<text text-anchor=\"middle\" x=\"51\" y=\"-97.3\" font-family=\"Times,serif\" font-size=\"14.00\">b</text>\n<polyline fill=\"none\" stroke=\"black\" points=\"0,-89.5 102,-89.5 \"/>\n<text text-anchor=\"middle\" x=\"51\" y=\"-74.3\" font-family=\"Times,serif\" font-size=\"14.00\">data 3.0000</text>\n</g>\n<!-- 140559189633024&#45;&gt;140559189622944* -->\n<g id=\"edge4\" class=\"edge\">\n<title>140559189633024&#45;&gt;140559189622944*</title>\n<path fill=\"none\" stroke=\"black\" d=\"M102.1,-103.82C111.56,-106.52 121.25,-109.29 130.07,-111.81\"/>\n<polygon fill=\"black\" stroke=\"black\" points=\"129.38,-115.25 139.96,-114.63 131.3,-108.52 129.38,-115.25\"/>\n</g>\n<!-- 140559189630000 -->\n<g id=\"node3\" class=\"node\">\n<title>140559189630000</title>\n<polygon fill=\"none\" stroke=\"black\" points=\"458,-0.5 458,-46.5 565,-46.5 565,-0.5 458,-0.5\"/>\n<text text-anchor=\"middle\" x=\"511.5\" y=\"-31.3\" font-family=\"Times,serif\" font-size=\"14.00\">f</text>\n<polyline fill=\"none\" stroke=\"black\" points=\"458,-23.5 565,-23.5 \"/>\n<text text-anchor=\"middle\" x=\"511.5\" y=\"-8.3\" font-family=\"Times,serif\" font-size=\"14.00\">data &#45;2.0000</text>\n</g>\n<!-- 140559189628992+ -->\n<g id=\"node5\" class=\"node\">\n<title>140559189628992+</title>\n<ellipse fill=\"none\" stroke=\"black\" cx=\"630\" cy=\"-55.5\" rx=\"27\" ry=\"18\"/>\n<text text-anchor=\"middle\" x=\"630\" y=\"-51.8\" font-family=\"Times,serif\" font-size=\"14.00\">+</text>\n</g>\n<!-- 140559189630000&#45;&gt;140559189628992+ -->\n<g id=\"edge8\" class=\"edge\">\n<title>140559189630000&#45;&gt;140559189628992+</title>\n<path fill=\"none\" stroke=\"black\" d=\"M565.3,-38C575.27,-40.74 585.46,-43.54 594.68,-46.07\"/>\n<polygon fill=\"black\" stroke=\"black\" points=\"594.04,-49.53 604.61,-48.8 595.9,-42.78 594.04,-49.53\"/>\n</g>\n<!-- 140559189628992 -->\n<g id=\"node4\" class=\"node\">\n<title>140559189628992</title>\n<polygon fill=\"none\" stroke=\"black\" points=\"693,-32.5 693,-78.5 795,-78.5 795,-32.5 693,-32.5\"/>\n<text text-anchor=\"middle\" x=\"744\" y=\"-63.3\" font-family=\"Times,serif\" font-size=\"14.00\">L</text>\n<polyline fill=\"none\" stroke=\"black\" points=\"693,-55.5 795,-55.5 \"/>\n<text text-anchor=\"middle\" x=\"744\" y=\"-40.3\" font-family=\"Times,serif\" font-size=\"14.00\">data 8.0000</text>\n</g>\n<!-- 140559189628992+&#45;&gt;140559189628992 -->\n<g id=\"edge1\" class=\"edge\">\n<title>140559189628992+&#45;&gt;140559189628992</title>\n<path fill=\"none\" stroke=\"black\" d=\"M657.26,-55.5C664.96,-55.5 673.73,-55.5 682.64,-55.5\"/>\n<polygon fill=\"black\" stroke=\"black\" points=\"682.71,-59 692.71,-55.5 682.71,-52 682.71,-59\"/>\n</g>\n<!-- 140559189634656 -->\n<g id=\"node6\" class=\"node\">\n<title>140559189634656</title>\n<polygon fill=\"none\" stroke=\"black\" points=\"228,-33.5 228,-79.5 330,-79.5 330,-33.5 228,-33.5\"/>\n<text text-anchor=\"middle\" x=\"279\" y=\"-64.3\" font-family=\"Times,serif\" font-size=\"14.00\">c</text>\n<polyline fill=\"none\" stroke=\"black\" points=\"228,-56.5 330,-56.5 \"/>\n<text text-anchor=\"middle\" x=\"279\" y=\"-41.3\" font-family=\"Times,serif\" font-size=\"14.00\">data 4.0000</text>\n</g>\n<!-- 140559189624816+ -->\n<g id=\"node10\" class=\"node\">\n<title>140559189624816+</title>\n<ellipse fill=\"none\" stroke=\"black\" cx=\"393\" cy=\"-88.5\" rx=\"27\" ry=\"18\"/>\n<text text-anchor=\"middle\" x=\"393\" y=\"-84.8\" font-family=\"Times,serif\" font-size=\"14.00\">+</text>\n</g>\n<!-- 140559189634656&#45;&gt;140559189624816+ -->\n<g id=\"edge6\" class=\"edge\">\n<title>140559189634656&#45;&gt;140559189624816+</title>\n<path fill=\"none\" stroke=\"black\" d=\"M330.1,-70.82C339.56,-73.52 349.25,-76.29 358.07,-78.81\"/>\n<polygon fill=\"black\" stroke=\"black\" points=\"357.38,-82.25 367.96,-81.63 359.3,-75.52 357.38,-82.25\"/>\n</g>\n<!-- 140559189622944 -->\n<g id=\"node7\" class=\"node\">\n<title>140559189622944</title>\n<polygon fill=\"none\" stroke=\"black\" points=\"228,-98.5 228,-144.5 330,-144.5 330,-98.5 228,-98.5\"/>\n<text text-anchor=\"middle\" x=\"279\" y=\"-129.3\" font-family=\"Times,serif\" font-size=\"14.00\">e</text>\n<polyline fill=\"none\" stroke=\"black\" points=\"228,-121.5 330,-121.5 \"/>\n<text text-anchor=\"middle\" x=\"279\" y=\"-106.3\" font-family=\"Times,serif\" font-size=\"14.00\">data 6.0000</text>\n</g>\n<!-- 140559189622944&#45;&gt;140559189624816+ -->\n<g id=\"edge9\" class=\"edge\">\n<title>140559189622944&#45;&gt;140559189624816+</title>\n<path fill=\"none\" stroke=\"black\" d=\"M330.1,-106.74C339.67,-103.92 349.46,-101.03 358.36,-98.41\"/>\n<polygon fill=\"black\" stroke=\"black\" points=\"359.36,-101.77 367.96,-95.58 357.38,-95.05 359.36,-101.77\"/>\n</g>\n<!-- 140559189622944*&#45;&gt;140559189622944 -->\n<g id=\"edge2\" class=\"edge\">\n<title>140559189622944*&#45;&gt;140559189622944</title>\n<path fill=\"none\" stroke=\"black\" d=\"M192.26,-121.5C199.96,-121.5 208.73,-121.5 217.64,-121.5\"/>\n<polygon fill=\"black\" stroke=\"black\" points=\"217.71,-125 227.71,-121.5 217.71,-118 217.71,-125\"/>\n</g>\n<!-- 140559189624816 -->\n<g id=\"node9\" class=\"node\">\n<title>140559189624816</title>\n<polygon fill=\"none\" stroke=\"black\" points=\"456,-65.5 456,-111.5 567,-111.5 567,-65.5 456,-65.5\"/>\n<text text-anchor=\"middle\" x=\"511.5\" y=\"-96.3\" font-family=\"Times,serif\" font-size=\"14.00\">d</text>\n<polyline fill=\"none\" stroke=\"black\" points=\"456,-88.5 567,-88.5 \"/>\n<text text-anchor=\"middle\" x=\"511.5\" y=\"-73.3\" font-family=\"Times,serif\" font-size=\"14.00\">data 10.0000</text>\n</g>\n<!-- 140559189624816&#45;&gt;140559189628992+ -->\n<g id=\"edge7\" class=\"edge\">\n<title>140559189624816&#45;&gt;140559189628992+</title>\n<path fill=\"none\" stroke=\"black\" d=\"M567.34,-72.97C576.84,-70.27 586.46,-67.55 595.19,-65.08\"/>\n<polygon fill=\"black\" stroke=\"black\" points=\"596.3,-68.4 604.97,-62.31 594.39,-61.67 596.3,-68.4\"/>\n</g>\n<!-- 140559189624816+&#45;&gt;140559189624816 -->\n<g id=\"edge3\" class=\"edge\">\n<title>140559189624816+&#45;&gt;140559189624816</title>\n<path fill=\"none\" stroke=\"black\" d=\"M420.14,-88.5C427.85,-88.5 436.64,-88.5 445.64,-88.5\"/>\n<polygon fill=\"black\" stroke=\"black\" points=\"445.85,-92 455.85,-88.5 445.85,-85 445.85,-92\"/>\n</g>\n</g>\n</svg>\n",
      "text/plain": [
       "<graphviz.graphs.Digraph at 0x7fd67cafd360>"
      ]
     },
     "execution_count": 171,
     "metadata": {},
     "output_type": "execute_result"
    }
   ],
   "source": [
    "draw_dot(L)"
   ]
  },
  {
   "cell_type": "markdown",
   "metadata": {},
   "source": [
    "Grad variable"
   ]
  },
  {
   "cell_type": "code",
   "execution_count": 172,
   "metadata": {},
   "outputs": [
    {
     "data": {
      "text/plain": [
       "Value(data=-20.0)"
      ]
     },
     "execution_count": 172,
     "metadata": {},
     "output_type": "execute_result"
    }
   ],
   "source": [
    "class Value:\n",
    "\n",
    "    def __init__(self, data, _children=(), _op='', label='', ):\n",
    "        self.data = data\n",
    "        self.grad = 0.0\n",
    "        self._prev = set(_children)\n",
    "        self._op = _op\n",
    "        self.label = label\n",
    "    \n",
    "    def __repr__(self):\n",
    "        return f\"Value(data={self.data})\"\n",
    "    \n",
    "    def __add__(self, other):\n",
    "        return Value(self.data + other.data, (self, other), '+')\n",
    "    \n",
    "    def __mul__(self, other):\n",
    "        return Value(self.data * other.data, (self, other), '*')\n",
    "    \n",
    "a = Value(2.0, label='a')\n",
    "b = Value(3.0, label='b')\n",
    "c = Value(4.0, label='c')\n",
    "\n",
    "e = a*b; e.label='e'\n",
    "d = e+c; d.label = 'd'\n",
    "f = Value(-2.0, label='f')\n",
    "L = d*f; L.label='L'\n",
    "L"
   ]
  },
  {
   "cell_type": "code",
   "execution_count": 173,
   "metadata": {},
   "outputs": [],
   "source": [
    "from graphviz import Digraph\n",
    "\n",
    "def trace(root):\n",
    "    \"build a set of all nodes and edges in a graph\"\n",
    "    nodes, edges = set(), set()\n",
    "    def build(v):\n",
    "        if v not in nodes:\n",
    "            nodes.add(v)\n",
    "            for child in v._prev:\n",
    "                edges.add((child, v))\n",
    "                build(child)\n",
    "    build(root)\n",
    "    return nodes, edges\n",
    "\n",
    "def draw_dot(root):\n",
    "    dot = Digraph(format='svg', graph_attr={'rankdir': 'LR'}) #LR is left to right\n",
    "\n",
    "    nodes, edges = trace(root)\n",
    "    for n in nodes:\n",
    "        uid = str(id(n))\n",
    "        \n",
    "        #for any value in the graph, create a rectangular ('record') node\n",
    "\n",
    "        dot.node(name = uid, label = \"%s | data %.4f | grad %.4f\" %(n.label, n.data, n.grad), shape ='record')\n",
    "        if n._op:\n",
    "            #if this value is a result of some operation, create an op node for it\n",
    "            dot.node(name = uid + n._op, label = n._op)\n",
    "            #connect this node to it\n",
    "            dot.edge(uid + n._op, uid)\n",
    "\n",
    "    for n1, n2 in edges:\n",
    "        #connect n1 to op node of n2\n",
    "        dot.edge(str(id(n1)), str(id(n2)) + n2._op)\n",
    "                 \n",
    "    return dot"
   ]
  },
  {
   "cell_type": "code",
   "execution_count": 174,
   "metadata": {},
   "outputs": [
    {
     "data": {
      "image/svg+xml": "<?xml version=\"1.0\" encoding=\"UTF-8\" standalone=\"no\"?>\n<!DOCTYPE svg PUBLIC \"-//W3C//DTD SVG 1.1//EN\"\n \"http://www.w3.org/Graphics/SVG/1.1/DTD/svg11.dtd\">\n<!-- Generated by graphviz version 2.43.0 (0)\n -->\n<!-- Title: %3 Pages: 1 -->\n<svg width=\"821pt\" height=\"254pt\"\n viewBox=\"0.00 0.00 821.00 254.00\" xmlns=\"http://www.w3.org/2000/svg\" xmlns:xlink=\"http://www.w3.org/1999/xlink\">\n<g id=\"graph0\" class=\"graph\" transform=\"scale(1 1) rotate(0) translate(4 250)\">\n<title>%3</title>\n<polygon fill=\"white\" stroke=\"transparent\" points=\"-4,4 -4,-250 817,-250 817,4 -4,4\"/>\n<!-- 140559189637152 -->\n<g id=\"node1\" class=\"node\">\n<title>140559189637152</title>\n<polygon fill=\"none\" stroke=\"black\" points=\"0,-176.5 0,-245.5 104,-245.5 104,-176.5 0,-176.5\"/>\n<text text-anchor=\"middle\" x=\"52\" y=\"-230.3\" font-family=\"Times,serif\" font-size=\"14.00\">b</text>\n<polyline fill=\"none\" stroke=\"black\" points=\"0,-222.5 104,-222.5 \"/>\n<text text-anchor=\"middle\" x=\"52\" y=\"-207.3\" font-family=\"Times,serif\" font-size=\"14.00\">data 3.0000</text>\n<polyline fill=\"none\" stroke=\"black\" points=\"0,-199.5 104,-199.5 \"/>\n<text text-anchor=\"middle\" x=\"52\" y=\"-184.3\" font-family=\"Times,serif\" font-size=\"14.00\">grad 0.0000</text>\n</g>\n<!-- 140559189635568* -->\n<g id=\"node10\" class=\"node\">\n<title>140559189635568*</title>\n<ellipse fill=\"none\" stroke=\"black\" cx=\"167\" cy=\"-167\" rx=\"27\" ry=\"18\"/>\n<text text-anchor=\"middle\" x=\"167\" y=\"-163.3\" font-family=\"Times,serif\" font-size=\"14.00\">*</text>\n</g>\n<!-- 140559189637152&#45;&gt;140559189635568* -->\n<g id=\"edge8\" class=\"edge\">\n<title>140559189637152&#45;&gt;140559189635568*</title>\n<path fill=\"none\" stroke=\"black\" d=\"M104.21,-191.06C114.24,-187.15 124.5,-183.16 133.71,-179.57\"/>\n<polygon fill=\"black\" stroke=\"black\" points=\"135.17,-182.76 143.22,-175.87 132.63,-176.24 135.17,-182.76\"/>\n</g>\n<!-- 140559189630624 -->\n<g id=\"node2\" class=\"node\">\n<title>140559189630624</title>\n<polygon fill=\"none\" stroke=\"black\" points=\"697,-44.5 697,-113.5 813,-113.5 813,-44.5 697,-44.5\"/>\n<text text-anchor=\"middle\" x=\"755\" y=\"-98.3\" font-family=\"Times,serif\" font-size=\"14.00\">L</text>\n<polyline fill=\"none\" stroke=\"black\" points=\"697,-90.5 813,-90.5 \"/>\n<text text-anchor=\"middle\" x=\"755\" y=\"-75.3\" font-family=\"Times,serif\" font-size=\"14.00\">data &#45;20.0000</text>\n<polyline fill=\"none\" stroke=\"black\" points=\"697,-67.5 813,-67.5 \"/>\n<text text-anchor=\"middle\" x=\"755\" y=\"-52.3\" font-family=\"Times,serif\" font-size=\"14.00\">grad 0.0000</text>\n</g>\n<!-- 140559189630624* -->\n<g id=\"node3\" class=\"node\">\n<title>140559189630624*</title>\n<ellipse fill=\"none\" stroke=\"black\" cx=\"634\" cy=\"-79\" rx=\"27\" ry=\"18\"/>\n<text text-anchor=\"middle\" x=\"634\" y=\"-75.3\" font-family=\"Times,serif\" font-size=\"14.00\">*</text>\n</g>\n<!-- 140559189630624*&#45;&gt;140559189630624 -->\n<g id=\"edge1\" class=\"edge\">\n<title>140559189630624*&#45;&gt;140559189630624</title>\n<path fill=\"none\" stroke=\"black\" d=\"M661.12,-79C668.77,-79 677.52,-79 686.51,-79\"/>\n<polygon fill=\"black\" stroke=\"black\" points=\"686.72,-82.5 696.72,-79 686.72,-75.5 686.72,-82.5\"/>\n</g>\n<!-- 140559189635328 -->\n<g id=\"node4\" class=\"node\">\n<title>140559189635328</title>\n<polygon fill=\"none\" stroke=\"black\" points=\"0,-88.5 0,-157.5 104,-157.5 104,-88.5 0,-88.5\"/>\n<text text-anchor=\"middle\" x=\"52\" y=\"-142.3\" font-family=\"Times,serif\" font-size=\"14.00\">a</text>\n<polyline fill=\"none\" stroke=\"black\" points=\"0,-134.5 104,-134.5 \"/>\n<text text-anchor=\"middle\" x=\"52\" y=\"-119.3\" font-family=\"Times,serif\" font-size=\"14.00\">data 2.0000</text>\n<polyline fill=\"none\" stroke=\"black\" points=\"0,-111.5 104,-111.5 \"/>\n<text text-anchor=\"middle\" x=\"52\" y=\"-96.3\" font-family=\"Times,serif\" font-size=\"14.00\">grad 0.0000</text>\n</g>\n<!-- 140559189635328&#45;&gt;140559189635568* -->\n<g id=\"edge6\" class=\"edge\">\n<title>140559189635328&#45;&gt;140559189635568*</title>\n<path fill=\"none\" stroke=\"black\" d=\"M104.21,-142.94C114.24,-146.85 124.5,-150.84 133.71,-154.43\"/>\n<polygon fill=\"black\" stroke=\"black\" points=\"132.63,-157.76 143.22,-158.13 135.17,-151.24 132.63,-157.76\"/>\n</g>\n<!-- 140559189634032 -->\n<g id=\"node5\" class=\"node\">\n<title>140559189634032</title>\n<polygon fill=\"none\" stroke=\"black\" points=\"460,-88.5 460,-157.5 571,-157.5 571,-88.5 460,-88.5\"/>\n<text text-anchor=\"middle\" x=\"515.5\" y=\"-142.3\" font-family=\"Times,serif\" font-size=\"14.00\">d</text>\n<polyline fill=\"none\" stroke=\"black\" points=\"460,-134.5 571,-134.5 \"/>\n<text text-anchor=\"middle\" x=\"515.5\" y=\"-119.3\" font-family=\"Times,serif\" font-size=\"14.00\">data 10.0000</text>\n<polyline fill=\"none\" stroke=\"black\" points=\"460,-111.5 571,-111.5 \"/>\n<text text-anchor=\"middle\" x=\"515.5\" y=\"-96.3\" font-family=\"Times,serif\" font-size=\"14.00\">grad 0.0000</text>\n</g>\n<!-- 140559189634032&#45;&gt;140559189630624* -->\n<g id=\"edge5\" class=\"edge\">\n<title>140559189634032&#45;&gt;140559189630624*</title>\n<path fill=\"none\" stroke=\"black\" d=\"M571.34,-102.29C581.39,-98.49 591.58,-94.64 600.71,-91.2\"/>\n<polygon fill=\"black\" stroke=\"black\" points=\"602.01,-94.44 610.13,-87.64 599.54,-87.9 602.01,-94.44\"/>\n</g>\n<!-- 140559189634032+ -->\n<g id=\"node6\" class=\"node\">\n<title>140559189634032+</title>\n<ellipse fill=\"none\" stroke=\"black\" cx=\"397\" cy=\"-123\" rx=\"27\" ry=\"18\"/>\n<text text-anchor=\"middle\" x=\"397\" y=\"-119.3\" font-family=\"Times,serif\" font-size=\"14.00\">+</text>\n</g>\n<!-- 140559189634032+&#45;&gt;140559189634032 -->\n<g id=\"edge2\" class=\"edge\">\n<title>140559189634032+&#45;&gt;140559189634032</title>\n<path fill=\"none\" stroke=\"black\" d=\"M424.14,-123C431.85,-123 440.64,-123 449.64,-123\"/>\n<polygon fill=\"black\" stroke=\"black\" points=\"449.85,-126.5 459.85,-123 449.85,-119.5 449.85,-126.5\"/>\n</g>\n<!-- 140559189638496 -->\n<g id=\"node7\" class=\"node\">\n<title>140559189638496</title>\n<polygon fill=\"none\" stroke=\"black\" points=\"462,-0.5 462,-69.5 569,-69.5 569,-0.5 462,-0.5\"/>\n<text text-anchor=\"middle\" x=\"515.5\" y=\"-54.3\" font-family=\"Times,serif\" font-size=\"14.00\">f</text>\n<polyline fill=\"none\" stroke=\"black\" points=\"462,-46.5 569,-46.5 \"/>\n<text text-anchor=\"middle\" x=\"515.5\" y=\"-31.3\" font-family=\"Times,serif\" font-size=\"14.00\">data &#45;2.0000</text>\n<polyline fill=\"none\" stroke=\"black\" points=\"462,-23.5 569,-23.5 \"/>\n<text text-anchor=\"middle\" x=\"515.5\" y=\"-8.3\" font-family=\"Times,serif\" font-size=\"14.00\">grad 0.0000</text>\n</g>\n<!-- 140559189638496&#45;&gt;140559189630624* -->\n<g id=\"edge4\" class=\"edge\">\n<title>140559189638496&#45;&gt;140559189630624*</title>\n<path fill=\"none\" stroke=\"black\" d=\"M569.3,-54.94C579.93,-58.96 590.81,-63.07 600.5,-66.72\"/>\n<polygon fill=\"black\" stroke=\"black\" points=\"599.51,-70.09 610.1,-70.35 601.99,-63.55 599.51,-70.09\"/>\n</g>\n<!-- 140559189635520 -->\n<g id=\"node8\" class=\"node\">\n<title>140559189635520</title>\n<polygon fill=\"none\" stroke=\"black\" points=\"230,-44.5 230,-113.5 334,-113.5 334,-44.5 230,-44.5\"/>\n<text text-anchor=\"middle\" x=\"282\" y=\"-98.3\" font-family=\"Times,serif\" font-size=\"14.00\">c</text>\n<polyline fill=\"none\" stroke=\"black\" points=\"230,-90.5 334,-90.5 \"/>\n<text text-anchor=\"middle\" x=\"282\" y=\"-75.3\" font-family=\"Times,serif\" font-size=\"14.00\">data 4.0000</text>\n<polyline fill=\"none\" stroke=\"black\" points=\"230,-67.5 334,-67.5 \"/>\n<text text-anchor=\"middle\" x=\"282\" y=\"-52.3\" font-family=\"Times,serif\" font-size=\"14.00\">grad 0.0000</text>\n</g>\n<!-- 140559189635520&#45;&gt;140559189634032+ -->\n<g id=\"edge9\" class=\"edge\">\n<title>140559189635520&#45;&gt;140559189634032+</title>\n<path fill=\"none\" stroke=\"black\" d=\"M334.21,-98.94C344.24,-102.85 354.5,-106.84 363.71,-110.43\"/>\n<polygon fill=\"black\" stroke=\"black\" points=\"362.63,-113.76 373.22,-114.13 365.17,-107.24 362.63,-113.76\"/>\n</g>\n<!-- 140559189635568 -->\n<g id=\"node9\" class=\"node\">\n<title>140559189635568</title>\n<polygon fill=\"none\" stroke=\"black\" points=\"230,-132.5 230,-201.5 334,-201.5 334,-132.5 230,-132.5\"/>\n<text text-anchor=\"middle\" x=\"282\" y=\"-186.3\" font-family=\"Times,serif\" font-size=\"14.00\">e</text>\n<polyline fill=\"none\" stroke=\"black\" points=\"230,-178.5 334,-178.5 \"/>\n<text text-anchor=\"middle\" x=\"282\" y=\"-163.3\" font-family=\"Times,serif\" font-size=\"14.00\">data 6.0000</text>\n<polyline fill=\"none\" stroke=\"black\" points=\"230,-155.5 334,-155.5 \"/>\n<text text-anchor=\"middle\" x=\"282\" y=\"-140.3\" font-family=\"Times,serif\" font-size=\"14.00\">grad 0.0000</text>\n</g>\n<!-- 140559189635568&#45;&gt;140559189634032+ -->\n<g id=\"edge7\" class=\"edge\">\n<title>140559189635568&#45;&gt;140559189634032+</title>\n<path fill=\"none\" stroke=\"black\" d=\"M334.21,-147.06C344.24,-143.15 354.5,-139.16 363.71,-135.57\"/>\n<polygon fill=\"black\" stroke=\"black\" points=\"365.17,-138.76 373.22,-131.87 362.63,-132.24 365.17,-138.76\"/>\n</g>\n<!-- 140559189635568*&#45;&gt;140559189635568 -->\n<g id=\"edge3\" class=\"edge\">\n<title>140559189635568*&#45;&gt;140559189635568</title>\n<path fill=\"none\" stroke=\"black\" d=\"M194.21,-167C201.88,-167 210.62,-167 219.51,-167\"/>\n<polygon fill=\"black\" stroke=\"black\" points=\"219.58,-170.5 229.58,-167 219.58,-163.5 219.58,-170.5\"/>\n</g>\n</g>\n</svg>\n",
      "text/plain": [
       "<graphviz.graphs.Digraph at 0x7fd67cafd270>"
      ]
     },
     "execution_count": 174,
     "metadata": {},
     "output_type": "execute_result"
    }
   ],
   "source": [
    "draw_dot(L)"
   ]
  },
  {
   "cell_type": "code",
   "execution_count": 175,
   "metadata": {},
   "outputs": [],
   "source": [
    "L.grad = 1"
   ]
  },
  {
   "cell_type": "code",
   "execution_count": 176,
   "metadata": {},
   "outputs": [
    {
     "data": {
      "image/svg+xml": "<?xml version=\"1.0\" encoding=\"UTF-8\" standalone=\"no\"?>\n<!DOCTYPE svg PUBLIC \"-//W3C//DTD SVG 1.1//EN\"\n \"http://www.w3.org/Graphics/SVG/1.1/DTD/svg11.dtd\">\n<!-- Generated by graphviz version 2.43.0 (0)\n -->\n<!-- Title: %3 Pages: 1 -->\n<svg width=\"821pt\" height=\"254pt\"\n viewBox=\"0.00 0.00 821.00 254.00\" xmlns=\"http://www.w3.org/2000/svg\" xmlns:xlink=\"http://www.w3.org/1999/xlink\">\n<g id=\"graph0\" class=\"graph\" transform=\"scale(1 1) rotate(0) translate(4 250)\">\n<title>%3</title>\n<polygon fill=\"white\" stroke=\"transparent\" points=\"-4,4 -4,-250 817,-250 817,4 -4,4\"/>\n<!-- 140559189637152 -->\n<g id=\"node1\" class=\"node\">\n<title>140559189637152</title>\n<polygon fill=\"none\" stroke=\"black\" points=\"0,-176.5 0,-245.5 104,-245.5 104,-176.5 0,-176.5\"/>\n<text text-anchor=\"middle\" x=\"52\" y=\"-230.3\" font-family=\"Times,serif\" font-size=\"14.00\">b</text>\n<polyline fill=\"none\" stroke=\"black\" points=\"0,-222.5 104,-222.5 \"/>\n<text text-anchor=\"middle\" x=\"52\" y=\"-207.3\" font-family=\"Times,serif\" font-size=\"14.00\">data 3.0000</text>\n<polyline fill=\"none\" stroke=\"black\" points=\"0,-199.5 104,-199.5 \"/>\n<text text-anchor=\"middle\" x=\"52\" y=\"-184.3\" font-family=\"Times,serif\" font-size=\"14.00\">grad 0.0000</text>\n</g>\n<!-- 140559189635568* -->\n<g id=\"node10\" class=\"node\">\n<title>140559189635568*</title>\n<ellipse fill=\"none\" stroke=\"black\" cx=\"167\" cy=\"-167\" rx=\"27\" ry=\"18\"/>\n<text text-anchor=\"middle\" x=\"167\" y=\"-163.3\" font-family=\"Times,serif\" font-size=\"14.00\">*</text>\n</g>\n<!-- 140559189637152&#45;&gt;140559189635568* -->\n<g id=\"edge8\" class=\"edge\">\n<title>140559189637152&#45;&gt;140559189635568*</title>\n<path fill=\"none\" stroke=\"black\" d=\"M104.21,-191.06C114.24,-187.15 124.5,-183.16 133.71,-179.57\"/>\n<polygon fill=\"black\" stroke=\"black\" points=\"135.17,-182.76 143.22,-175.87 132.63,-176.24 135.17,-182.76\"/>\n</g>\n<!-- 140559189630624 -->\n<g id=\"node2\" class=\"node\">\n<title>140559189630624</title>\n<polygon fill=\"none\" stroke=\"black\" points=\"697,-44.5 697,-113.5 813,-113.5 813,-44.5 697,-44.5\"/>\n<text text-anchor=\"middle\" x=\"755\" y=\"-98.3\" font-family=\"Times,serif\" font-size=\"14.00\">L</text>\n<polyline fill=\"none\" stroke=\"black\" points=\"697,-90.5 813,-90.5 \"/>\n<text text-anchor=\"middle\" x=\"755\" y=\"-75.3\" font-family=\"Times,serif\" font-size=\"14.00\">data &#45;20.0000</text>\n<polyline fill=\"none\" stroke=\"black\" points=\"697,-67.5 813,-67.5 \"/>\n<text text-anchor=\"middle\" x=\"755\" y=\"-52.3\" font-family=\"Times,serif\" font-size=\"14.00\">grad 1.0000</text>\n</g>\n<!-- 140559189630624* -->\n<g id=\"node3\" class=\"node\">\n<title>140559189630624*</title>\n<ellipse fill=\"none\" stroke=\"black\" cx=\"634\" cy=\"-79\" rx=\"27\" ry=\"18\"/>\n<text text-anchor=\"middle\" x=\"634\" y=\"-75.3\" font-family=\"Times,serif\" font-size=\"14.00\">*</text>\n</g>\n<!-- 140559189630624*&#45;&gt;140559189630624 -->\n<g id=\"edge1\" class=\"edge\">\n<title>140559189630624*&#45;&gt;140559189630624</title>\n<path fill=\"none\" stroke=\"black\" d=\"M661.12,-79C668.77,-79 677.52,-79 686.51,-79\"/>\n<polygon fill=\"black\" stroke=\"black\" points=\"686.72,-82.5 696.72,-79 686.72,-75.5 686.72,-82.5\"/>\n</g>\n<!-- 140559189635328 -->\n<g id=\"node4\" class=\"node\">\n<title>140559189635328</title>\n<polygon fill=\"none\" stroke=\"black\" points=\"0,-88.5 0,-157.5 104,-157.5 104,-88.5 0,-88.5\"/>\n<text text-anchor=\"middle\" x=\"52\" y=\"-142.3\" font-family=\"Times,serif\" font-size=\"14.00\">a</text>\n<polyline fill=\"none\" stroke=\"black\" points=\"0,-134.5 104,-134.5 \"/>\n<text text-anchor=\"middle\" x=\"52\" y=\"-119.3\" font-family=\"Times,serif\" font-size=\"14.00\">data 2.0000</text>\n<polyline fill=\"none\" stroke=\"black\" points=\"0,-111.5 104,-111.5 \"/>\n<text text-anchor=\"middle\" x=\"52\" y=\"-96.3\" font-family=\"Times,serif\" font-size=\"14.00\">grad 0.0000</text>\n</g>\n<!-- 140559189635328&#45;&gt;140559189635568* -->\n<g id=\"edge6\" class=\"edge\">\n<title>140559189635328&#45;&gt;140559189635568*</title>\n<path fill=\"none\" stroke=\"black\" d=\"M104.21,-142.94C114.24,-146.85 124.5,-150.84 133.71,-154.43\"/>\n<polygon fill=\"black\" stroke=\"black\" points=\"132.63,-157.76 143.22,-158.13 135.17,-151.24 132.63,-157.76\"/>\n</g>\n<!-- 140559189634032 -->\n<g id=\"node5\" class=\"node\">\n<title>140559189634032</title>\n<polygon fill=\"none\" stroke=\"black\" points=\"460,-88.5 460,-157.5 571,-157.5 571,-88.5 460,-88.5\"/>\n<text text-anchor=\"middle\" x=\"515.5\" y=\"-142.3\" font-family=\"Times,serif\" font-size=\"14.00\">d</text>\n<polyline fill=\"none\" stroke=\"black\" points=\"460,-134.5 571,-134.5 \"/>\n<text text-anchor=\"middle\" x=\"515.5\" y=\"-119.3\" font-family=\"Times,serif\" font-size=\"14.00\">data 10.0000</text>\n<polyline fill=\"none\" stroke=\"black\" points=\"460,-111.5 571,-111.5 \"/>\n<text text-anchor=\"middle\" x=\"515.5\" y=\"-96.3\" font-family=\"Times,serif\" font-size=\"14.00\">grad 0.0000</text>\n</g>\n<!-- 140559189634032&#45;&gt;140559189630624* -->\n<g id=\"edge5\" class=\"edge\">\n<title>140559189634032&#45;&gt;140559189630624*</title>\n<path fill=\"none\" stroke=\"black\" d=\"M571.34,-102.29C581.39,-98.49 591.58,-94.64 600.71,-91.2\"/>\n<polygon fill=\"black\" stroke=\"black\" points=\"602.01,-94.44 610.13,-87.64 599.54,-87.9 602.01,-94.44\"/>\n</g>\n<!-- 140559189634032+ -->\n<g id=\"node6\" class=\"node\">\n<title>140559189634032+</title>\n<ellipse fill=\"none\" stroke=\"black\" cx=\"397\" cy=\"-123\" rx=\"27\" ry=\"18\"/>\n<text text-anchor=\"middle\" x=\"397\" y=\"-119.3\" font-family=\"Times,serif\" font-size=\"14.00\">+</text>\n</g>\n<!-- 140559189634032+&#45;&gt;140559189634032 -->\n<g id=\"edge2\" class=\"edge\">\n<title>140559189634032+&#45;&gt;140559189634032</title>\n<path fill=\"none\" stroke=\"black\" d=\"M424.14,-123C431.85,-123 440.64,-123 449.64,-123\"/>\n<polygon fill=\"black\" stroke=\"black\" points=\"449.85,-126.5 459.85,-123 449.85,-119.5 449.85,-126.5\"/>\n</g>\n<!-- 140559189638496 -->\n<g id=\"node7\" class=\"node\">\n<title>140559189638496</title>\n<polygon fill=\"none\" stroke=\"black\" points=\"462,-0.5 462,-69.5 569,-69.5 569,-0.5 462,-0.5\"/>\n<text text-anchor=\"middle\" x=\"515.5\" y=\"-54.3\" font-family=\"Times,serif\" font-size=\"14.00\">f</text>\n<polyline fill=\"none\" stroke=\"black\" points=\"462,-46.5 569,-46.5 \"/>\n<text text-anchor=\"middle\" x=\"515.5\" y=\"-31.3\" font-family=\"Times,serif\" font-size=\"14.00\">data &#45;2.0000</text>\n<polyline fill=\"none\" stroke=\"black\" points=\"462,-23.5 569,-23.5 \"/>\n<text text-anchor=\"middle\" x=\"515.5\" y=\"-8.3\" font-family=\"Times,serif\" font-size=\"14.00\">grad 0.0000</text>\n</g>\n<!-- 140559189638496&#45;&gt;140559189630624* -->\n<g id=\"edge4\" class=\"edge\">\n<title>140559189638496&#45;&gt;140559189630624*</title>\n<path fill=\"none\" stroke=\"black\" d=\"M569.3,-54.94C579.93,-58.96 590.81,-63.07 600.5,-66.72\"/>\n<polygon fill=\"black\" stroke=\"black\" points=\"599.51,-70.09 610.1,-70.35 601.99,-63.55 599.51,-70.09\"/>\n</g>\n<!-- 140559189635520 -->\n<g id=\"node8\" class=\"node\">\n<title>140559189635520</title>\n<polygon fill=\"none\" stroke=\"black\" points=\"230,-44.5 230,-113.5 334,-113.5 334,-44.5 230,-44.5\"/>\n<text text-anchor=\"middle\" x=\"282\" y=\"-98.3\" font-family=\"Times,serif\" font-size=\"14.00\">c</text>\n<polyline fill=\"none\" stroke=\"black\" points=\"230,-90.5 334,-90.5 \"/>\n<text text-anchor=\"middle\" x=\"282\" y=\"-75.3\" font-family=\"Times,serif\" font-size=\"14.00\">data 4.0000</text>\n<polyline fill=\"none\" stroke=\"black\" points=\"230,-67.5 334,-67.5 \"/>\n<text text-anchor=\"middle\" x=\"282\" y=\"-52.3\" font-family=\"Times,serif\" font-size=\"14.00\">grad 0.0000</text>\n</g>\n<!-- 140559189635520&#45;&gt;140559189634032+ -->\n<g id=\"edge9\" class=\"edge\">\n<title>140559189635520&#45;&gt;140559189634032+</title>\n<path fill=\"none\" stroke=\"black\" d=\"M334.21,-98.94C344.24,-102.85 354.5,-106.84 363.71,-110.43\"/>\n<polygon fill=\"black\" stroke=\"black\" points=\"362.63,-113.76 373.22,-114.13 365.17,-107.24 362.63,-113.76\"/>\n</g>\n<!-- 140559189635568 -->\n<g id=\"node9\" class=\"node\">\n<title>140559189635568</title>\n<polygon fill=\"none\" stroke=\"black\" points=\"230,-132.5 230,-201.5 334,-201.5 334,-132.5 230,-132.5\"/>\n<text text-anchor=\"middle\" x=\"282\" y=\"-186.3\" font-family=\"Times,serif\" font-size=\"14.00\">e</text>\n<polyline fill=\"none\" stroke=\"black\" points=\"230,-178.5 334,-178.5 \"/>\n<text text-anchor=\"middle\" x=\"282\" y=\"-163.3\" font-family=\"Times,serif\" font-size=\"14.00\">data 6.0000</text>\n<polyline fill=\"none\" stroke=\"black\" points=\"230,-155.5 334,-155.5 \"/>\n<text text-anchor=\"middle\" x=\"282\" y=\"-140.3\" font-family=\"Times,serif\" font-size=\"14.00\">grad 0.0000</text>\n</g>\n<!-- 140559189635568&#45;&gt;140559189634032+ -->\n<g id=\"edge7\" class=\"edge\">\n<title>140559189635568&#45;&gt;140559189634032+</title>\n<path fill=\"none\" stroke=\"black\" d=\"M334.21,-147.06C344.24,-143.15 354.5,-139.16 363.71,-135.57\"/>\n<polygon fill=\"black\" stroke=\"black\" points=\"365.17,-138.76 373.22,-131.87 362.63,-132.24 365.17,-138.76\"/>\n</g>\n<!-- 140559189635568*&#45;&gt;140559189635568 -->\n<g id=\"edge3\" class=\"edge\">\n<title>140559189635568*&#45;&gt;140559189635568</title>\n<path fill=\"none\" stroke=\"black\" d=\"M194.21,-167C201.88,-167 210.62,-167 219.51,-167\"/>\n<polygon fill=\"black\" stroke=\"black\" points=\"219.58,-170.5 229.58,-167 219.58,-163.5 219.58,-170.5\"/>\n</g>\n</g>\n</svg>\n",
      "text/plain": [
       "<graphviz.graphs.Digraph at 0x7fd67cdf80a0>"
      ]
     },
     "execution_count": 176,
     "metadata": {},
     "output_type": "execute_result"
    }
   ],
   "source": [
    "draw_dot(L)"
   ]
  },
  {
   "attachments": {},
   "cell_type": "markdown",
   "metadata": {},
   "source": [
    "dL/dd = ((d+h)*f - d*f)/h = f\n",
    "\n",
    "df/dd = (d*(f+h) - d*f)/h = d"
   ]
  },
  {
   "cell_type": "code",
   "execution_count": 177,
   "metadata": {},
   "outputs": [],
   "source": [
    "d.grad = f.data\n",
    "f.grad = d.data"
   ]
  },
  {
   "cell_type": "code",
   "execution_count": 178,
   "metadata": {},
   "outputs": [
    {
     "data": {
      "image/svg+xml": "<?xml version=\"1.0\" encoding=\"UTF-8\" standalone=\"no\"?>\n<!DOCTYPE svg PUBLIC \"-//W3C//DTD SVG 1.1//EN\"\n \"http://www.w3.org/Graphics/SVG/1.1/DTD/svg11.dtd\">\n<!-- Generated by graphviz version 2.43.0 (0)\n -->\n<!-- Title: %3 Pages: 1 -->\n<svg width=\"823pt\" height=\"254pt\"\n viewBox=\"0.00 0.00 823.00 254.00\" xmlns=\"http://www.w3.org/2000/svg\" xmlns:xlink=\"http://www.w3.org/1999/xlink\">\n<g id=\"graph0\" class=\"graph\" transform=\"scale(1 1) rotate(0) translate(4 250)\">\n<title>%3</title>\n<polygon fill=\"white\" stroke=\"transparent\" points=\"-4,4 -4,-250 819,-250 819,4 -4,4\"/>\n<!-- 140559189637152 -->\n<g id=\"node1\" class=\"node\">\n<title>140559189637152</title>\n<polygon fill=\"none\" stroke=\"black\" points=\"0,-176.5 0,-245.5 104,-245.5 104,-176.5 0,-176.5\"/>\n<text text-anchor=\"middle\" x=\"52\" y=\"-230.3\" font-family=\"Times,serif\" font-size=\"14.00\">b</text>\n<polyline fill=\"none\" stroke=\"black\" points=\"0,-222.5 104,-222.5 \"/>\n<text text-anchor=\"middle\" x=\"52\" y=\"-207.3\" font-family=\"Times,serif\" font-size=\"14.00\">data 3.0000</text>\n<polyline fill=\"none\" stroke=\"black\" points=\"0,-199.5 104,-199.5 \"/>\n<text text-anchor=\"middle\" x=\"52\" y=\"-184.3\" font-family=\"Times,serif\" font-size=\"14.00\">grad 0.0000</text>\n</g>\n<!-- 140559189635568* -->\n<g id=\"node10\" class=\"node\">\n<title>140559189635568*</title>\n<ellipse fill=\"none\" stroke=\"black\" cx=\"167\" cy=\"-167\" rx=\"27\" ry=\"18\"/>\n<text text-anchor=\"middle\" x=\"167\" y=\"-163.3\" font-family=\"Times,serif\" font-size=\"14.00\">*</text>\n</g>\n<!-- 140559189637152&#45;&gt;140559189635568* -->\n<g id=\"edge8\" class=\"edge\">\n<title>140559189637152&#45;&gt;140559189635568*</title>\n<path fill=\"none\" stroke=\"black\" d=\"M104.21,-191.06C114.24,-187.15 124.5,-183.16 133.71,-179.57\"/>\n<polygon fill=\"black\" stroke=\"black\" points=\"135.17,-182.76 143.22,-175.87 132.63,-176.24 135.17,-182.76\"/>\n</g>\n<!-- 140559189630624 -->\n<g id=\"node2\" class=\"node\">\n<title>140559189630624</title>\n<polygon fill=\"none\" stroke=\"black\" points=\"699,-44.5 699,-113.5 815,-113.5 815,-44.5 699,-44.5\"/>\n<text text-anchor=\"middle\" x=\"757\" y=\"-98.3\" font-family=\"Times,serif\" font-size=\"14.00\">L</text>\n<polyline fill=\"none\" stroke=\"black\" points=\"699,-90.5 815,-90.5 \"/>\n<text text-anchor=\"middle\" x=\"757\" y=\"-75.3\" font-family=\"Times,serif\" font-size=\"14.00\">data &#45;20.0000</text>\n<polyline fill=\"none\" stroke=\"black\" points=\"699,-67.5 815,-67.5 \"/>\n<text text-anchor=\"middle\" x=\"757\" y=\"-52.3\" font-family=\"Times,serif\" font-size=\"14.00\">grad 1.0000</text>\n</g>\n<!-- 140559189630624* -->\n<g id=\"node3\" class=\"node\">\n<title>140559189630624*</title>\n<ellipse fill=\"none\" stroke=\"black\" cx=\"636\" cy=\"-79\" rx=\"27\" ry=\"18\"/>\n<text text-anchor=\"middle\" x=\"636\" y=\"-75.3\" font-family=\"Times,serif\" font-size=\"14.00\">*</text>\n</g>\n<!-- 140559189630624*&#45;&gt;140559189630624 -->\n<g id=\"edge1\" class=\"edge\">\n<title>140559189630624*&#45;&gt;140559189630624</title>\n<path fill=\"none\" stroke=\"black\" d=\"M663.12,-79C670.77,-79 679.52,-79 688.51,-79\"/>\n<polygon fill=\"black\" stroke=\"black\" points=\"688.72,-82.5 698.72,-79 688.72,-75.5 688.72,-82.5\"/>\n</g>\n<!-- 140559189635328 -->\n<g id=\"node4\" class=\"node\">\n<title>140559189635328</title>\n<polygon fill=\"none\" stroke=\"black\" points=\"0,-88.5 0,-157.5 104,-157.5 104,-88.5 0,-88.5\"/>\n<text text-anchor=\"middle\" x=\"52\" y=\"-142.3\" font-family=\"Times,serif\" font-size=\"14.00\">a</text>\n<polyline fill=\"none\" stroke=\"black\" points=\"0,-134.5 104,-134.5 \"/>\n<text text-anchor=\"middle\" x=\"52\" y=\"-119.3\" font-family=\"Times,serif\" font-size=\"14.00\">data 2.0000</text>\n<polyline fill=\"none\" stroke=\"black\" points=\"0,-111.5 104,-111.5 \"/>\n<text text-anchor=\"middle\" x=\"52\" y=\"-96.3\" font-family=\"Times,serif\" font-size=\"14.00\">grad 0.0000</text>\n</g>\n<!-- 140559189635328&#45;&gt;140559189635568* -->\n<g id=\"edge6\" class=\"edge\">\n<title>140559189635328&#45;&gt;140559189635568*</title>\n<path fill=\"none\" stroke=\"black\" d=\"M104.21,-142.94C114.24,-146.85 124.5,-150.84 133.71,-154.43\"/>\n<polygon fill=\"black\" stroke=\"black\" points=\"132.63,-157.76 143.22,-158.13 135.17,-151.24 132.63,-157.76\"/>\n</g>\n<!-- 140559189634032 -->\n<g id=\"node5\" class=\"node\">\n<title>140559189634032</title>\n<polygon fill=\"none\" stroke=\"black\" points=\"461,-88.5 461,-157.5 572,-157.5 572,-88.5 461,-88.5\"/>\n<text text-anchor=\"middle\" x=\"516.5\" y=\"-142.3\" font-family=\"Times,serif\" font-size=\"14.00\">d</text>\n<polyline fill=\"none\" stroke=\"black\" points=\"461,-134.5 572,-134.5 \"/>\n<text text-anchor=\"middle\" x=\"516.5\" y=\"-119.3\" font-family=\"Times,serif\" font-size=\"14.00\">data 10.0000</text>\n<polyline fill=\"none\" stroke=\"black\" points=\"461,-111.5 572,-111.5 \"/>\n<text text-anchor=\"middle\" x=\"516.5\" y=\"-96.3\" font-family=\"Times,serif\" font-size=\"14.00\">grad &#45;2.0000</text>\n</g>\n<!-- 140559189634032&#45;&gt;140559189630624* -->\n<g id=\"edge5\" class=\"edge\">\n<title>140559189634032&#45;&gt;140559189630624*</title>\n<path fill=\"none\" stroke=\"black\" d=\"M572.12,-102.55C582.62,-98.61 593.29,-94.62 602.79,-91.06\"/>\n<polygon fill=\"black\" stroke=\"black\" points=\"604.08,-94.32 612.21,-87.53 601.62,-87.76 604.08,-94.32\"/>\n</g>\n<!-- 140559189634032+ -->\n<g id=\"node6\" class=\"node\">\n<title>140559189634032+</title>\n<ellipse fill=\"none\" stroke=\"black\" cx=\"397\" cy=\"-123\" rx=\"27\" ry=\"18\"/>\n<text text-anchor=\"middle\" x=\"397\" y=\"-119.3\" font-family=\"Times,serif\" font-size=\"14.00\">+</text>\n</g>\n<!-- 140559189634032+&#45;&gt;140559189634032 -->\n<g id=\"edge2\" class=\"edge\">\n<title>140559189634032+&#45;&gt;140559189634032</title>\n<path fill=\"none\" stroke=\"black\" d=\"M424.08,-123C432.02,-123 441.13,-123 450.46,-123\"/>\n<polygon fill=\"black\" stroke=\"black\" points=\"450.62,-126.5 460.62,-123 450.62,-119.5 450.62,-126.5\"/>\n</g>\n<!-- 140559189638496 -->\n<g id=\"node7\" class=\"node\">\n<title>140559189638496</title>\n<polygon fill=\"none\" stroke=\"black\" points=\"460,-0.5 460,-69.5 573,-69.5 573,-0.5 460,-0.5\"/>\n<text text-anchor=\"middle\" x=\"516.5\" y=\"-54.3\" font-family=\"Times,serif\" font-size=\"14.00\">f</text>\n<polyline fill=\"none\" stroke=\"black\" points=\"460,-46.5 573,-46.5 \"/>\n<text text-anchor=\"middle\" x=\"516.5\" y=\"-31.3\" font-family=\"Times,serif\" font-size=\"14.00\">data &#45;2.0000</text>\n<polyline fill=\"none\" stroke=\"black\" points=\"460,-23.5 573,-23.5 \"/>\n<text text-anchor=\"middle\" x=\"516.5\" y=\"-8.3\" font-family=\"Times,serif\" font-size=\"14.00\">grad 10.0000</text>\n</g>\n<!-- 140559189638496&#45;&gt;140559189630624* -->\n<g id=\"edge4\" class=\"edge\">\n<title>140559189638496&#45;&gt;140559189630624*</title>\n<path fill=\"none\" stroke=\"black\" d=\"M573.15,-55.84C583.26,-59.62 593.49,-63.46 602.64,-66.88\"/>\n<polygon fill=\"black\" stroke=\"black\" points=\"601.5,-70.19 612.09,-70.42 603.95,-63.64 601.5,-70.19\"/>\n</g>\n<!-- 140559189635520 -->\n<g id=\"node8\" class=\"node\">\n<title>140559189635520</title>\n<polygon fill=\"none\" stroke=\"black\" points=\"230,-44.5 230,-113.5 334,-113.5 334,-44.5 230,-44.5\"/>\n<text text-anchor=\"middle\" x=\"282\" y=\"-98.3\" font-family=\"Times,serif\" font-size=\"14.00\">c</text>\n<polyline fill=\"none\" stroke=\"black\" points=\"230,-90.5 334,-90.5 \"/>\n<text text-anchor=\"middle\" x=\"282\" y=\"-75.3\" font-family=\"Times,serif\" font-size=\"14.00\">data 4.0000</text>\n<polyline fill=\"none\" stroke=\"black\" points=\"230,-67.5 334,-67.5 \"/>\n<text text-anchor=\"middle\" x=\"282\" y=\"-52.3\" font-family=\"Times,serif\" font-size=\"14.00\">grad 0.0000</text>\n</g>\n<!-- 140559189635520&#45;&gt;140559189634032+ -->\n<g id=\"edge9\" class=\"edge\">\n<title>140559189635520&#45;&gt;140559189634032+</title>\n<path fill=\"none\" stroke=\"black\" d=\"M334.21,-98.94C344.24,-102.85 354.5,-106.84 363.71,-110.43\"/>\n<polygon fill=\"black\" stroke=\"black\" points=\"362.63,-113.76 373.22,-114.13 365.17,-107.24 362.63,-113.76\"/>\n</g>\n<!-- 140559189635568 -->\n<g id=\"node9\" class=\"node\">\n<title>140559189635568</title>\n<polygon fill=\"none\" stroke=\"black\" points=\"230,-132.5 230,-201.5 334,-201.5 334,-132.5 230,-132.5\"/>\n<text text-anchor=\"middle\" x=\"282\" y=\"-186.3\" font-family=\"Times,serif\" font-size=\"14.00\">e</text>\n<polyline fill=\"none\" stroke=\"black\" points=\"230,-178.5 334,-178.5 \"/>\n<text text-anchor=\"middle\" x=\"282\" y=\"-163.3\" font-family=\"Times,serif\" font-size=\"14.00\">data 6.0000</text>\n<polyline fill=\"none\" stroke=\"black\" points=\"230,-155.5 334,-155.5 \"/>\n<text text-anchor=\"middle\" x=\"282\" y=\"-140.3\" font-family=\"Times,serif\" font-size=\"14.00\">grad 0.0000</text>\n</g>\n<!-- 140559189635568&#45;&gt;140559189634032+ -->\n<g id=\"edge7\" class=\"edge\">\n<title>140559189635568&#45;&gt;140559189634032+</title>\n<path fill=\"none\" stroke=\"black\" d=\"M334.21,-147.06C344.24,-143.15 354.5,-139.16 363.71,-135.57\"/>\n<polygon fill=\"black\" stroke=\"black\" points=\"365.17,-138.76 373.22,-131.87 362.63,-132.24 365.17,-138.76\"/>\n</g>\n<!-- 140559189635568*&#45;&gt;140559189635568 -->\n<g id=\"edge3\" class=\"edge\">\n<title>140559189635568*&#45;&gt;140559189635568</title>\n<path fill=\"none\" stroke=\"black\" d=\"M194.21,-167C201.88,-167 210.62,-167 219.51,-167\"/>\n<polygon fill=\"black\" stroke=\"black\" points=\"219.58,-170.5 229.58,-167 219.58,-163.5 219.58,-170.5\"/>\n</g>\n</g>\n</svg>\n",
      "text/plain": [
       "<graphviz.graphs.Digraph at 0x7fd67cafd2a0>"
      ]
     },
     "execution_count": 178,
     "metadata": {},
     "output_type": "execute_result"
    }
   ],
   "source": [
    "draw_dot(L)"
   ]
  },
  {
   "attachments": {},
   "cell_type": "markdown",
   "metadata": {},
   "source": [
    "##### BackProp of gradients"
   ]
  },
  {
   "attachments": {},
   "cell_type": "markdown",
   "metadata": {},
   "source": [
    "dL/dc?\n",
    "\n",
    "Local derivatives::\n",
    "\n",
    "dd/dc = 1.0; since d = c + e\n",
    "\n",
    "dd/de = 1.0\n",
    "\n",
    "Chain rule::\n",
    "\n",
    "dL/dc = dL/dd * dd/dc\n"
   ]
  },
  {
   "cell_type": "code",
   "execution_count": 179,
   "metadata": {},
   "outputs": [],
   "source": [
    "c.grad = 1.0 * -2.0\n",
    "e.grad = 1.0 * -2.0"
   ]
  },
  {
   "cell_type": "code",
   "execution_count": 180,
   "metadata": {},
   "outputs": [
    {
     "data": {
      "image/svg+xml": "<?xml version=\"1.0\" encoding=\"UTF-8\" standalone=\"no\"?>\n<!DOCTYPE svg PUBLIC \"-//W3C//DTD SVG 1.1//EN\"\n \"http://www.w3.org/Graphics/SVG/1.1/DTD/svg11.dtd\">\n<!-- Generated by graphviz version 2.43.0 (0)\n -->\n<!-- Title: %3 Pages: 1 -->\n<svg width=\"827pt\" height=\"254pt\"\n viewBox=\"0.00 0.00 827.00 254.00\" xmlns=\"http://www.w3.org/2000/svg\" xmlns:xlink=\"http://www.w3.org/1999/xlink\">\n<g id=\"graph0\" class=\"graph\" transform=\"scale(1 1) rotate(0) translate(4 250)\">\n<title>%3</title>\n<polygon fill=\"white\" stroke=\"transparent\" points=\"-4,4 -4,-250 823,-250 823,4 -4,4\"/>\n<!-- 140559189637152 -->\n<g id=\"node1\" class=\"node\">\n<title>140559189637152</title>\n<polygon fill=\"none\" stroke=\"black\" points=\"0,-176.5 0,-245.5 104,-245.5 104,-176.5 0,-176.5\"/>\n<text text-anchor=\"middle\" x=\"52\" y=\"-230.3\" font-family=\"Times,serif\" font-size=\"14.00\">b</text>\n<polyline fill=\"none\" stroke=\"black\" points=\"0,-222.5 104,-222.5 \"/>\n<text text-anchor=\"middle\" x=\"52\" y=\"-207.3\" font-family=\"Times,serif\" font-size=\"14.00\">data 3.0000</text>\n<polyline fill=\"none\" stroke=\"black\" points=\"0,-199.5 104,-199.5 \"/>\n<text text-anchor=\"middle\" x=\"52\" y=\"-184.3\" font-family=\"Times,serif\" font-size=\"14.00\">grad 0.0000</text>\n</g>\n<!-- 140559189635568* -->\n<g id=\"node10\" class=\"node\">\n<title>140559189635568*</title>\n<ellipse fill=\"none\" stroke=\"black\" cx=\"167\" cy=\"-167\" rx=\"27\" ry=\"18\"/>\n<text text-anchor=\"middle\" x=\"167\" y=\"-163.3\" font-family=\"Times,serif\" font-size=\"14.00\">*</text>\n</g>\n<!-- 140559189637152&#45;&gt;140559189635568* -->\n<g id=\"edge8\" class=\"edge\">\n<title>140559189637152&#45;&gt;140559189635568*</title>\n<path fill=\"none\" stroke=\"black\" d=\"M104.21,-191.06C114.24,-187.15 124.5,-183.16 133.71,-179.57\"/>\n<polygon fill=\"black\" stroke=\"black\" points=\"135.17,-182.76 143.22,-175.87 132.63,-176.24 135.17,-182.76\"/>\n</g>\n<!-- 140559189630624 -->\n<g id=\"node2\" class=\"node\">\n<title>140559189630624</title>\n<polygon fill=\"none\" stroke=\"black\" points=\"703,-44.5 703,-113.5 819,-113.5 819,-44.5 703,-44.5\"/>\n<text text-anchor=\"middle\" x=\"761\" y=\"-98.3\" font-family=\"Times,serif\" font-size=\"14.00\">L</text>\n<polyline fill=\"none\" stroke=\"black\" points=\"703,-90.5 819,-90.5 \"/>\n<text text-anchor=\"middle\" x=\"761\" y=\"-75.3\" font-family=\"Times,serif\" font-size=\"14.00\">data &#45;20.0000</text>\n<polyline fill=\"none\" stroke=\"black\" points=\"703,-67.5 819,-67.5 \"/>\n<text text-anchor=\"middle\" x=\"761\" y=\"-52.3\" font-family=\"Times,serif\" font-size=\"14.00\">grad 1.0000</text>\n</g>\n<!-- 140559189630624* -->\n<g id=\"node3\" class=\"node\">\n<title>140559189630624*</title>\n<ellipse fill=\"none\" stroke=\"black\" cx=\"640\" cy=\"-79\" rx=\"27\" ry=\"18\"/>\n<text text-anchor=\"middle\" x=\"640\" y=\"-75.3\" font-family=\"Times,serif\" font-size=\"14.00\">*</text>\n</g>\n<!-- 140559189630624*&#45;&gt;140559189630624 -->\n<g id=\"edge1\" class=\"edge\">\n<title>140559189630624*&#45;&gt;140559189630624</title>\n<path fill=\"none\" stroke=\"black\" d=\"M667.12,-79C674.77,-79 683.52,-79 692.51,-79\"/>\n<polygon fill=\"black\" stroke=\"black\" points=\"692.72,-82.5 702.72,-79 692.72,-75.5 692.72,-82.5\"/>\n</g>\n<!-- 140559189635328 -->\n<g id=\"node4\" class=\"node\">\n<title>140559189635328</title>\n<polygon fill=\"none\" stroke=\"black\" points=\"0,-88.5 0,-157.5 104,-157.5 104,-88.5 0,-88.5\"/>\n<text text-anchor=\"middle\" x=\"52\" y=\"-142.3\" font-family=\"Times,serif\" font-size=\"14.00\">a</text>\n<polyline fill=\"none\" stroke=\"black\" points=\"0,-134.5 104,-134.5 \"/>\n<text text-anchor=\"middle\" x=\"52\" y=\"-119.3\" font-family=\"Times,serif\" font-size=\"14.00\">data 2.0000</text>\n<polyline fill=\"none\" stroke=\"black\" points=\"0,-111.5 104,-111.5 \"/>\n<text text-anchor=\"middle\" x=\"52\" y=\"-96.3\" font-family=\"Times,serif\" font-size=\"14.00\">grad 0.0000</text>\n</g>\n<!-- 140559189635328&#45;&gt;140559189635568* -->\n<g id=\"edge6\" class=\"edge\">\n<title>140559189635328&#45;&gt;140559189635568*</title>\n<path fill=\"none\" stroke=\"black\" d=\"M104.21,-142.94C114.24,-146.85 124.5,-150.84 133.71,-154.43\"/>\n<polygon fill=\"black\" stroke=\"black\" points=\"132.63,-157.76 143.22,-158.13 135.17,-151.24 132.63,-157.76\"/>\n</g>\n<!-- 140559189634032 -->\n<g id=\"node5\" class=\"node\">\n<title>140559189634032</title>\n<polygon fill=\"none\" stroke=\"black\" points=\"465,-88.5 465,-157.5 576,-157.5 576,-88.5 465,-88.5\"/>\n<text text-anchor=\"middle\" x=\"520.5\" y=\"-142.3\" font-family=\"Times,serif\" font-size=\"14.00\">d</text>\n<polyline fill=\"none\" stroke=\"black\" points=\"465,-134.5 576,-134.5 \"/>\n<text text-anchor=\"middle\" x=\"520.5\" y=\"-119.3\" font-family=\"Times,serif\" font-size=\"14.00\">data 10.0000</text>\n<polyline fill=\"none\" stroke=\"black\" points=\"465,-111.5 576,-111.5 \"/>\n<text text-anchor=\"middle\" x=\"520.5\" y=\"-96.3\" font-family=\"Times,serif\" font-size=\"14.00\">grad &#45;2.0000</text>\n</g>\n<!-- 140559189634032&#45;&gt;140559189630624* -->\n<g id=\"edge5\" class=\"edge\">\n<title>140559189634032&#45;&gt;140559189630624*</title>\n<path fill=\"none\" stroke=\"black\" d=\"M576.12,-102.55C586.62,-98.61 597.29,-94.62 606.79,-91.06\"/>\n<polygon fill=\"black\" stroke=\"black\" points=\"608.08,-94.32 616.21,-87.53 605.62,-87.76 608.08,-94.32\"/>\n</g>\n<!-- 140559189634032+ -->\n<g id=\"node6\" class=\"node\">\n<title>140559189634032+</title>\n<ellipse fill=\"none\" stroke=\"black\" cx=\"401\" cy=\"-123\" rx=\"27\" ry=\"18\"/>\n<text text-anchor=\"middle\" x=\"401\" y=\"-119.3\" font-family=\"Times,serif\" font-size=\"14.00\">+</text>\n</g>\n<!-- 140559189634032+&#45;&gt;140559189634032 -->\n<g id=\"edge2\" class=\"edge\">\n<title>140559189634032+&#45;&gt;140559189634032</title>\n<path fill=\"none\" stroke=\"black\" d=\"M428.08,-123C436.02,-123 445.13,-123 454.46,-123\"/>\n<polygon fill=\"black\" stroke=\"black\" points=\"454.62,-126.5 464.62,-123 454.62,-119.5 454.62,-126.5\"/>\n</g>\n<!-- 140559189638496 -->\n<g id=\"node7\" class=\"node\">\n<title>140559189638496</title>\n<polygon fill=\"none\" stroke=\"black\" points=\"464,-0.5 464,-69.5 577,-69.5 577,-0.5 464,-0.5\"/>\n<text text-anchor=\"middle\" x=\"520.5\" y=\"-54.3\" font-family=\"Times,serif\" font-size=\"14.00\">f</text>\n<polyline fill=\"none\" stroke=\"black\" points=\"464,-46.5 577,-46.5 \"/>\n<text text-anchor=\"middle\" x=\"520.5\" y=\"-31.3\" font-family=\"Times,serif\" font-size=\"14.00\">data &#45;2.0000</text>\n<polyline fill=\"none\" stroke=\"black\" points=\"464,-23.5 577,-23.5 \"/>\n<text text-anchor=\"middle\" x=\"520.5\" y=\"-8.3\" font-family=\"Times,serif\" font-size=\"14.00\">grad 10.0000</text>\n</g>\n<!-- 140559189638496&#45;&gt;140559189630624* -->\n<g id=\"edge4\" class=\"edge\">\n<title>140559189638496&#45;&gt;140559189630624*</title>\n<path fill=\"none\" stroke=\"black\" d=\"M577.15,-55.84C587.26,-59.62 597.49,-63.46 606.64,-66.88\"/>\n<polygon fill=\"black\" stroke=\"black\" points=\"605.5,-70.19 616.09,-70.42 607.95,-63.64 605.5,-70.19\"/>\n</g>\n<!-- 140559189635520 -->\n<g id=\"node8\" class=\"node\">\n<title>140559189635520</title>\n<polygon fill=\"none\" stroke=\"black\" points=\"230,-44.5 230,-113.5 338,-113.5 338,-44.5 230,-44.5\"/>\n<text text-anchor=\"middle\" x=\"284\" y=\"-98.3\" font-family=\"Times,serif\" font-size=\"14.00\">c</text>\n<polyline fill=\"none\" stroke=\"black\" points=\"230,-90.5 338,-90.5 \"/>\n<text text-anchor=\"middle\" x=\"284\" y=\"-75.3\" font-family=\"Times,serif\" font-size=\"14.00\">data 4.0000</text>\n<polyline fill=\"none\" stroke=\"black\" points=\"230,-67.5 338,-67.5 \"/>\n<text text-anchor=\"middle\" x=\"284\" y=\"-52.3\" font-family=\"Times,serif\" font-size=\"14.00\">grad &#45;2.0000</text>\n</g>\n<!-- 140559189635520&#45;&gt;140559189634032+ -->\n<g id=\"edge9\" class=\"edge\">\n<title>140559189635520&#45;&gt;140559189634032+</title>\n<path fill=\"none\" stroke=\"black\" d=\"M338.12,-99.33C348.24,-103.2 358.53,-107.13 367.75,-110.66\"/>\n<polygon fill=\"black\" stroke=\"black\" points=\"366.67,-114 377.26,-114.3 369.17,-107.46 366.67,-114\"/>\n</g>\n<!-- 140559189635568 -->\n<g id=\"node9\" class=\"node\">\n<title>140559189635568</title>\n<polygon fill=\"none\" stroke=\"black\" points=\"230,-132.5 230,-201.5 338,-201.5 338,-132.5 230,-132.5\"/>\n<text text-anchor=\"middle\" x=\"284\" y=\"-186.3\" font-family=\"Times,serif\" font-size=\"14.00\">e</text>\n<polyline fill=\"none\" stroke=\"black\" points=\"230,-178.5 338,-178.5 \"/>\n<text text-anchor=\"middle\" x=\"284\" y=\"-163.3\" font-family=\"Times,serif\" font-size=\"14.00\">data 6.0000</text>\n<polyline fill=\"none\" stroke=\"black\" points=\"230,-155.5 338,-155.5 \"/>\n<text text-anchor=\"middle\" x=\"284\" y=\"-140.3\" font-family=\"Times,serif\" font-size=\"14.00\">grad &#45;2.0000</text>\n</g>\n<!-- 140559189635568&#45;&gt;140559189634032+ -->\n<g id=\"edge7\" class=\"edge\">\n<title>140559189635568&#45;&gt;140559189634032+</title>\n<path fill=\"none\" stroke=\"black\" d=\"M338.12,-146.67C348.24,-142.8 358.53,-138.87 367.75,-135.34\"/>\n<polygon fill=\"black\" stroke=\"black\" points=\"369.17,-138.54 377.26,-131.7 366.67,-132 369.17,-138.54\"/>\n</g>\n<!-- 140559189635568*&#45;&gt;140559189635568 -->\n<g id=\"edge3\" class=\"edge\">\n<title>140559189635568*&#45;&gt;140559189635568</title>\n<path fill=\"none\" stroke=\"black\" d=\"M194.1,-167C201.8,-167 210.59,-167 219.57,-167\"/>\n<polygon fill=\"black\" stroke=\"black\" points=\"219.75,-170.5 229.75,-167 219.75,-163.5 219.75,-170.5\"/>\n</g>\n</g>\n</svg>\n",
      "text/plain": [
       "<graphviz.graphs.Digraph at 0x7fd67cdf83a0>"
      ]
     },
     "execution_count": 180,
     "metadata": {},
     "output_type": "execute_result"
    }
   ],
   "source": [
    "draw_dot(L)"
   ]
  },
  {
   "cell_type": "markdown",
   "metadata": {},
   "source": [
    "dL/da = dL/de * de/da"
   ]
  },
  {
   "cell_type": "code",
   "execution_count": 181,
   "metadata": {},
   "outputs": [],
   "source": [
    "a.grad = -2.0 * 3\n",
    "b.grad = -2.0 * 2"
   ]
  },
  {
   "cell_type": "code",
   "execution_count": 182,
   "metadata": {},
   "outputs": [
    {
     "data": {
      "image/svg+xml": "<?xml version=\"1.0\" encoding=\"UTF-8\" standalone=\"no\"?>\n<!DOCTYPE svg PUBLIC \"-//W3C//DTD SVG 1.1//EN\"\n \"http://www.w3.org/Graphics/SVG/1.1/DTD/svg11.dtd\">\n<!-- Generated by graphviz version 2.43.0 (0)\n -->\n<!-- Title: %3 Pages: 1 -->\n<svg width=\"831pt\" height=\"254pt\"\n viewBox=\"0.00 0.00 831.00 254.00\" xmlns=\"http://www.w3.org/2000/svg\" xmlns:xlink=\"http://www.w3.org/1999/xlink\">\n<g id=\"graph0\" class=\"graph\" transform=\"scale(1 1) rotate(0) translate(4 250)\">\n<title>%3</title>\n<polygon fill=\"white\" stroke=\"transparent\" points=\"-4,4 -4,-250 827,-250 827,4 -4,4\"/>\n<!-- 140559189637152 -->\n<g id=\"node1\" class=\"node\">\n<title>140559189637152</title>\n<polygon fill=\"none\" stroke=\"black\" points=\"0,-176.5 0,-245.5 108,-245.5 108,-176.5 0,-176.5\"/>\n<text text-anchor=\"middle\" x=\"54\" y=\"-230.3\" font-family=\"Times,serif\" font-size=\"14.00\">b</text>\n<polyline fill=\"none\" stroke=\"black\" points=\"0,-222.5 108,-222.5 \"/>\n<text text-anchor=\"middle\" x=\"54\" y=\"-207.3\" font-family=\"Times,serif\" font-size=\"14.00\">data 3.0000</text>\n<polyline fill=\"none\" stroke=\"black\" points=\"0,-199.5 108,-199.5 \"/>\n<text text-anchor=\"middle\" x=\"54\" y=\"-184.3\" font-family=\"Times,serif\" font-size=\"14.00\">grad &#45;4.0000</text>\n</g>\n<!-- 140559189635568* -->\n<g id=\"node10\" class=\"node\">\n<title>140559189635568*</title>\n<ellipse fill=\"none\" stroke=\"black\" cx=\"171\" cy=\"-167\" rx=\"27\" ry=\"18\"/>\n<text text-anchor=\"middle\" x=\"171\" y=\"-163.3\" font-family=\"Times,serif\" font-size=\"14.00\">*</text>\n</g>\n<!-- 140559189637152&#45;&gt;140559189635568* -->\n<g id=\"edge8\" class=\"edge\">\n<title>140559189637152&#45;&gt;140559189635568*</title>\n<path fill=\"none\" stroke=\"black\" d=\"M108.12,-190.67C118.24,-186.8 128.53,-182.87 137.75,-179.34\"/>\n<polygon fill=\"black\" stroke=\"black\" points=\"139.17,-182.54 147.26,-175.7 136.67,-176 139.17,-182.54\"/>\n</g>\n<!-- 140559189630624 -->\n<g id=\"node2\" class=\"node\">\n<title>140559189630624</title>\n<polygon fill=\"none\" stroke=\"black\" points=\"707,-44.5 707,-113.5 823,-113.5 823,-44.5 707,-44.5\"/>\n<text text-anchor=\"middle\" x=\"765\" y=\"-98.3\" font-family=\"Times,serif\" font-size=\"14.00\">L</text>\n<polyline fill=\"none\" stroke=\"black\" points=\"707,-90.5 823,-90.5 \"/>\n<text text-anchor=\"middle\" x=\"765\" y=\"-75.3\" font-family=\"Times,serif\" font-size=\"14.00\">data &#45;20.0000</text>\n<polyline fill=\"none\" stroke=\"black\" points=\"707,-67.5 823,-67.5 \"/>\n<text text-anchor=\"middle\" x=\"765\" y=\"-52.3\" font-family=\"Times,serif\" font-size=\"14.00\">grad 1.0000</text>\n</g>\n<!-- 140559189630624* -->\n<g id=\"node3\" class=\"node\">\n<title>140559189630624*</title>\n<ellipse fill=\"none\" stroke=\"black\" cx=\"644\" cy=\"-79\" rx=\"27\" ry=\"18\"/>\n<text text-anchor=\"middle\" x=\"644\" y=\"-75.3\" font-family=\"Times,serif\" font-size=\"14.00\">*</text>\n</g>\n<!-- 140559189630624*&#45;&gt;140559189630624 -->\n<g id=\"edge1\" class=\"edge\">\n<title>140559189630624*&#45;&gt;140559189630624</title>\n<path fill=\"none\" stroke=\"black\" d=\"M671.12,-79C678.77,-79 687.52,-79 696.51,-79\"/>\n<polygon fill=\"black\" stroke=\"black\" points=\"696.72,-82.5 706.72,-79 696.72,-75.5 696.72,-82.5\"/>\n</g>\n<!-- 140559189635328 -->\n<g id=\"node4\" class=\"node\">\n<title>140559189635328</title>\n<polygon fill=\"none\" stroke=\"black\" points=\"0,-88.5 0,-157.5 108,-157.5 108,-88.5 0,-88.5\"/>\n<text text-anchor=\"middle\" x=\"54\" y=\"-142.3\" font-family=\"Times,serif\" font-size=\"14.00\">a</text>\n<polyline fill=\"none\" stroke=\"black\" points=\"0,-134.5 108,-134.5 \"/>\n<text text-anchor=\"middle\" x=\"54\" y=\"-119.3\" font-family=\"Times,serif\" font-size=\"14.00\">data 2.0000</text>\n<polyline fill=\"none\" stroke=\"black\" points=\"0,-111.5 108,-111.5 \"/>\n<text text-anchor=\"middle\" x=\"54\" y=\"-96.3\" font-family=\"Times,serif\" font-size=\"14.00\">grad &#45;6.0000</text>\n</g>\n<!-- 140559189635328&#45;&gt;140559189635568* -->\n<g id=\"edge6\" class=\"edge\">\n<title>140559189635328&#45;&gt;140559189635568*</title>\n<path fill=\"none\" stroke=\"black\" d=\"M108.12,-143.33C118.24,-147.2 128.53,-151.13 137.75,-154.66\"/>\n<polygon fill=\"black\" stroke=\"black\" points=\"136.67,-158 147.26,-158.3 139.17,-151.46 136.67,-158\"/>\n</g>\n<!-- 140559189634032 -->\n<g id=\"node5\" class=\"node\">\n<title>140559189634032</title>\n<polygon fill=\"none\" stroke=\"black\" points=\"469,-88.5 469,-157.5 580,-157.5 580,-88.5 469,-88.5\"/>\n<text text-anchor=\"middle\" x=\"524.5\" y=\"-142.3\" font-family=\"Times,serif\" font-size=\"14.00\">d</text>\n<polyline fill=\"none\" stroke=\"black\" points=\"469,-134.5 580,-134.5 \"/>\n<text text-anchor=\"middle\" x=\"524.5\" y=\"-119.3\" font-family=\"Times,serif\" font-size=\"14.00\">data 10.0000</text>\n<polyline fill=\"none\" stroke=\"black\" points=\"469,-111.5 580,-111.5 \"/>\n<text text-anchor=\"middle\" x=\"524.5\" y=\"-96.3\" font-family=\"Times,serif\" font-size=\"14.00\">grad &#45;2.0000</text>\n</g>\n<!-- 140559189634032&#45;&gt;140559189630624* -->\n<g id=\"edge5\" class=\"edge\">\n<title>140559189634032&#45;&gt;140559189630624*</title>\n<path fill=\"none\" stroke=\"black\" d=\"M580.12,-102.55C590.62,-98.61 601.29,-94.62 610.79,-91.06\"/>\n<polygon fill=\"black\" stroke=\"black\" points=\"612.08,-94.32 620.21,-87.53 609.62,-87.76 612.08,-94.32\"/>\n</g>\n<!-- 140559189634032+ -->\n<g id=\"node6\" class=\"node\">\n<title>140559189634032+</title>\n<ellipse fill=\"none\" stroke=\"black\" cx=\"405\" cy=\"-123\" rx=\"27\" ry=\"18\"/>\n<text text-anchor=\"middle\" x=\"405\" y=\"-119.3\" font-family=\"Times,serif\" font-size=\"14.00\">+</text>\n</g>\n<!-- 140559189634032+&#45;&gt;140559189634032 -->\n<g id=\"edge2\" class=\"edge\">\n<title>140559189634032+&#45;&gt;140559189634032</title>\n<path fill=\"none\" stroke=\"black\" d=\"M432.08,-123C440.02,-123 449.13,-123 458.46,-123\"/>\n<polygon fill=\"black\" stroke=\"black\" points=\"458.62,-126.5 468.62,-123 458.62,-119.5 458.62,-126.5\"/>\n</g>\n<!-- 140559189638496 -->\n<g id=\"node7\" class=\"node\">\n<title>140559189638496</title>\n<polygon fill=\"none\" stroke=\"black\" points=\"468,-0.5 468,-69.5 581,-69.5 581,-0.5 468,-0.5\"/>\n<text text-anchor=\"middle\" x=\"524.5\" y=\"-54.3\" font-family=\"Times,serif\" font-size=\"14.00\">f</text>\n<polyline fill=\"none\" stroke=\"black\" points=\"468,-46.5 581,-46.5 \"/>\n<text text-anchor=\"middle\" x=\"524.5\" y=\"-31.3\" font-family=\"Times,serif\" font-size=\"14.00\">data &#45;2.0000</text>\n<polyline fill=\"none\" stroke=\"black\" points=\"468,-23.5 581,-23.5 \"/>\n<text text-anchor=\"middle\" x=\"524.5\" y=\"-8.3\" font-family=\"Times,serif\" font-size=\"14.00\">grad 10.0000</text>\n</g>\n<!-- 140559189638496&#45;&gt;140559189630624* -->\n<g id=\"edge4\" class=\"edge\">\n<title>140559189638496&#45;&gt;140559189630624*</title>\n<path fill=\"none\" stroke=\"black\" d=\"M581.15,-55.84C591.26,-59.62 601.49,-63.46 610.64,-66.88\"/>\n<polygon fill=\"black\" stroke=\"black\" points=\"609.5,-70.19 620.09,-70.42 611.95,-63.64 609.5,-70.19\"/>\n</g>\n<!-- 140559189635520 -->\n<g id=\"node8\" class=\"node\">\n<title>140559189635520</title>\n<polygon fill=\"none\" stroke=\"black\" points=\"234,-44.5 234,-113.5 342,-113.5 342,-44.5 234,-44.5\"/>\n<text text-anchor=\"middle\" x=\"288\" y=\"-98.3\" font-family=\"Times,serif\" font-size=\"14.00\">c</text>\n<polyline fill=\"none\" stroke=\"black\" points=\"234,-90.5 342,-90.5 \"/>\n<text text-anchor=\"middle\" x=\"288\" y=\"-75.3\" font-family=\"Times,serif\" font-size=\"14.00\">data 4.0000</text>\n<polyline fill=\"none\" stroke=\"black\" points=\"234,-67.5 342,-67.5 \"/>\n<text text-anchor=\"middle\" x=\"288\" y=\"-52.3\" font-family=\"Times,serif\" font-size=\"14.00\">grad &#45;2.0000</text>\n</g>\n<!-- 140559189635520&#45;&gt;140559189634032+ -->\n<g id=\"edge9\" class=\"edge\">\n<title>140559189635520&#45;&gt;140559189634032+</title>\n<path fill=\"none\" stroke=\"black\" d=\"M342.12,-99.33C352.24,-103.2 362.53,-107.13 371.75,-110.66\"/>\n<polygon fill=\"black\" stroke=\"black\" points=\"370.67,-114 381.26,-114.3 373.17,-107.46 370.67,-114\"/>\n</g>\n<!-- 140559189635568 -->\n<g id=\"node9\" class=\"node\">\n<title>140559189635568</title>\n<polygon fill=\"none\" stroke=\"black\" points=\"234,-132.5 234,-201.5 342,-201.5 342,-132.5 234,-132.5\"/>\n<text text-anchor=\"middle\" x=\"288\" y=\"-186.3\" font-family=\"Times,serif\" font-size=\"14.00\">e</text>\n<polyline fill=\"none\" stroke=\"black\" points=\"234,-178.5 342,-178.5 \"/>\n<text text-anchor=\"middle\" x=\"288\" y=\"-163.3\" font-family=\"Times,serif\" font-size=\"14.00\">data 6.0000</text>\n<polyline fill=\"none\" stroke=\"black\" points=\"234,-155.5 342,-155.5 \"/>\n<text text-anchor=\"middle\" x=\"288\" y=\"-140.3\" font-family=\"Times,serif\" font-size=\"14.00\">grad &#45;2.0000</text>\n</g>\n<!-- 140559189635568&#45;&gt;140559189634032+ -->\n<g id=\"edge7\" class=\"edge\">\n<title>140559189635568&#45;&gt;140559189634032+</title>\n<path fill=\"none\" stroke=\"black\" d=\"M342.12,-146.67C352.24,-142.8 362.53,-138.87 371.75,-135.34\"/>\n<polygon fill=\"black\" stroke=\"black\" points=\"373.17,-138.54 381.26,-131.7 370.67,-132 373.17,-138.54\"/>\n</g>\n<!-- 140559189635568*&#45;&gt;140559189635568 -->\n<g id=\"edge3\" class=\"edge\">\n<title>140559189635568*&#45;&gt;140559189635568</title>\n<path fill=\"none\" stroke=\"black\" d=\"M198.1,-167C205.8,-167 214.59,-167 223.57,-167\"/>\n<polygon fill=\"black\" stroke=\"black\" points=\"223.75,-170.5 233.75,-167 223.75,-163.5 223.75,-170.5\"/>\n</g>\n</g>\n</svg>\n",
      "text/plain": [
       "<graphviz.graphs.Digraph at 0x7fd67cafd4b0>"
      ]
     },
     "execution_count": 182,
     "metadata": {},
     "output_type": "execute_result"
    }
   ],
   "source": [
    "draw_dot(L)"
   ]
  },
  {
   "cell_type": "markdown",
   "metadata": {},
   "source": [
    "Forward Prop"
   ]
  },
  {
   "cell_type": "code",
   "execution_count": 183,
   "metadata": {},
   "outputs": [
    {
     "name": "stdout",
     "output_type": "stream",
     "text": [
      "-18.47256\n"
     ]
    }
   ],
   "source": [
    "s = 0.01 #step\n",
    "a.data += a.grad * s\n",
    "b.data += b.grad * s\n",
    "c.data += c.grad * s\n",
    "f.data += f.grad * s\n",
    "\n",
    "e = a*b\n",
    "d = e+c\n",
    "L = d*f\n",
    "\n",
    "print(L.data)"
   ]
  },
  {
   "cell_type": "markdown",
   "metadata": {},
   "source": [
    "Apply backprop to a neuron"
   ]
  },
  {
   "cell_type": "markdown",
   "metadata": {},
   "source": [
    "tanh activation func"
   ]
  },
  {
   "cell_type": "code",
   "execution_count": 184,
   "metadata": {},
   "outputs": [
    {
     "data": {
      "image/png": "[encoded data removed]",
      "text/plain": [
       "<Figure size 640x480 with 1 Axes>"
      ]
     },
     "metadata": {},
     "output_type": "display_data"
    }
   ],
   "source": [
    "plt.plot(np.arange(-5, 5, 0.2), np.tanh(np.arange(-5,5,0.2)))\n",
    "plt.grid()"
   ]
  },
  {
   "cell_type": "markdown",
   "metadata": {},
   "source": [
    "Relu Neuron"
   ]
  },
  {
   "cell_type": "code",
   "execution_count": 188,
   "metadata": {},
   "outputs": [
    {
     "data": {
      "text/plain": [
       "Value(data=-20.0)"
      ]
     },
     "execution_count": 188,
     "metadata": {},
     "output_type": "execute_result"
    }
   ],
   "source": [
    "class Value:\n",
    "\n",
    "    def __init__(self, data, _children=(), _op='', label='', ):\n",
    "        self.data = data\n",
    "        self.grad = 0.0\n",
    "        self._prev = set(_children)\n",
    "        self._op = _op\n",
    "        self.label = label\n",
    "    \n",
    "    def __repr__(self):\n",
    "        return f\"Value(data={self.data})\"\n",
    "    \n",
    "    def __add__(self, other):\n",
    "        return Value(self.data + other.data, (self, other), '+')\n",
    "    \n",
    "    def __mul__(self, other):\n",
    "        return Value(self.data * other.data, (self, other), '*')\n",
    "    \n",
    "    def tanh(self):\n",
    "        x = self.data\n",
    "        t = (math.exp(2*x)-1)/(math.exp(2*x)+1)\n",
    "        out = Value(t, (self, ), 'tanh')\n",
    "        return out\n",
    "    \n",
    "a = Value(2.0, label='a')\n",
    "b = Value(3.0, label='b')\n",
    "c = Value(4.0, label='c')\n",
    "\n",
    "e = a*b; e.label='e'\n",
    "d = e+c; d.label = 'd'\n",
    "f = Value(-2.0, label='f')\n",
    "L = d*f; L.label='L'\n",
    "L"
   ]
  },
  {
   "cell_type": "code",
   "execution_count": 195,
   "metadata": {},
   "outputs": [],
   "source": [
    "#inputs\n",
    "x1 = Value(2.0, label='x1')\n",
    "x2 = Value(0.0, label='x2')\n",
    "\n",
    "#weights\n",
    "w1 = Value(-3.0, label='w1')\n",
    "w2 = Value(1.0, label='w2')\n",
    "\n",
    "#bias\n",
    "b = Value(6.88137358, label='b')\n",
    "\n",
    "#output\n",
    "x1w1 = x1*w1; x1w1.label = 'x1*w1'\n",
    "x2w2 = x2*w2; x2w2.label = 'x2*w2'\n",
    "\n",
    "x1w1x2w2 = x1w1 + x2w2; x1w1x2w2.label = 'x1*w1 + x2*w2'\n",
    "n = x1w1x2w2 + b; n.label = 'n'\n",
    "o = n.tanh(); o.label = 'o'\n"
   ]
  },
  {
   "cell_type": "code",
   "execution_count": 198,
   "metadata": {},
   "outputs": [],
   "source": [
    "o.grad = 1.0"
   ]
  },
  {
   "cell_type": "code",
   "execution_count": 199,
   "metadata": {},
   "outputs": [
    {
     "data": {
      "image/svg+xml": "<?xml version=\"1.0\" encoding=\"UTF-8\" standalone=\"no\"?>\n<!DOCTYPE svg PUBLIC \"-//W3C//DTD SVG 1.1//EN\"\n \"http://www.w3.org/Graphics/SVG/1.1/DTD/svg11.dtd\">\n<!-- Generated by graphviz version 2.43.0 (0)\n -->\n<!-- Title: %3 Pages: 1 -->\n<svg width=\"1072pt\" height=\"342pt\"\n viewBox=\"0.00 0.00 1071.69 342.00\" xmlns=\"http://www.w3.org/2000/svg\" xmlns:xlink=\"http://www.w3.org/1999/xlink\">\n<g id=\"graph0\" class=\"graph\" transform=\"scale(1 1) rotate(0) translate(4 338)\">\n<title>%3</title>\n<polygon fill=\"white\" stroke=\"transparent\" points=\"-4,4 -4,-338 1067.69,-338 1067.69,4 -4,4\"/>\n<!-- 140559190338496 -->\n<g id=\"node1\" class=\"node\">\n<title>140559190338496</title>\n<polygon fill=\"none\" stroke=\"black\" points=\"234.5,-88.5 234.5,-157.5 338.5,-157.5 338.5,-88.5 234.5,-88.5\"/>\n<text text-anchor=\"middle\" x=\"286.5\" y=\"-142.3\" font-family=\"Times,serif\" font-size=\"14.00\">x2*w2</text>\n<polyline fill=\"none\" stroke=\"black\" points=\"234.5,-134.5 338.5,-134.5 \"/>\n<text text-anchor=\"middle\" x=\"286.5\" y=\"-119.3\" font-family=\"Times,serif\" font-size=\"14.00\">data 0.0000</text>\n<polyline fill=\"none\" stroke=\"black\" points=\"234.5,-111.5 338.5,-111.5 \"/>\n<text text-anchor=\"middle\" x=\"286.5\" y=\"-96.3\" font-family=\"Times,serif\" font-size=\"14.00\">grad 0.0000</text>\n</g>\n<!-- 140559190338352+ -->\n<g id=\"node12\" class=\"node\">\n<title>140559190338352+</title>\n<ellipse fill=\"none\" stroke=\"black\" cx=\"403\" cy=\"-167\" rx=\"27\" ry=\"18\"/>\n<text text-anchor=\"middle\" x=\"403\" y=\"-163.3\" font-family=\"Times,serif\" font-size=\"14.00\">+</text>\n</g>\n<!-- 140559190338496&#45;&gt;140559190338352+ -->\n<g id=\"edge14\" class=\"edge\">\n<title>140559190338496&#45;&gt;140559190338352+</title>\n<path fill=\"none\" stroke=\"black\" d=\"M338.72,-142.68C349.24,-146.73 360.03,-150.87 369.66,-154.57\"/>\n<polygon fill=\"black\" stroke=\"black\" points=\"368.62,-157.92 379.21,-158.24 371.13,-151.39 368.62,-157.92\"/>\n</g>\n<!-- 140559190338496* -->\n<g id=\"node2\" class=\"node\">\n<title>140559190338496*</title>\n<ellipse fill=\"none\" stroke=\"black\" cx=\"170\" cy=\"-123\" rx=\"27\" ry=\"18\"/>\n<text text-anchor=\"middle\" x=\"170\" y=\"-119.3\" font-family=\"Times,serif\" font-size=\"14.00\">*</text>\n</g>\n<!-- 140559190338496*&#45;&gt;140559190338496 -->\n<g id=\"edge1\" class=\"edge\">\n<title>140559190338496*&#45;&gt;140559190338496</title>\n<path fill=\"none\" stroke=\"black\" d=\"M197.27,-123C205.32,-123 214.54,-123 223.91,-123\"/>\n<polygon fill=\"black\" stroke=\"black\" points=\"224.09,-126.5 234.09,-123 224.09,-119.5 224.09,-126.5\"/>\n</g>\n<!-- 140559190299728 -->\n<g id=\"node3\" class=\"node\">\n<title>140559190299728</title>\n<polygon fill=\"none\" stroke=\"black\" points=\"1.5,-88.5 1.5,-157.5 105.5,-157.5 105.5,-88.5 1.5,-88.5\"/>\n<text text-anchor=\"middle\" x=\"53.5\" y=\"-142.3\" font-family=\"Times,serif\" font-size=\"14.00\">x2</text>\n<polyline fill=\"none\" stroke=\"black\" points=\"1.5,-134.5 105.5,-134.5 \"/>\n<text text-anchor=\"middle\" x=\"53.5\" y=\"-119.3\" font-family=\"Times,serif\" font-size=\"14.00\">data 0.0000</text>\n<polyline fill=\"none\" stroke=\"black\" points=\"1.5,-111.5 105.5,-111.5 \"/>\n<text text-anchor=\"middle\" x=\"53.5\" y=\"-96.3\" font-family=\"Times,serif\" font-size=\"14.00\">grad 0.0000</text>\n</g>\n<!-- 140559190299728&#45;&gt;140559190338496* -->\n<g id=\"edge11\" class=\"edge\">\n<title>140559190299728&#45;&gt;140559190338496*</title>\n<path fill=\"none\" stroke=\"black\" d=\"M105.72,-123C114.87,-123 124.22,-123 132.83,-123\"/>\n<polygon fill=\"black\" stroke=\"black\" points=\"132.9,-126.5 142.9,-123 132.9,-119.5 132.9,-126.5\"/>\n</g>\n<!-- 140559190309472 -->\n<g id=\"node4\" class=\"node\">\n<title>140559190309472</title>\n<polygon fill=\"none\" stroke=\"black\" points=\"0,-264.5 0,-333.5 107,-333.5 107,-264.5 0,-264.5\"/>\n<text text-anchor=\"middle\" x=\"53.5\" y=\"-318.3\" font-family=\"Times,serif\" font-size=\"14.00\">w1</text>\n<polyline fill=\"none\" stroke=\"black\" points=\"0,-310.5 107,-310.5 \"/>\n<text text-anchor=\"middle\" x=\"53.5\" y=\"-295.3\" font-family=\"Times,serif\" font-size=\"14.00\">data &#45;3.0000</text>\n<polyline fill=\"none\" stroke=\"black\" points=\"0,-287.5 107,-287.5 \"/>\n<text text-anchor=\"middle\" x=\"53.5\" y=\"-272.3\" font-family=\"Times,serif\" font-size=\"14.00\">grad 0.0000</text>\n</g>\n<!-- 140559190299440* -->\n<g id=\"node10\" class=\"node\">\n<title>140559190299440*</title>\n<ellipse fill=\"none\" stroke=\"black\" cx=\"170\" cy=\"-211\" rx=\"27\" ry=\"18\"/>\n<text text-anchor=\"middle\" x=\"170\" y=\"-207.3\" font-family=\"Times,serif\" font-size=\"14.00\">*</text>\n</g>\n<!-- 140559190309472&#45;&gt;140559190299440* -->\n<g id=\"edge12\" class=\"edge\">\n<title>140559190309472&#45;&gt;140559190299440*</title>\n<path fill=\"none\" stroke=\"black\" d=\"M99.42,-264.47C114.43,-252.94 130.63,-240.49 143.61,-230.51\"/>\n<polygon fill=\"black\" stroke=\"black\" points=\"145.84,-233.21 151.64,-224.35 141.57,-227.66 145.84,-233.21\"/>\n</g>\n<!-- 140559190294640 -->\n<g id=\"node5\" class=\"node\">\n<title>140559190294640</title>\n<polygon fill=\"none\" stroke=\"black\" points=\"1.5,-0.5 1.5,-69.5 105.5,-69.5 105.5,-0.5 1.5,-0.5\"/>\n<text text-anchor=\"middle\" x=\"53.5\" y=\"-54.3\" font-family=\"Times,serif\" font-size=\"14.00\">w2</text>\n<polyline fill=\"none\" stroke=\"black\" points=\"1.5,-46.5 105.5,-46.5 \"/>\n<text text-anchor=\"middle\" x=\"53.5\" y=\"-31.3\" font-family=\"Times,serif\" font-size=\"14.00\">data 1.0000</text>\n<polyline fill=\"none\" stroke=\"black\" points=\"1.5,-23.5 105.5,-23.5 \"/>\n<text text-anchor=\"middle\" x=\"53.5\" y=\"-8.3\" font-family=\"Times,serif\" font-size=\"14.00\">grad 0.0000</text>\n</g>\n<!-- 140559190294640&#45;&gt;140559190338496* -->\n<g id=\"edge10\" class=\"edge\">\n<title>140559190294640&#45;&gt;140559190338496*</title>\n<path fill=\"none\" stroke=\"black\" d=\"M99.42,-69.53C114.43,-81.06 130.63,-93.51 143.61,-103.49\"/>\n<polygon fill=\"black\" stroke=\"black\" points=\"141.57,-106.34 151.64,-109.65 145.84,-100.79 141.57,-106.34\"/>\n</g>\n<!-- 140559190310096 -->\n<g id=\"node6\" class=\"node\">\n<title>140559190310096</title>\n<polygon fill=\"none\" stroke=\"black\" points=\"478,-220.5 478,-289.5 582,-289.5 582,-220.5 478,-220.5\"/>\n<text text-anchor=\"middle\" x=\"530\" y=\"-274.3\" font-family=\"Times,serif\" font-size=\"14.00\">b</text>\n<polyline fill=\"none\" stroke=\"black\" points=\"478,-266.5 582,-266.5 \"/>\n<text text-anchor=\"middle\" x=\"530\" y=\"-251.3\" font-family=\"Times,serif\" font-size=\"14.00\">data 6.8814</text>\n<polyline fill=\"none\" stroke=\"black\" points=\"478,-243.5 582,-243.5 \"/>\n<text text-anchor=\"middle\" x=\"530\" y=\"-228.3\" font-family=\"Times,serif\" font-size=\"14.00\">grad 0.0000</text>\n</g>\n<!-- 140559190330816+ -->\n<g id=\"node14\" class=\"node\">\n<title>140559190330816+</title>\n<ellipse fill=\"none\" stroke=\"black\" cx=\"657\" cy=\"-211\" rx=\"27\" ry=\"18\"/>\n<text text-anchor=\"middle\" x=\"657\" y=\"-207.3\" font-family=\"Times,serif\" font-size=\"14.00\">+</text>\n</g>\n<!-- 140559190310096&#45;&gt;140559190330816+ -->\n<g id=\"edge13\" class=\"edge\">\n<title>140559190310096&#45;&gt;140559190330816+</title>\n<path fill=\"none\" stroke=\"black\" d=\"M582.2,-236.98C596.04,-232.11 610.63,-226.97 623.16,-222.56\"/>\n<polygon fill=\"black\" stroke=\"black\" points=\"624.44,-225.82 632.71,-219.2 622.11,-219.22 624.44,-225.82\"/>\n</g>\n<!-- 140559190339312 -->\n<g id=\"node7\" class=\"node\">\n<title>140559190339312</title>\n<polygon fill=\"none\" stroke=\"black\" points=\"959.69,-176.5 959.69,-245.5 1063.69,-245.5 1063.69,-176.5 959.69,-176.5\"/>\n<text text-anchor=\"middle\" x=\"1011.69\" y=\"-230.3\" font-family=\"Times,serif\" font-size=\"14.00\">o</text>\n<polyline fill=\"none\" stroke=\"black\" points=\"959.69,-222.5 1063.69,-222.5 \"/>\n<text text-anchor=\"middle\" x=\"1011.69\" y=\"-207.3\" font-family=\"Times,serif\" font-size=\"14.00\">data 0.7071</text>\n<polyline fill=\"none\" stroke=\"black\" points=\"959.69,-199.5 1063.69,-199.5 \"/>\n<text text-anchor=\"middle\" x=\"1011.69\" y=\"-184.3\" font-family=\"Times,serif\" font-size=\"14.00\">grad 1.0000</text>\n</g>\n<!-- 140559190339312tanh -->\n<g id=\"node8\" class=\"node\">\n<title>140559190339312tanh</title>\n<ellipse fill=\"none\" stroke=\"black\" cx=\"891.85\" cy=\"-211\" rx=\"31.7\" ry=\"18\"/>\n<text text-anchor=\"middle\" x=\"891.85\" y=\"-207.3\" font-family=\"Times,serif\" font-size=\"14.00\">tanh</text>\n</g>\n<!-- 140559190339312tanh&#45;&gt;140559190339312 -->\n<g id=\"edge2\" class=\"edge\">\n<title>140559190339312tanh&#45;&gt;140559190339312</title>\n<path fill=\"none\" stroke=\"black\" d=\"M923.81,-211C931.74,-211 940.54,-211 949.42,-211\"/>\n<polygon fill=\"black\" stroke=\"black\" points=\"949.43,-214.5 959.43,-211 949.43,-207.5 949.43,-214.5\"/>\n</g>\n<!-- 140559190299440 -->\n<g id=\"node9\" class=\"node\">\n<title>140559190299440</title>\n<polygon fill=\"none\" stroke=\"black\" points=\"233,-176.5 233,-245.5 340,-245.5 340,-176.5 233,-176.5\"/>\n<text text-anchor=\"middle\" x=\"286.5\" y=\"-230.3\" font-family=\"Times,serif\" font-size=\"14.00\">x1*w1</text>\n<polyline fill=\"none\" stroke=\"black\" points=\"233,-222.5 340,-222.5 \"/>\n<text text-anchor=\"middle\" x=\"286.5\" y=\"-207.3\" font-family=\"Times,serif\" font-size=\"14.00\">data &#45;6.0000</text>\n<polyline fill=\"none\" stroke=\"black\" points=\"233,-199.5 340,-199.5 \"/>\n<text text-anchor=\"middle\" x=\"286.5\" y=\"-184.3\" font-family=\"Times,serif\" font-size=\"14.00\">grad 0.0000</text>\n</g>\n<!-- 140559190299440&#45;&gt;140559190338352+ -->\n<g id=\"edge9\" class=\"edge\">\n<title>140559190299440&#45;&gt;140559190338352+</title>\n<path fill=\"none\" stroke=\"black\" d=\"M340.06,-190.8C350.16,-186.92 360.46,-182.96 369.68,-179.42\"/>\n<polygon fill=\"black\" stroke=\"black\" points=\"371.13,-182.61 379.21,-175.76 368.62,-176.08 371.13,-182.61\"/>\n</g>\n<!-- 140559190299440*&#45;&gt;140559190299440 -->\n<g id=\"edge3\" class=\"edge\">\n<title>140559190299440*&#45;&gt;140559190299440</title>\n<path fill=\"none\" stroke=\"black\" d=\"M197.27,-211C204.94,-211 213.68,-211 222.61,-211\"/>\n<polygon fill=\"black\" stroke=\"black\" points=\"222.71,-214.5 232.71,-211 222.71,-207.5 222.71,-214.5\"/>\n</g>\n<!-- 140559190338352 -->\n<g id=\"node11\" class=\"node\">\n<title>140559190338352</title>\n<polygon fill=\"none\" stroke=\"black\" points=\"466,-132.5 466,-201.5 594,-201.5 594,-132.5 466,-132.5\"/>\n<text text-anchor=\"middle\" x=\"530\" y=\"-186.3\" font-family=\"Times,serif\" font-size=\"14.00\">x1*w1 + x2*w2</text>\n<polyline fill=\"none\" stroke=\"black\" points=\"466,-178.5 594,-178.5 \"/>\n<text text-anchor=\"middle\" x=\"530\" y=\"-163.3\" font-family=\"Times,serif\" font-size=\"14.00\">data &#45;6.0000</text>\n<polyline fill=\"none\" stroke=\"black\" points=\"466,-155.5 594,-155.5 \"/>\n<text text-anchor=\"middle\" x=\"530\" y=\"-140.3\" font-family=\"Times,serif\" font-size=\"14.00\">grad 0.0000</text>\n</g>\n<!-- 140559190338352&#45;&gt;140559190330816+ -->\n<g id=\"edge7\" class=\"edge\">\n<title>140559190338352&#45;&gt;140559190330816+</title>\n<path fill=\"none\" stroke=\"black\" d=\"M594.23,-189.26C604.26,-192.79 614.27,-196.31 623.22,-199.46\"/>\n<polygon fill=\"black\" stroke=\"black\" points=\"622.22,-202.82 632.81,-202.84 624.54,-196.22 622.22,-202.82\"/>\n</g>\n<!-- 140559190338352+&#45;&gt;140559190338352 -->\n<g id=\"edge4\" class=\"edge\">\n<title>140559190338352+&#45;&gt;140559190338352</title>\n<path fill=\"none\" stroke=\"black\" d=\"M430.2,-167C437.8,-167 446.49,-167 455.49,-167\"/>\n<polygon fill=\"black\" stroke=\"black\" points=\"455.75,-170.5 465.75,-167 455.75,-163.5 455.75,-170.5\"/>\n</g>\n<!-- 140559190330816 -->\n<g id=\"node13\" class=\"node\">\n<title>140559190330816</title>\n<polygon fill=\"none\" stroke=\"black\" points=\"720,-176.5 720,-245.5 824,-245.5 824,-176.5 720,-176.5\"/>\n<text text-anchor=\"middle\" x=\"772\" y=\"-230.3\" font-family=\"Times,serif\" font-size=\"14.00\">n</text>\n<polyline fill=\"none\" stroke=\"black\" points=\"720,-222.5 824,-222.5 \"/>\n<text text-anchor=\"middle\" x=\"772\" y=\"-207.3\" font-family=\"Times,serif\" font-size=\"14.00\">data 0.8814</text>\n<polyline fill=\"none\" stroke=\"black\" points=\"720,-199.5 824,-199.5 \"/>\n<text text-anchor=\"middle\" x=\"772\" y=\"-184.3\" font-family=\"Times,serif\" font-size=\"14.00\">grad 0.0000</text>\n</g>\n<!-- 140559190330816&#45;&gt;140559190339312tanh -->\n<g id=\"edge6\" class=\"edge\">\n<title>140559190330816&#45;&gt;140559190339312tanh</title>\n<path fill=\"none\" stroke=\"black\" d=\"M824,-211C832.58,-211 841.38,-211 849.66,-211\"/>\n<polygon fill=\"black\" stroke=\"black\" points=\"849.82,-214.5 859.82,-211 849.82,-207.5 849.82,-214.5\"/>\n</g>\n<!-- 140559190330816+&#45;&gt;140559190330816 -->\n<g id=\"edge5\" class=\"edge\">\n<title>140559190330816+&#45;&gt;140559190330816</title>\n<path fill=\"none\" stroke=\"black\" d=\"M684.21,-211C691.88,-211 700.62,-211 709.51,-211\"/>\n<polygon fill=\"black\" stroke=\"black\" points=\"709.58,-214.5 719.58,-211 709.58,-207.5 709.58,-214.5\"/>\n</g>\n<!-- 140559190301168 -->\n<g id=\"node15\" class=\"node\">\n<title>140559190301168</title>\n<polygon fill=\"none\" stroke=\"black\" points=\"1.5,-176.5 1.5,-245.5 105.5,-245.5 105.5,-176.5 1.5,-176.5\"/>\n<text text-anchor=\"middle\" x=\"53.5\" y=\"-230.3\" font-family=\"Times,serif\" font-size=\"14.00\">x1</text>\n<polyline fill=\"none\" stroke=\"black\" points=\"1.5,-222.5 105.5,-222.5 \"/>\n<text text-anchor=\"middle\" x=\"53.5\" y=\"-207.3\" font-family=\"Times,serif\" font-size=\"14.00\">data 2.0000</text>\n<polyline fill=\"none\" stroke=\"black\" points=\"1.5,-199.5 105.5,-199.5 \"/>\n<text text-anchor=\"middle\" x=\"53.5\" y=\"-184.3\" font-family=\"Times,serif\" font-size=\"14.00\">grad 0.0000</text>\n</g>\n<!-- 140559190301168&#45;&gt;140559190299440* -->\n<g id=\"edge8\" class=\"edge\">\n<title>140559190301168&#45;&gt;140559190299440*</title>\n<path fill=\"none\" stroke=\"black\" d=\"M105.72,-211C114.87,-211 124.22,-211 132.83,-211\"/>\n<polygon fill=\"black\" stroke=\"black\" points=\"132.9,-214.5 142.9,-211 132.9,-207.5 132.9,-214.5\"/>\n</g>\n</g>\n</svg>\n",
      "text/plain": [
       "<graphviz.graphs.Digraph at 0x7fd67c9ba620>"
      ]
     },
     "execution_count": 199,
     "metadata": {},
     "output_type": "execute_result"
    }
   ],
   "source": [
    "draw_dot(o)"
   ]
  },
  {
   "attachments": {},
   "cell_type": "markdown",
   "metadata": {},
   "source": [
    "Derviative of tanh::\n",
    "\n",
    "do/dn = 1 - tanh(n) ** 2 = 1 - o ** 2\n",
    "\n"
   ]
  },
  {
   "cell_type": "code",
   "execution_count": 201,
   "metadata": {},
   "outputs": [],
   "source": [
    "n.grad = 1 - o.data**2"
   ]
  },
  {
   "cell_type": "code",
   "execution_count": 202,
   "metadata": {},
   "outputs": [
    {
     "data": {
      "image/svg+xml": "<?xml version=\"1.0\" encoding=\"UTF-8\" standalone=\"no\"?>\n<!DOCTYPE svg PUBLIC \"-//W3C//DTD SVG 1.1//EN\"\n \"http://www.w3.org/Graphics/SVG/1.1/DTD/svg11.dtd\">\n<!-- Generated by graphviz version 2.43.0 (0)\n -->\n<!-- Title: %3 Pages: 1 -->\n<svg width=\"1072pt\" height=\"342pt\"\n viewBox=\"0.00 0.00 1071.69 342.00\" xmlns=\"http://www.w3.org/2000/svg\" xmlns:xlink=\"http://www.w3.org/1999/xlink\">\n<g id=\"graph0\" class=\"graph\" transform=\"scale(1 1) rotate(0) translate(4 338)\">\n<title>%3</title>\n<polygon fill=\"white\" stroke=\"transparent\" points=\"-4,4 -4,-338 1067.69,-338 1067.69,4 -4,4\"/>\n<!-- 140559190338496 -->\n<g id=\"node1\" class=\"node\">\n<title>140559190338496</title>\n<polygon fill=\"none\" stroke=\"black\" points=\"234.5,-88.5 234.5,-157.5 338.5,-157.5 338.5,-88.5 234.5,-88.5\"/>\n<text text-anchor=\"middle\" x=\"286.5\" y=\"-142.3\" font-family=\"Times,serif\" font-size=\"14.00\">x2*w2</text>\n<polyline fill=\"none\" stroke=\"black\" points=\"234.5,-134.5 338.5,-134.5 \"/>\n<text text-anchor=\"middle\" x=\"286.5\" y=\"-119.3\" font-family=\"Times,serif\" font-size=\"14.00\">data 0.0000</text>\n<polyline fill=\"none\" stroke=\"black\" points=\"234.5,-111.5 338.5,-111.5 \"/>\n<text text-anchor=\"middle\" x=\"286.5\" y=\"-96.3\" font-family=\"Times,serif\" font-size=\"14.00\">grad 0.0000</text>\n</g>\n<!-- 140559190338352+ -->\n<g id=\"node12\" class=\"node\">\n<title>140559190338352+</title>\n<ellipse fill=\"none\" stroke=\"black\" cx=\"403\" cy=\"-167\" rx=\"27\" ry=\"18\"/>\n<text text-anchor=\"middle\" x=\"403\" y=\"-163.3\" font-family=\"Times,serif\" font-size=\"14.00\">+</text>\n</g>\n<!-- 140559190338496&#45;&gt;140559190338352+ -->\n<g id=\"edge14\" class=\"edge\">\n<title>140559190338496&#45;&gt;140559190338352+</title>\n<path fill=\"none\" stroke=\"black\" d=\"M338.72,-142.68C349.24,-146.73 360.03,-150.87 369.66,-154.57\"/>\n<polygon fill=\"black\" stroke=\"black\" points=\"368.62,-157.92 379.21,-158.24 371.13,-151.39 368.62,-157.92\"/>\n</g>\n<!-- 140559190338496* -->\n<g id=\"node2\" class=\"node\">\n<title>140559190338496*</title>\n<ellipse fill=\"none\" stroke=\"black\" cx=\"170\" cy=\"-123\" rx=\"27\" ry=\"18\"/>\n<text text-anchor=\"middle\" x=\"170\" y=\"-119.3\" font-family=\"Times,serif\" font-size=\"14.00\">*</text>\n</g>\n<!-- 140559190338496*&#45;&gt;140559190338496 -->\n<g id=\"edge1\" class=\"edge\">\n<title>140559190338496*&#45;&gt;140559190338496</title>\n<path fill=\"none\" stroke=\"black\" d=\"M197.27,-123C205.32,-123 214.54,-123 223.91,-123\"/>\n<polygon fill=\"black\" stroke=\"black\" points=\"224.09,-126.5 234.09,-123 224.09,-119.5 224.09,-126.5\"/>\n</g>\n<!-- 140559190299728 -->\n<g id=\"node3\" class=\"node\">\n<title>140559190299728</title>\n<polygon fill=\"none\" stroke=\"black\" points=\"1.5,-88.5 1.5,-157.5 105.5,-157.5 105.5,-88.5 1.5,-88.5\"/>\n<text text-anchor=\"middle\" x=\"53.5\" y=\"-142.3\" font-family=\"Times,serif\" font-size=\"14.00\">x2</text>\n<polyline fill=\"none\" stroke=\"black\" points=\"1.5,-134.5 105.5,-134.5 \"/>\n<text text-anchor=\"middle\" x=\"53.5\" y=\"-119.3\" font-family=\"Times,serif\" font-size=\"14.00\">data 0.0000</text>\n<polyline fill=\"none\" stroke=\"black\" points=\"1.5,-111.5 105.5,-111.5 \"/>\n<text text-anchor=\"middle\" x=\"53.5\" y=\"-96.3\" font-family=\"Times,serif\" font-size=\"14.00\">grad 0.0000</text>\n</g>\n<!-- 140559190299728&#45;&gt;140559190338496* -->\n<g id=\"edge11\" class=\"edge\">\n<title>140559190299728&#45;&gt;140559190338496*</title>\n<path fill=\"none\" stroke=\"black\" d=\"M105.72,-123C114.87,-123 124.22,-123 132.83,-123\"/>\n<polygon fill=\"black\" stroke=\"black\" points=\"132.9,-126.5 142.9,-123 132.9,-119.5 132.9,-126.5\"/>\n</g>\n<!-- 140559190309472 -->\n<g id=\"node4\" class=\"node\">\n<title>140559190309472</title>\n<polygon fill=\"none\" stroke=\"black\" points=\"0,-264.5 0,-333.5 107,-333.5 107,-264.5 0,-264.5\"/>\n<text text-anchor=\"middle\" x=\"53.5\" y=\"-318.3\" font-family=\"Times,serif\" font-size=\"14.00\">w1</text>\n<polyline fill=\"none\" stroke=\"black\" points=\"0,-310.5 107,-310.5 \"/>\n<text text-anchor=\"middle\" x=\"53.5\" y=\"-295.3\" font-family=\"Times,serif\" font-size=\"14.00\">data &#45;3.0000</text>\n<polyline fill=\"none\" stroke=\"black\" points=\"0,-287.5 107,-287.5 \"/>\n<text text-anchor=\"middle\" x=\"53.5\" y=\"-272.3\" font-family=\"Times,serif\" font-size=\"14.00\">grad 0.0000</text>\n</g>\n<!-- 140559190299440* -->\n<g id=\"node10\" class=\"node\">\n<title>140559190299440*</title>\n<ellipse fill=\"none\" stroke=\"black\" cx=\"170\" cy=\"-211\" rx=\"27\" ry=\"18\"/>\n<text text-anchor=\"middle\" x=\"170\" y=\"-207.3\" font-family=\"Times,serif\" font-size=\"14.00\">*</text>\n</g>\n<!-- 140559190309472&#45;&gt;140559190299440* -->\n<g id=\"edge12\" class=\"edge\">\n<title>140559190309472&#45;&gt;140559190299440*</title>\n<path fill=\"none\" stroke=\"black\" d=\"M99.42,-264.47C114.43,-252.94 130.63,-240.49 143.61,-230.51\"/>\n<polygon fill=\"black\" stroke=\"black\" points=\"145.84,-233.21 151.64,-224.35 141.57,-227.66 145.84,-233.21\"/>\n</g>\n<!-- 140559190294640 -->\n<g id=\"node5\" class=\"node\">\n<title>140559190294640</title>\n<polygon fill=\"none\" stroke=\"black\" points=\"1.5,-0.5 1.5,-69.5 105.5,-69.5 105.5,-0.5 1.5,-0.5\"/>\n<text text-anchor=\"middle\" x=\"53.5\" y=\"-54.3\" font-family=\"Times,serif\" font-size=\"14.00\">w2</text>\n<polyline fill=\"none\" stroke=\"black\" points=\"1.5,-46.5 105.5,-46.5 \"/>\n<text text-anchor=\"middle\" x=\"53.5\" y=\"-31.3\" font-family=\"Times,serif\" font-size=\"14.00\">data 1.0000</text>\n<polyline fill=\"none\" stroke=\"black\" points=\"1.5,-23.5 105.5,-23.5 \"/>\n<text text-anchor=\"middle\" x=\"53.5\" y=\"-8.3\" font-family=\"Times,serif\" font-size=\"14.00\">grad 0.0000</text>\n</g>\n<!-- 140559190294640&#45;&gt;140559190338496* -->\n<g id=\"edge10\" class=\"edge\">\n<title>140559190294640&#45;&gt;140559190338496*</title>\n<path fill=\"none\" stroke=\"black\" d=\"M99.42,-69.53C114.43,-81.06 130.63,-93.51 143.61,-103.49\"/>\n<polygon fill=\"black\" stroke=\"black\" points=\"141.57,-106.34 151.64,-109.65 145.84,-100.79 141.57,-106.34\"/>\n</g>\n<!-- 140559190310096 -->\n<g id=\"node6\" class=\"node\">\n<title>140559190310096</title>\n<polygon fill=\"none\" stroke=\"black\" points=\"478,-220.5 478,-289.5 582,-289.5 582,-220.5 478,-220.5\"/>\n<text text-anchor=\"middle\" x=\"530\" y=\"-274.3\" font-family=\"Times,serif\" font-size=\"14.00\">b</text>\n<polyline fill=\"none\" stroke=\"black\" points=\"478,-266.5 582,-266.5 \"/>\n<text text-anchor=\"middle\" x=\"530\" y=\"-251.3\" font-family=\"Times,serif\" font-size=\"14.00\">data 6.8814</text>\n<polyline fill=\"none\" stroke=\"black\" points=\"478,-243.5 582,-243.5 \"/>\n<text text-anchor=\"middle\" x=\"530\" y=\"-228.3\" font-family=\"Times,serif\" font-size=\"14.00\">grad 0.0000</text>\n</g>\n<!-- 140559190330816+ -->\n<g id=\"node14\" class=\"node\">\n<title>140559190330816+</title>\n<ellipse fill=\"none\" stroke=\"black\" cx=\"657\" cy=\"-211\" rx=\"27\" ry=\"18\"/>\n<text text-anchor=\"middle\" x=\"657\" y=\"-207.3\" font-family=\"Times,serif\" font-size=\"14.00\">+</text>\n</g>\n<!-- 140559190310096&#45;&gt;140559190330816+ -->\n<g id=\"edge13\" class=\"edge\">\n<title>140559190310096&#45;&gt;140559190330816+</title>\n<path fill=\"none\" stroke=\"black\" d=\"M582.2,-236.98C596.04,-232.11 610.63,-226.97 623.16,-222.56\"/>\n<polygon fill=\"black\" stroke=\"black\" points=\"624.44,-225.82 632.71,-219.2 622.11,-219.22 624.44,-225.82\"/>\n</g>\n<!-- 140559190339312 -->\n<g id=\"node7\" class=\"node\">\n<title>140559190339312</title>\n<polygon fill=\"none\" stroke=\"black\" points=\"959.69,-176.5 959.69,-245.5 1063.69,-245.5 1063.69,-176.5 959.69,-176.5\"/>\n<text text-anchor=\"middle\" x=\"1011.69\" y=\"-230.3\" font-family=\"Times,serif\" font-size=\"14.00\">o</text>\n<polyline fill=\"none\" stroke=\"black\" points=\"959.69,-222.5 1063.69,-222.5 \"/>\n<text text-anchor=\"middle\" x=\"1011.69\" y=\"-207.3\" font-family=\"Times,serif\" font-size=\"14.00\">data 0.7071</text>\n<polyline fill=\"none\" stroke=\"black\" points=\"959.69,-199.5 1063.69,-199.5 \"/>\n<text text-anchor=\"middle\" x=\"1011.69\" y=\"-184.3\" font-family=\"Times,serif\" font-size=\"14.00\">grad 1.0000</text>\n</g>\n<!-- 140559190339312tanh -->\n<g id=\"node8\" class=\"node\">\n<title>140559190339312tanh</title>\n<ellipse fill=\"none\" stroke=\"black\" cx=\"891.85\" cy=\"-211\" rx=\"31.7\" ry=\"18\"/>\n<text text-anchor=\"middle\" x=\"891.85\" y=\"-207.3\" font-family=\"Times,serif\" font-size=\"14.00\">tanh</text>\n</g>\n<!-- 140559190339312tanh&#45;&gt;140559190339312 -->\n<g id=\"edge2\" class=\"edge\">\n<title>140559190339312tanh&#45;&gt;140559190339312</title>\n<path fill=\"none\" stroke=\"black\" d=\"M923.81,-211C931.74,-211 940.54,-211 949.42,-211\"/>\n<polygon fill=\"black\" stroke=\"black\" points=\"949.43,-214.5 959.43,-211 949.43,-207.5 949.43,-214.5\"/>\n</g>\n<!-- 140559190299440 -->\n<g id=\"node9\" class=\"node\">\n<title>140559190299440</title>\n<polygon fill=\"none\" stroke=\"black\" points=\"233,-176.5 233,-245.5 340,-245.5 340,-176.5 233,-176.5\"/>\n<text text-anchor=\"middle\" x=\"286.5\" y=\"-230.3\" font-family=\"Times,serif\" font-size=\"14.00\">x1*w1</text>\n<polyline fill=\"none\" stroke=\"black\" points=\"233,-222.5 340,-222.5 \"/>\n<text text-anchor=\"middle\" x=\"286.5\" y=\"-207.3\" font-family=\"Times,serif\" font-size=\"14.00\">data &#45;6.0000</text>\n<polyline fill=\"none\" stroke=\"black\" points=\"233,-199.5 340,-199.5 \"/>\n<text text-anchor=\"middle\" x=\"286.5\" y=\"-184.3\" font-family=\"Times,serif\" font-size=\"14.00\">grad 0.0000</text>\n</g>\n<!-- 140559190299440&#45;&gt;140559190338352+ -->\n<g id=\"edge9\" class=\"edge\">\n<title>140559190299440&#45;&gt;140559190338352+</title>\n<path fill=\"none\" stroke=\"black\" d=\"M340.06,-190.8C350.16,-186.92 360.46,-182.96 369.68,-179.42\"/>\n<polygon fill=\"black\" stroke=\"black\" points=\"371.13,-182.61 379.21,-175.76 368.62,-176.08 371.13,-182.61\"/>\n</g>\n<!-- 140559190299440*&#45;&gt;140559190299440 -->\n<g id=\"edge3\" class=\"edge\">\n<title>140559190299440*&#45;&gt;140559190299440</title>\n<path fill=\"none\" stroke=\"black\" d=\"M197.27,-211C204.94,-211 213.68,-211 222.61,-211\"/>\n<polygon fill=\"black\" stroke=\"black\" points=\"222.71,-214.5 232.71,-211 222.71,-207.5 222.71,-214.5\"/>\n</g>\n<!-- 140559190338352 -->\n<g id=\"node11\" class=\"node\">\n<title>140559190338352</title>\n<polygon fill=\"none\" stroke=\"black\" points=\"466,-132.5 466,-201.5 594,-201.5 594,-132.5 466,-132.5\"/>\n<text text-anchor=\"middle\" x=\"530\" y=\"-186.3\" font-family=\"Times,serif\" font-size=\"14.00\">x1*w1 + x2*w2</text>\n<polyline fill=\"none\" stroke=\"black\" points=\"466,-178.5 594,-178.5 \"/>\n<text text-anchor=\"middle\" x=\"530\" y=\"-163.3\" font-family=\"Times,serif\" font-size=\"14.00\">data &#45;6.0000</text>\n<polyline fill=\"none\" stroke=\"black\" points=\"466,-155.5 594,-155.5 \"/>\n<text text-anchor=\"middle\" x=\"530\" y=\"-140.3\" font-family=\"Times,serif\" font-size=\"14.00\">grad 0.0000</text>\n</g>\n<!-- 140559190338352&#45;&gt;140559190330816+ -->\n<g id=\"edge7\" class=\"edge\">\n<title>140559190338352&#45;&gt;140559190330816+</title>\n<path fill=\"none\" stroke=\"black\" d=\"M594.23,-189.26C604.26,-192.79 614.27,-196.31 623.22,-199.46\"/>\n<polygon fill=\"black\" stroke=\"black\" points=\"622.22,-202.82 632.81,-202.84 624.54,-196.22 622.22,-202.82\"/>\n</g>\n<!-- 140559190338352+&#45;&gt;140559190338352 -->\n<g id=\"edge4\" class=\"edge\">\n<title>140559190338352+&#45;&gt;140559190338352</title>\n<path fill=\"none\" stroke=\"black\" d=\"M430.2,-167C437.8,-167 446.49,-167 455.49,-167\"/>\n<polygon fill=\"black\" stroke=\"black\" points=\"455.75,-170.5 465.75,-167 455.75,-163.5 455.75,-170.5\"/>\n</g>\n<!-- 140559190330816 -->\n<g id=\"node13\" class=\"node\">\n<title>140559190330816</title>\n<polygon fill=\"none\" stroke=\"black\" points=\"720,-176.5 720,-245.5 824,-245.5 824,-176.5 720,-176.5\"/>\n<text text-anchor=\"middle\" x=\"772\" y=\"-230.3\" font-family=\"Times,serif\" font-size=\"14.00\">n</text>\n<polyline fill=\"none\" stroke=\"black\" points=\"720,-222.5 824,-222.5 \"/>\n<text text-anchor=\"middle\" x=\"772\" y=\"-207.3\" font-family=\"Times,serif\" font-size=\"14.00\">data 0.8814</text>\n<polyline fill=\"none\" stroke=\"black\" points=\"720,-199.5 824,-199.5 \"/>\n<text text-anchor=\"middle\" x=\"772\" y=\"-184.3\" font-family=\"Times,serif\" font-size=\"14.00\">grad 0.5000</text>\n</g>\n<!-- 140559190330816&#45;&gt;140559190339312tanh -->\n<g id=\"edge6\" class=\"edge\">\n<title>140559190330816&#45;&gt;140559190339312tanh</title>\n<path fill=\"none\" stroke=\"black\" d=\"M824,-211C832.58,-211 841.38,-211 849.66,-211\"/>\n<polygon fill=\"black\" stroke=\"black\" points=\"849.82,-214.5 859.82,-211 849.82,-207.5 849.82,-214.5\"/>\n</g>\n<!-- 140559190330816+&#45;&gt;140559190330816 -->\n<g id=\"edge5\" class=\"edge\">\n<title>140559190330816+&#45;&gt;140559190330816</title>\n<path fill=\"none\" stroke=\"black\" d=\"M684.21,-211C691.88,-211 700.62,-211 709.51,-211\"/>\n<polygon fill=\"black\" stroke=\"black\" points=\"709.58,-214.5 719.58,-211 709.58,-207.5 709.58,-214.5\"/>\n</g>\n<!-- 140559190301168 -->\n<g id=\"node15\" class=\"node\">\n<title>140559190301168</title>\n<polygon fill=\"none\" stroke=\"black\" points=\"1.5,-176.5 1.5,-245.5 105.5,-245.5 105.5,-176.5 1.5,-176.5\"/>\n<text text-anchor=\"middle\" x=\"53.5\" y=\"-230.3\" font-family=\"Times,serif\" font-size=\"14.00\">x1</text>\n<polyline fill=\"none\" stroke=\"black\" points=\"1.5,-222.5 105.5,-222.5 \"/>\n<text text-anchor=\"middle\" x=\"53.5\" y=\"-207.3\" font-family=\"Times,serif\" font-size=\"14.00\">data 2.0000</text>\n<polyline fill=\"none\" stroke=\"black\" points=\"1.5,-199.5 105.5,-199.5 \"/>\n<text text-anchor=\"middle\" x=\"53.5\" y=\"-184.3\" font-family=\"Times,serif\" font-size=\"14.00\">grad 0.0000</text>\n</g>\n<!-- 140559190301168&#45;&gt;140559190299440* -->\n<g id=\"edge8\" class=\"edge\">\n<title>140559190301168&#45;&gt;140559190299440*</title>\n<path fill=\"none\" stroke=\"black\" d=\"M105.72,-211C114.87,-211 124.22,-211 132.83,-211\"/>\n<polygon fill=\"black\" stroke=\"black\" points=\"132.9,-214.5 142.9,-211 132.9,-207.5 132.9,-214.5\"/>\n</g>\n</g>\n</svg>\n",
      "text/plain": [
       "<graphviz.graphs.Digraph at 0x7fd67c9bbf70>"
      ]
     },
     "execution_count": 202,
     "metadata": {},
     "output_type": "execute_result"
    }
   ],
   "source": [
    "draw_dot(o)"
   ]
  },
  {
   "cell_type": "code",
   "execution_count": 204,
   "metadata": {},
   "outputs": [],
   "source": [
    "x1w1x2w2.grad = 0.5 #Since local derivative is 1, ie for n = x1w1x2w2 + b: dn/d(x1w1x2w2) = 1\n",
    "#similarily\n",
    "b.grad = 0.5\n",
    "x1w1.grad = 0.5\n",
    "x2w2.grad = 0.5"
   ]
  },
  {
   "cell_type": "code",
   "execution_count": 205,
   "metadata": {},
   "outputs": [],
   "source": [
    "x2.grad = w2.data*x2w2.grad\n",
    "w2.grad = x2.data*x2w2.grad\n",
    "\n",
    "x1.grad = w1.data*x1w1.grad\n",
    "w1.grad = x1.data*x1w1.grad"
   ]
  },
  {
   "cell_type": "code",
   "execution_count": 206,
   "metadata": {},
   "outputs": [
    {
     "data": {
      "image/svg+xml": "<?xml version=\"1.0\" encoding=\"UTF-8\" standalone=\"no\"?>\n<!DOCTYPE svg PUBLIC \"-//W3C//DTD SVG 1.1//EN\"\n \"http://www.w3.org/Graphics/SVG/1.1/DTD/svg11.dtd\">\n<!-- Generated by graphviz version 2.43.0 (0)\n -->\n<!-- Title: %3 Pages: 1 -->\n<svg width=\"1073pt\" height=\"342pt\"\n viewBox=\"0.00 0.00 1072.69 342.00\" xmlns=\"http://www.w3.org/2000/svg\" xmlns:xlink=\"http://www.w3.org/1999/xlink\">\n<g id=\"graph0\" class=\"graph\" transform=\"scale(1 1) rotate(0) translate(4 338)\">\n<title>%3</title>\n<polygon fill=\"white\" stroke=\"transparent\" points=\"-4,4 -4,-338 1068.69,-338 1068.69,4 -4,4\"/>\n<!-- 140559190338496 -->\n<g id=\"node1\" class=\"node\">\n<title>140559190338496</title>\n<polygon fill=\"none\" stroke=\"black\" points=\"235.5,-88.5 235.5,-157.5 339.5,-157.5 339.5,-88.5 235.5,-88.5\"/>\n<text text-anchor=\"middle\" x=\"287.5\" y=\"-142.3\" font-family=\"Times,serif\" font-size=\"14.00\">x2*w2</text>\n<polyline fill=\"none\" stroke=\"black\" points=\"235.5,-134.5 339.5,-134.5 \"/>\n<text text-anchor=\"middle\" x=\"287.5\" y=\"-119.3\" font-family=\"Times,serif\" font-size=\"14.00\">data 0.0000</text>\n<polyline fill=\"none\" stroke=\"black\" points=\"235.5,-111.5 339.5,-111.5 \"/>\n<text text-anchor=\"middle\" x=\"287.5\" y=\"-96.3\" font-family=\"Times,serif\" font-size=\"14.00\">grad 0.5000</text>\n</g>\n<!-- 140559190338352+ -->\n<g id=\"node12\" class=\"node\">\n<title>140559190338352+</title>\n<ellipse fill=\"none\" stroke=\"black\" cx=\"404\" cy=\"-167\" rx=\"27\" ry=\"18\"/>\n<text text-anchor=\"middle\" x=\"404\" y=\"-163.3\" font-family=\"Times,serif\" font-size=\"14.00\">+</text>\n</g>\n<!-- 140559190338496&#45;&gt;140559190338352+ -->\n<g id=\"edge14\" class=\"edge\">\n<title>140559190338496&#45;&gt;140559190338352+</title>\n<path fill=\"none\" stroke=\"black\" d=\"M339.72,-142.68C350.24,-146.73 361.03,-150.87 370.66,-154.57\"/>\n<polygon fill=\"black\" stroke=\"black\" points=\"369.62,-157.92 380.21,-158.24 372.13,-151.39 369.62,-157.92\"/>\n</g>\n<!-- 140559190338496* -->\n<g id=\"node2\" class=\"node\">\n<title>140559190338496*</title>\n<ellipse fill=\"none\" stroke=\"black\" cx=\"171\" cy=\"-123\" rx=\"27\" ry=\"18\"/>\n<text text-anchor=\"middle\" x=\"171\" y=\"-119.3\" font-family=\"Times,serif\" font-size=\"14.00\">*</text>\n</g>\n<!-- 140559190338496*&#45;&gt;140559190338496 -->\n<g id=\"edge1\" class=\"edge\">\n<title>140559190338496*&#45;&gt;140559190338496</title>\n<path fill=\"none\" stroke=\"black\" d=\"M198.27,-123C206.32,-123 215.54,-123 224.91,-123\"/>\n<polygon fill=\"black\" stroke=\"black\" points=\"225.09,-126.5 235.09,-123 225.09,-119.5 225.09,-126.5\"/>\n</g>\n<!-- 140559190299728 -->\n<g id=\"node3\" class=\"node\">\n<title>140559190299728</title>\n<polygon fill=\"none\" stroke=\"black\" points=\"2,-88.5 2,-157.5 106,-157.5 106,-88.5 2,-88.5\"/>\n<text text-anchor=\"middle\" x=\"54\" y=\"-142.3\" font-family=\"Times,serif\" font-size=\"14.00\">x2</text>\n<polyline fill=\"none\" stroke=\"black\" points=\"2,-134.5 106,-134.5 \"/>\n<text text-anchor=\"middle\" x=\"54\" y=\"-119.3\" font-family=\"Times,serif\" font-size=\"14.00\">data 0.0000</text>\n<polyline fill=\"none\" stroke=\"black\" points=\"2,-111.5 106,-111.5 \"/>\n<text text-anchor=\"middle\" x=\"54\" y=\"-96.3\" font-family=\"Times,serif\" font-size=\"14.00\">grad 0.5000</text>\n</g>\n<!-- 140559190299728&#45;&gt;140559190338496* -->\n<g id=\"edge11\" class=\"edge\">\n<title>140559190299728&#45;&gt;140559190338496*</title>\n<path fill=\"none\" stroke=\"black\" d=\"M106.11,-123C115.41,-123 124.93,-123 133.69,-123\"/>\n<polygon fill=\"black\" stroke=\"black\" points=\"133.93,-126.5 143.93,-123 133.93,-119.5 133.93,-126.5\"/>\n</g>\n<!-- 140559190309472 -->\n<g id=\"node4\" class=\"node\">\n<title>140559190309472</title>\n<polygon fill=\"none\" stroke=\"black\" points=\"0.5,-264.5 0.5,-333.5 107.5,-333.5 107.5,-264.5 0.5,-264.5\"/>\n<text text-anchor=\"middle\" x=\"54\" y=\"-318.3\" font-family=\"Times,serif\" font-size=\"14.00\">w1</text>\n<polyline fill=\"none\" stroke=\"black\" points=\"0.5,-310.5 107.5,-310.5 \"/>\n<text text-anchor=\"middle\" x=\"54\" y=\"-295.3\" font-family=\"Times,serif\" font-size=\"14.00\">data &#45;3.0000</text>\n<polyline fill=\"none\" stroke=\"black\" points=\"0.5,-287.5 107.5,-287.5 \"/>\n<text text-anchor=\"middle\" x=\"54\" y=\"-272.3\" font-family=\"Times,serif\" font-size=\"14.00\">grad 1.0000</text>\n</g>\n<!-- 140559190299440* -->\n<g id=\"node10\" class=\"node\">\n<title>140559190299440*</title>\n<ellipse fill=\"none\" stroke=\"black\" cx=\"171\" cy=\"-211\" rx=\"27\" ry=\"18\"/>\n<text text-anchor=\"middle\" x=\"171\" y=\"-207.3\" font-family=\"Times,serif\" font-size=\"14.00\">*</text>\n</g>\n<!-- 140559190309472&#45;&gt;140559190299440* -->\n<g id=\"edge12\" class=\"edge\">\n<title>140559190309472&#45;&gt;140559190299440*</title>\n<path fill=\"none\" stroke=\"black\" d=\"M100.12,-264.47C115.19,-252.94 131.46,-240.49 144.5,-230.51\"/>\n<polygon fill=\"black\" stroke=\"black\" points=\"146.74,-233.2 152.56,-224.35 142.49,-227.64 146.74,-233.2\"/>\n</g>\n<!-- 140559190294640 -->\n<g id=\"node5\" class=\"node\">\n<title>140559190294640</title>\n<polygon fill=\"none\" stroke=\"black\" points=\"2,-0.5 2,-69.5 106,-69.5 106,-0.5 2,-0.5\"/>\n<text text-anchor=\"middle\" x=\"54\" y=\"-54.3\" font-family=\"Times,serif\" font-size=\"14.00\">w2</text>\n<polyline fill=\"none\" stroke=\"black\" points=\"2,-46.5 106,-46.5 \"/>\n<text text-anchor=\"middle\" x=\"54\" y=\"-31.3\" font-family=\"Times,serif\" font-size=\"14.00\">data 1.0000</text>\n<polyline fill=\"none\" stroke=\"black\" points=\"2,-23.5 106,-23.5 \"/>\n<text text-anchor=\"middle\" x=\"54\" y=\"-8.3\" font-family=\"Times,serif\" font-size=\"14.00\">grad 0.0000</text>\n</g>\n<!-- 140559190294640&#45;&gt;140559190338496* -->\n<g id=\"edge10\" class=\"edge\">\n<title>140559190294640&#45;&gt;140559190338496*</title>\n<path fill=\"none\" stroke=\"black\" d=\"M100.12,-69.53C115.19,-81.06 131.46,-93.51 144.5,-103.49\"/>\n<polygon fill=\"black\" stroke=\"black\" points=\"142.49,-106.36 152.56,-109.65 146.74,-100.8 142.49,-106.36\"/>\n</g>\n<!-- 140559190310096 -->\n<g id=\"node6\" class=\"node\">\n<title>140559190310096</title>\n<polygon fill=\"none\" stroke=\"black\" points=\"479,-220.5 479,-289.5 583,-289.5 583,-220.5 479,-220.5\"/>\n<text text-anchor=\"middle\" x=\"531\" y=\"-274.3\" font-family=\"Times,serif\" font-size=\"14.00\">b</text>\n<polyline fill=\"none\" stroke=\"black\" points=\"479,-266.5 583,-266.5 \"/>\n<text text-anchor=\"middle\" x=\"531\" y=\"-251.3\" font-family=\"Times,serif\" font-size=\"14.00\">data 6.8814</text>\n<polyline fill=\"none\" stroke=\"black\" points=\"479,-243.5 583,-243.5 \"/>\n<text text-anchor=\"middle\" x=\"531\" y=\"-228.3\" font-family=\"Times,serif\" font-size=\"14.00\">grad 0.5000</text>\n</g>\n<!-- 140559190330816+ -->\n<g id=\"node14\" class=\"node\">\n<title>140559190330816+</title>\n<ellipse fill=\"none\" stroke=\"black\" cx=\"658\" cy=\"-211\" rx=\"27\" ry=\"18\"/>\n<text text-anchor=\"middle\" x=\"658\" y=\"-207.3\" font-family=\"Times,serif\" font-size=\"14.00\">+</text>\n</g>\n<!-- 140559190310096&#45;&gt;140559190330816+ -->\n<g id=\"edge13\" class=\"edge\">\n<title>140559190310096&#45;&gt;140559190330816+</title>\n<path fill=\"none\" stroke=\"black\" d=\"M583.2,-236.98C597.04,-232.11 611.63,-226.97 624.16,-222.56\"/>\n<polygon fill=\"black\" stroke=\"black\" points=\"625.44,-225.82 633.71,-219.2 623.11,-219.22 625.44,-225.82\"/>\n</g>\n<!-- 140559190339312 -->\n<g id=\"node7\" class=\"node\">\n<title>140559190339312</title>\n<polygon fill=\"none\" stroke=\"black\" points=\"960.69,-176.5 960.69,-245.5 1064.69,-245.5 1064.69,-176.5 960.69,-176.5\"/>\n<text text-anchor=\"middle\" x=\"1012.69\" y=\"-230.3\" font-family=\"Times,serif\" font-size=\"14.00\">o</text>\n<polyline fill=\"none\" stroke=\"black\" points=\"960.69,-222.5 1064.69,-222.5 \"/>\n<text text-anchor=\"middle\" x=\"1012.69\" y=\"-207.3\" font-family=\"Times,serif\" font-size=\"14.00\">data 0.7071</text>\n<polyline fill=\"none\" stroke=\"black\" points=\"960.69,-199.5 1064.69,-199.5 \"/>\n<text text-anchor=\"middle\" x=\"1012.69\" y=\"-184.3\" font-family=\"Times,serif\" font-size=\"14.00\">grad 1.0000</text>\n</g>\n<!-- 140559190339312tanh -->\n<g id=\"node8\" class=\"node\">\n<title>140559190339312tanh</title>\n<ellipse fill=\"none\" stroke=\"black\" cx=\"892.85\" cy=\"-211\" rx=\"31.7\" ry=\"18\"/>\n<text text-anchor=\"middle\" x=\"892.85\" y=\"-207.3\" font-family=\"Times,serif\" font-size=\"14.00\">tanh</text>\n</g>\n<!-- 140559190339312tanh&#45;&gt;140559190339312 -->\n<g id=\"edge2\" class=\"edge\">\n<title>140559190339312tanh&#45;&gt;140559190339312</title>\n<path fill=\"none\" stroke=\"black\" d=\"M924.81,-211C932.74,-211 941.54,-211 950.42,-211\"/>\n<polygon fill=\"black\" stroke=\"black\" points=\"950.43,-214.5 960.43,-211 950.43,-207.5 950.43,-214.5\"/>\n</g>\n<!-- 140559190299440 -->\n<g id=\"node9\" class=\"node\">\n<title>140559190299440</title>\n<polygon fill=\"none\" stroke=\"black\" points=\"234,-176.5 234,-245.5 341,-245.5 341,-176.5 234,-176.5\"/>\n<text text-anchor=\"middle\" x=\"287.5\" y=\"-230.3\" font-family=\"Times,serif\" font-size=\"14.00\">x1*w1</text>\n<polyline fill=\"none\" stroke=\"black\" points=\"234,-222.5 341,-222.5 \"/>\n<text text-anchor=\"middle\" x=\"287.5\" y=\"-207.3\" font-family=\"Times,serif\" font-size=\"14.00\">data &#45;6.0000</text>\n<polyline fill=\"none\" stroke=\"black\" points=\"234,-199.5 341,-199.5 \"/>\n<text text-anchor=\"middle\" x=\"287.5\" y=\"-184.3\" font-family=\"Times,serif\" font-size=\"14.00\">grad 0.5000</text>\n</g>\n<!-- 140559190299440&#45;&gt;140559190338352+ -->\n<g id=\"edge9\" class=\"edge\">\n<title>140559190299440&#45;&gt;140559190338352+</title>\n<path fill=\"none\" stroke=\"black\" d=\"M341.06,-190.8C351.16,-186.92 361.46,-182.96 370.68,-179.42\"/>\n<polygon fill=\"black\" stroke=\"black\" points=\"372.13,-182.61 380.21,-175.76 369.62,-176.08 372.13,-182.61\"/>\n</g>\n<!-- 140559190299440*&#45;&gt;140559190299440 -->\n<g id=\"edge3\" class=\"edge\">\n<title>140559190299440*&#45;&gt;140559190299440</title>\n<path fill=\"none\" stroke=\"black\" d=\"M198.27,-211C205.94,-211 214.68,-211 223.61,-211\"/>\n<polygon fill=\"black\" stroke=\"black\" points=\"223.71,-214.5 233.71,-211 223.71,-207.5 223.71,-214.5\"/>\n</g>\n<!-- 140559190338352 -->\n<g id=\"node11\" class=\"node\">\n<title>140559190338352</title>\n<polygon fill=\"none\" stroke=\"black\" points=\"467,-132.5 467,-201.5 595,-201.5 595,-132.5 467,-132.5\"/>\n<text text-anchor=\"middle\" x=\"531\" y=\"-186.3\" font-family=\"Times,serif\" font-size=\"14.00\">x1*w1 + x2*w2</text>\n<polyline fill=\"none\" stroke=\"black\" points=\"467,-178.5 595,-178.5 \"/>\n<text text-anchor=\"middle\" x=\"531\" y=\"-163.3\" font-family=\"Times,serif\" font-size=\"14.00\">data &#45;6.0000</text>\n<polyline fill=\"none\" stroke=\"black\" points=\"467,-155.5 595,-155.5 \"/>\n<text text-anchor=\"middle\" x=\"531\" y=\"-140.3\" font-family=\"Times,serif\" font-size=\"14.00\">grad 0.5000</text>\n</g>\n<!-- 140559190338352&#45;&gt;140559190330816+ -->\n<g id=\"edge7\" class=\"edge\">\n<title>140559190338352&#45;&gt;140559190330816+</title>\n<path fill=\"none\" stroke=\"black\" d=\"M595.23,-189.26C605.26,-192.79 615.27,-196.31 624.22,-199.46\"/>\n<polygon fill=\"black\" stroke=\"black\" points=\"623.22,-202.82 633.81,-202.84 625.54,-196.22 623.22,-202.82\"/>\n</g>\n<!-- 140559190338352+&#45;&gt;140559190338352 -->\n<g id=\"edge4\" class=\"edge\">\n<title>140559190338352+&#45;&gt;140559190338352</title>\n<path fill=\"none\" stroke=\"black\" d=\"M431.2,-167C438.8,-167 447.49,-167 456.49,-167\"/>\n<polygon fill=\"black\" stroke=\"black\" points=\"456.75,-170.5 466.75,-167 456.75,-163.5 456.75,-170.5\"/>\n</g>\n<!-- 140559190330816 -->\n<g id=\"node13\" class=\"node\">\n<title>140559190330816</title>\n<polygon fill=\"none\" stroke=\"black\" points=\"721,-176.5 721,-245.5 825,-245.5 825,-176.5 721,-176.5\"/>\n<text text-anchor=\"middle\" x=\"773\" y=\"-230.3\" font-family=\"Times,serif\" font-size=\"14.00\">n</text>\n<polyline fill=\"none\" stroke=\"black\" points=\"721,-222.5 825,-222.5 \"/>\n<text text-anchor=\"middle\" x=\"773\" y=\"-207.3\" font-family=\"Times,serif\" font-size=\"14.00\">data 0.8814</text>\n<polyline fill=\"none\" stroke=\"black\" points=\"721,-199.5 825,-199.5 \"/>\n<text text-anchor=\"middle\" x=\"773\" y=\"-184.3\" font-family=\"Times,serif\" font-size=\"14.00\">grad 0.5000</text>\n</g>\n<!-- 140559190330816&#45;&gt;140559190339312tanh -->\n<g id=\"edge6\" class=\"edge\">\n<title>140559190330816&#45;&gt;140559190339312tanh</title>\n<path fill=\"none\" stroke=\"black\" d=\"M825,-211C833.58,-211 842.38,-211 850.66,-211\"/>\n<polygon fill=\"black\" stroke=\"black\" points=\"850.82,-214.5 860.82,-211 850.82,-207.5 850.82,-214.5\"/>\n</g>\n<!-- 140559190330816+&#45;&gt;140559190330816 -->\n<g id=\"edge5\" class=\"edge\">\n<title>140559190330816+&#45;&gt;140559190330816</title>\n<path fill=\"none\" stroke=\"black\" d=\"M685.21,-211C692.88,-211 701.62,-211 710.51,-211\"/>\n<polygon fill=\"black\" stroke=\"black\" points=\"710.58,-214.5 720.58,-211 710.58,-207.5 710.58,-214.5\"/>\n</g>\n<!-- 140559190301168 -->\n<g id=\"node15\" class=\"node\">\n<title>140559190301168</title>\n<polygon fill=\"none\" stroke=\"black\" points=\"0,-176.5 0,-245.5 108,-245.5 108,-176.5 0,-176.5\"/>\n<text text-anchor=\"middle\" x=\"54\" y=\"-230.3\" font-family=\"Times,serif\" font-size=\"14.00\">x1</text>\n<polyline fill=\"none\" stroke=\"black\" points=\"0,-222.5 108,-222.5 \"/>\n<text text-anchor=\"middle\" x=\"54\" y=\"-207.3\" font-family=\"Times,serif\" font-size=\"14.00\">data 2.0000</text>\n<polyline fill=\"none\" stroke=\"black\" points=\"0,-199.5 108,-199.5 \"/>\n<text text-anchor=\"middle\" x=\"54\" y=\"-184.3\" font-family=\"Times,serif\" font-size=\"14.00\">grad &#45;1.5000</text>\n</g>\n<!-- 140559190301168&#45;&gt;140559190299440* -->\n<g id=\"edge8\" class=\"edge\">\n<title>140559190301168&#45;&gt;140559190299440*</title>\n<path fill=\"none\" stroke=\"black\" d=\"M108.12,-211C116.72,-211 125.44,-211 133.52,-211\"/>\n<polygon fill=\"black\" stroke=\"black\" points=\"133.71,-214.5 143.71,-211 133.71,-207.5 133.71,-214.5\"/>\n</g>\n</g>\n</svg>\n",
      "text/plain": [
       "<graphviz.graphs.Digraph at 0x7fd67c9ba1a0>"
      ]
     },
     "execution_count": 206,
     "metadata": {},
     "output_type": "execute_result"
    }
   ],
   "source": [
    "draw_dot(o)"
   ]
  },
  {
   "cell_type": "markdown",
   "metadata": {},
   "source": [
    "Automate Backprop"
   ]
  },
  {
   "cell_type": "code",
   "execution_count": 214,
   "metadata": {},
   "outputs": [
    {
     "data": {
      "text/plain": [
       "Value(data=-20.0)"
      ]
     },
     "execution_count": 214,
     "metadata": {},
     "output_type": "execute_result"
    }
   ],
   "source": [
    "class Value:\n",
    "\n",
    "    def __init__(self, data, _children=(), _op='', label='', ):\n",
    "        self.data = data\n",
    "        self.grad = 0.0\n",
    "        self._backward = lambda: None\n",
    "        self._prev = set(_children)\n",
    "        self._op = _op\n",
    "        self.label = label\n",
    "    \n",
    "    def __repr__(self):\n",
    "        return f\"Value(data={self.data})\"\n",
    "    \n",
    "    def __add__(self, other):\n",
    "        out = Value(self.data + other.data, (self, other), '+')\n",
    "        def _backward():\n",
    "            self.grad = 1.0 * out.grad\n",
    "            other.grad = 1.0 * out.grad\n",
    "        out._backward = _backward\n",
    "        return out\n",
    "    \n",
    "    def __mul__(self, other):\n",
    "        out = Value(self.data * other.data, (self, other), '*')\n",
    "        def _backward():\n",
    "            self.grad = other.data * out.grad\n",
    "            other.gard = self.grad * out.grad\n",
    "        out._backward = _backward\n",
    "\n",
    "        return out\n",
    "    \n",
    "    def tanh(self):\n",
    "        x = self.data\n",
    "        t = (math.exp(2*x)-1)/(math.exp(2*x)+1)\n",
    "        out = Value(t, (self, ), 'tanh')\n",
    "\n",
    "        def _backward():\n",
    "            self.grad = (1- t**2) * out.grad\n",
    "        out._backward = _backward\n",
    "\n",
    "        return out\n",
    "    \n",
    "a = Value(2.0, label='a')\n",
    "b = Value(3.0, label='b')\n",
    "c = Value(4.0, label='c')\n",
    "\n",
    "e = a*b; e.label='e'\n",
    "e\n",
    "d = e+c; d.label = 'd'\n",
    "f = Value(-2.0, label='f')\n",
    "L = d*f; L.label='L'\n",
    "L"
   ]
  },
  {
   "cell_type": "code",
   "execution_count": 235,
   "metadata": {},
   "outputs": [
    {
     "data": {
      "image/svg+xml": "<?xml version=\"1.0\" encoding=\"UTF-8\" standalone=\"no\"?>\n<!DOCTYPE svg PUBLIC \"-//W3C//DTD SVG 1.1//EN\"\n \"http://www.w3.org/Graphics/SVG/1.1/DTD/svg11.dtd\">\n<!-- Generated by graphviz version 2.43.0 (0)\n -->\n<!-- Title: %3 Pages: 1 -->\n<svg width=\"1072pt\" height=\"342pt\"\n viewBox=\"0.00 0.00 1071.69 342.00\" xmlns=\"http://www.w3.org/2000/svg\" xmlns:xlink=\"http://www.w3.org/1999/xlink\">\n<g id=\"graph0\" class=\"graph\" transform=\"scale(1 1) rotate(0) translate(4 338)\">\n<title>%3</title>\n<polygon fill=\"white\" stroke=\"transparent\" points=\"-4,4 -4,-338 1067.69,-338 1067.69,4 -4,4\"/>\n<!-- 140559190051856 -->\n<g id=\"node1\" class=\"node\">\n<title>140559190051856</title>\n<polygon fill=\"none\" stroke=\"black\" points=\"234.5,-88.5 234.5,-157.5 338.5,-157.5 338.5,-88.5 234.5,-88.5\"/>\n<text text-anchor=\"middle\" x=\"286.5\" y=\"-142.3\" font-family=\"Times,serif\" font-size=\"14.00\">x2*w2</text>\n<polyline fill=\"none\" stroke=\"black\" points=\"234.5,-134.5 338.5,-134.5 \"/>\n<text text-anchor=\"middle\" x=\"286.5\" y=\"-119.3\" font-family=\"Times,serif\" font-size=\"14.00\">data 0.0000</text>\n<polyline fill=\"none\" stroke=\"black\" points=\"234.5,-111.5 338.5,-111.5 \"/>\n<text text-anchor=\"middle\" x=\"286.5\" y=\"-96.3\" font-family=\"Times,serif\" font-size=\"14.00\">grad 0.0000</text>\n</g>\n<!-- 140559190049984+ -->\n<g id=\"node6\" class=\"node\">\n<title>140559190049984+</title>\n<ellipse fill=\"none\" stroke=\"black\" cx=\"403\" cy=\"-167\" rx=\"27\" ry=\"18\"/>\n<text text-anchor=\"middle\" x=\"403\" y=\"-163.3\" font-family=\"Times,serif\" font-size=\"14.00\">+</text>\n</g>\n<!-- 140559190051856&#45;&gt;140559190049984+ -->\n<g id=\"edge12\" class=\"edge\">\n<title>140559190051856&#45;&gt;140559190049984+</title>\n<path fill=\"none\" stroke=\"black\" d=\"M338.72,-142.68C349.24,-146.73 360.03,-150.87 369.66,-154.57\"/>\n<polygon fill=\"black\" stroke=\"black\" points=\"368.62,-157.92 379.21,-158.24 371.13,-151.39 368.62,-157.92\"/>\n</g>\n<!-- 140559190051856* -->\n<g id=\"node2\" class=\"node\">\n<title>140559190051856*</title>\n<ellipse fill=\"none\" stroke=\"black\" cx=\"170\" cy=\"-123\" rx=\"27\" ry=\"18\"/>\n<text text-anchor=\"middle\" x=\"170\" y=\"-119.3\" font-family=\"Times,serif\" font-size=\"14.00\">*</text>\n</g>\n<!-- 140559190051856*&#45;&gt;140559190051856 -->\n<g id=\"edge1\" class=\"edge\">\n<title>140559190051856*&#45;&gt;140559190051856</title>\n<path fill=\"none\" stroke=\"black\" d=\"M197.27,-123C205.32,-123 214.54,-123 223.91,-123\"/>\n<polygon fill=\"black\" stroke=\"black\" points=\"224.09,-126.5 234.09,-123 224.09,-119.5 224.09,-126.5\"/>\n</g>\n<!-- 140559189628464 -->\n<g id=\"node3\" class=\"node\">\n<title>140559189628464</title>\n<polygon fill=\"none\" stroke=\"black\" points=\"1.5,-88.5 1.5,-157.5 105.5,-157.5 105.5,-88.5 1.5,-88.5\"/>\n<text text-anchor=\"middle\" x=\"53.5\" y=\"-142.3\" font-family=\"Times,serif\" font-size=\"14.00\">x2</text>\n<polyline fill=\"none\" stroke=\"black\" points=\"1.5,-134.5 105.5,-134.5 \"/>\n<text text-anchor=\"middle\" x=\"53.5\" y=\"-119.3\" font-family=\"Times,serif\" font-size=\"14.00\">data 0.0000</text>\n<polyline fill=\"none\" stroke=\"black\" points=\"1.5,-111.5 105.5,-111.5 \"/>\n<text text-anchor=\"middle\" x=\"53.5\" y=\"-96.3\" font-family=\"Times,serif\" font-size=\"14.00\">grad 0.0000</text>\n</g>\n<!-- 140559189628464&#45;&gt;140559190051856* -->\n<g id=\"edge14\" class=\"edge\">\n<title>140559189628464&#45;&gt;140559190051856*</title>\n<path fill=\"none\" stroke=\"black\" d=\"M105.72,-123C114.87,-123 124.22,-123 132.83,-123\"/>\n<polygon fill=\"black\" stroke=\"black\" points=\"132.9,-126.5 142.9,-123 132.9,-119.5 132.9,-126.5\"/>\n</g>\n<!-- 140559190060688 -->\n<g id=\"node4\" class=\"node\">\n<title>140559190060688</title>\n<polygon fill=\"none\" stroke=\"black\" points=\"1.5,-0.5 1.5,-69.5 105.5,-69.5 105.5,-0.5 1.5,-0.5\"/>\n<text text-anchor=\"middle\" x=\"53.5\" y=\"-54.3\" font-family=\"Times,serif\" font-size=\"14.00\">w2</text>\n<polyline fill=\"none\" stroke=\"black\" points=\"1.5,-46.5 105.5,-46.5 \"/>\n<text text-anchor=\"middle\" x=\"53.5\" y=\"-31.3\" font-family=\"Times,serif\" font-size=\"14.00\">data 1.0000</text>\n<polyline fill=\"none\" stroke=\"black\" points=\"1.5,-23.5 105.5,-23.5 \"/>\n<text text-anchor=\"middle\" x=\"53.5\" y=\"-8.3\" font-family=\"Times,serif\" font-size=\"14.00\">grad 0.0000</text>\n</g>\n<!-- 140559190060688&#45;&gt;140559190051856* -->\n<g id=\"edge8\" class=\"edge\">\n<title>140559190060688&#45;&gt;140559190051856*</title>\n<path fill=\"none\" stroke=\"black\" d=\"M99.42,-69.53C114.43,-81.06 130.63,-93.51 143.61,-103.49\"/>\n<polygon fill=\"black\" stroke=\"black\" points=\"141.57,-106.34 151.64,-109.65 145.84,-100.79 141.57,-106.34\"/>\n</g>\n<!-- 140559190049984 -->\n<g id=\"node5\" class=\"node\">\n<title>140559190049984</title>\n<polygon fill=\"none\" stroke=\"black\" points=\"466,-132.5 466,-201.5 594,-201.5 594,-132.5 466,-132.5\"/>\n<text text-anchor=\"middle\" x=\"530\" y=\"-186.3\" font-family=\"Times,serif\" font-size=\"14.00\">x1*w1 + x2*w2</text>\n<polyline fill=\"none\" stroke=\"black\" points=\"466,-178.5 594,-178.5 \"/>\n<text text-anchor=\"middle\" x=\"530\" y=\"-163.3\" font-family=\"Times,serif\" font-size=\"14.00\">data &#45;6.0000</text>\n<polyline fill=\"none\" stroke=\"black\" points=\"466,-155.5 594,-155.5 \"/>\n<text text-anchor=\"middle\" x=\"530\" y=\"-140.3\" font-family=\"Times,serif\" font-size=\"14.00\">grad 0.0000</text>\n</g>\n<!-- 140559190052336+ -->\n<g id=\"node15\" class=\"node\">\n<title>140559190052336+</title>\n<ellipse fill=\"none\" stroke=\"black\" cx=\"657\" cy=\"-211\" rx=\"27\" ry=\"18\"/>\n<text text-anchor=\"middle\" x=\"657\" y=\"-207.3\" font-family=\"Times,serif\" font-size=\"14.00\">+</text>\n</g>\n<!-- 140559190049984&#45;&gt;140559190052336+ -->\n<g id=\"edge6\" class=\"edge\">\n<title>140559190049984&#45;&gt;140559190052336+</title>\n<path fill=\"none\" stroke=\"black\" d=\"M594.23,-189.26C604.26,-192.79 614.27,-196.31 623.22,-199.46\"/>\n<polygon fill=\"black\" stroke=\"black\" points=\"622.22,-202.82 632.81,-202.84 624.54,-196.22 622.22,-202.82\"/>\n</g>\n<!-- 140559190049984+&#45;&gt;140559190049984 -->\n<g id=\"edge2\" class=\"edge\">\n<title>140559190049984+&#45;&gt;140559190049984</title>\n<path fill=\"none\" stroke=\"black\" d=\"M430.2,-167C437.8,-167 446.49,-167 455.49,-167\"/>\n<polygon fill=\"black\" stroke=\"black\" points=\"455.75,-170.5 465.75,-167 455.75,-163.5 455.75,-170.5\"/>\n</g>\n<!-- 140559189627072 -->\n<g id=\"node7\" class=\"node\">\n<title>140559189627072</title>\n<polygon fill=\"none\" stroke=\"black\" points=\"0,-264.5 0,-333.5 107,-333.5 107,-264.5 0,-264.5\"/>\n<text text-anchor=\"middle\" x=\"53.5\" y=\"-318.3\" font-family=\"Times,serif\" font-size=\"14.00\">w1</text>\n<polyline fill=\"none\" stroke=\"black\" points=\"0,-310.5 107,-310.5 \"/>\n<text text-anchor=\"middle\" x=\"53.5\" y=\"-295.3\" font-family=\"Times,serif\" font-size=\"14.00\">data &#45;3.0000</text>\n<polyline fill=\"none\" stroke=\"black\" points=\"0,-287.5 107,-287.5 \"/>\n<text text-anchor=\"middle\" x=\"53.5\" y=\"-272.3\" font-family=\"Times,serif\" font-size=\"14.00\">grad 0.0000</text>\n</g>\n<!-- 140559190061840* -->\n<g id=\"node9\" class=\"node\">\n<title>140559190061840*</title>\n<ellipse fill=\"none\" stroke=\"black\" cx=\"170\" cy=\"-211\" rx=\"27\" ry=\"18\"/>\n<text text-anchor=\"middle\" x=\"170\" y=\"-207.3\" font-family=\"Times,serif\" font-size=\"14.00\">*</text>\n</g>\n<!-- 140559189627072&#45;&gt;140559190061840* -->\n<g id=\"edge10\" class=\"edge\">\n<title>140559189627072&#45;&gt;140559190061840*</title>\n<path fill=\"none\" stroke=\"black\" d=\"M99.42,-264.47C114.43,-252.94 130.63,-240.49 143.61,-230.51\"/>\n<polygon fill=\"black\" stroke=\"black\" points=\"145.84,-233.21 151.64,-224.35 141.57,-227.66 145.84,-233.21\"/>\n</g>\n<!-- 140559190061840 -->\n<g id=\"node8\" class=\"node\">\n<title>140559190061840</title>\n<polygon fill=\"none\" stroke=\"black\" points=\"233,-176.5 233,-245.5 340,-245.5 340,-176.5 233,-176.5\"/>\n<text text-anchor=\"middle\" x=\"286.5\" y=\"-230.3\" font-family=\"Times,serif\" font-size=\"14.00\">x1*w1</text>\n<polyline fill=\"none\" stroke=\"black\" points=\"233,-222.5 340,-222.5 \"/>\n<text text-anchor=\"middle\" x=\"286.5\" y=\"-207.3\" font-family=\"Times,serif\" font-size=\"14.00\">data &#45;6.0000</text>\n<polyline fill=\"none\" stroke=\"black\" points=\"233,-199.5 340,-199.5 \"/>\n<text text-anchor=\"middle\" x=\"286.5\" y=\"-184.3\" font-family=\"Times,serif\" font-size=\"14.00\">grad 0.0000</text>\n</g>\n<!-- 140559190061840&#45;&gt;140559190049984+ -->\n<g id=\"edge13\" class=\"edge\">\n<title>140559190061840&#45;&gt;140559190049984+</title>\n<path fill=\"none\" stroke=\"black\" d=\"M340.06,-190.8C350.16,-186.92 360.46,-182.96 369.68,-179.42\"/>\n<polygon fill=\"black\" stroke=\"black\" points=\"371.13,-182.61 379.21,-175.76 368.62,-176.08 371.13,-182.61\"/>\n</g>\n<!-- 140559190061840*&#45;&gt;140559190061840 -->\n<g id=\"edge3\" class=\"edge\">\n<title>140559190061840*&#45;&gt;140559190061840</title>\n<path fill=\"none\" stroke=\"black\" d=\"M197.27,-211C204.94,-211 213.68,-211 222.61,-211\"/>\n<polygon fill=\"black\" stroke=\"black\" points=\"222.71,-214.5 232.71,-211 222.71,-207.5 222.71,-214.5\"/>\n</g>\n<!-- 140559190060832 -->\n<g id=\"node10\" class=\"node\">\n<title>140559190060832</title>\n<polygon fill=\"none\" stroke=\"black\" points=\"478,-220.5 478,-289.5 582,-289.5 582,-220.5 478,-220.5\"/>\n<text text-anchor=\"middle\" x=\"530\" y=\"-274.3\" font-family=\"Times,serif\" font-size=\"14.00\">b</text>\n<polyline fill=\"none\" stroke=\"black\" points=\"478,-266.5 582,-266.5 \"/>\n<text text-anchor=\"middle\" x=\"530\" y=\"-251.3\" font-family=\"Times,serif\" font-size=\"14.00\">data 6.8814</text>\n<polyline fill=\"none\" stroke=\"black\" points=\"478,-243.5 582,-243.5 \"/>\n<text text-anchor=\"middle\" x=\"530\" y=\"-228.3\" font-family=\"Times,serif\" font-size=\"14.00\">grad 0.0000</text>\n</g>\n<!-- 140559190060832&#45;&gt;140559190052336+ -->\n<g id=\"edge7\" class=\"edge\">\n<title>140559190060832&#45;&gt;140559190052336+</title>\n<path fill=\"none\" stroke=\"black\" d=\"M582.2,-236.98C596.04,-232.11 610.63,-226.97 623.16,-222.56\"/>\n<polygon fill=\"black\" stroke=\"black\" points=\"624.44,-225.82 632.71,-219.2 622.11,-219.22 624.44,-225.82\"/>\n</g>\n<!-- 140559195341152 -->\n<g id=\"node11\" class=\"node\">\n<title>140559195341152</title>\n<polygon fill=\"none\" stroke=\"black\" points=\"959.69,-176.5 959.69,-245.5 1063.69,-245.5 1063.69,-176.5 959.69,-176.5\"/>\n<text text-anchor=\"middle\" x=\"1011.69\" y=\"-230.3\" font-family=\"Times,serif\" font-size=\"14.00\">o</text>\n<polyline fill=\"none\" stroke=\"black\" points=\"959.69,-222.5 1063.69,-222.5 \"/>\n<text text-anchor=\"middle\" x=\"1011.69\" y=\"-207.3\" font-family=\"Times,serif\" font-size=\"14.00\">data 0.7071</text>\n<polyline fill=\"none\" stroke=\"black\" points=\"959.69,-199.5 1063.69,-199.5 \"/>\n<text text-anchor=\"middle\" x=\"1011.69\" y=\"-184.3\" font-family=\"Times,serif\" font-size=\"14.00\">grad 0.0000</text>\n</g>\n<!-- 140559195341152tanh -->\n<g id=\"node12\" class=\"node\">\n<title>140559195341152tanh</title>\n<ellipse fill=\"none\" stroke=\"black\" cx=\"891.85\" cy=\"-211\" rx=\"31.7\" ry=\"18\"/>\n<text text-anchor=\"middle\" x=\"891.85\" y=\"-207.3\" font-family=\"Times,serif\" font-size=\"14.00\">tanh</text>\n</g>\n<!-- 140559195341152tanh&#45;&gt;140559195341152 -->\n<g id=\"edge4\" class=\"edge\">\n<title>140559195341152tanh&#45;&gt;140559195341152</title>\n<path fill=\"none\" stroke=\"black\" d=\"M923.81,-211C931.74,-211 940.54,-211 949.42,-211\"/>\n<polygon fill=\"black\" stroke=\"black\" points=\"949.43,-214.5 959.43,-211 949.43,-207.5 949.43,-214.5\"/>\n</g>\n<!-- 140559190059392 -->\n<g id=\"node13\" class=\"node\">\n<title>140559190059392</title>\n<polygon fill=\"none\" stroke=\"black\" points=\"1.5,-176.5 1.5,-245.5 105.5,-245.5 105.5,-176.5 1.5,-176.5\"/>\n<text text-anchor=\"middle\" x=\"53.5\" y=\"-230.3\" font-family=\"Times,serif\" font-size=\"14.00\">x1</text>\n<polyline fill=\"none\" stroke=\"black\" points=\"1.5,-222.5 105.5,-222.5 \"/>\n<text text-anchor=\"middle\" x=\"53.5\" y=\"-207.3\" font-family=\"Times,serif\" font-size=\"14.00\">data 2.0000</text>\n<polyline fill=\"none\" stroke=\"black\" points=\"1.5,-199.5 105.5,-199.5 \"/>\n<text text-anchor=\"middle\" x=\"53.5\" y=\"-184.3\" font-family=\"Times,serif\" font-size=\"14.00\">grad 0.0000</text>\n</g>\n<!-- 140559190059392&#45;&gt;140559190061840* -->\n<g id=\"edge9\" class=\"edge\">\n<title>140559190059392&#45;&gt;140559190061840*</title>\n<path fill=\"none\" stroke=\"black\" d=\"M105.72,-211C114.87,-211 124.22,-211 132.83,-211\"/>\n<polygon fill=\"black\" stroke=\"black\" points=\"132.9,-214.5 142.9,-211 132.9,-207.5 132.9,-214.5\"/>\n</g>\n<!-- 140559190052336 -->\n<g id=\"node14\" class=\"node\">\n<title>140559190052336</title>\n<polygon fill=\"none\" stroke=\"black\" points=\"720,-176.5 720,-245.5 824,-245.5 824,-176.5 720,-176.5\"/>\n<text text-anchor=\"middle\" x=\"772\" y=\"-230.3\" font-family=\"Times,serif\" font-size=\"14.00\">n</text>\n<polyline fill=\"none\" stroke=\"black\" points=\"720,-222.5 824,-222.5 \"/>\n<text text-anchor=\"middle\" x=\"772\" y=\"-207.3\" font-family=\"Times,serif\" font-size=\"14.00\">data 0.8814</text>\n<polyline fill=\"none\" stroke=\"black\" points=\"720,-199.5 824,-199.5 \"/>\n<text text-anchor=\"middle\" x=\"772\" y=\"-184.3\" font-family=\"Times,serif\" font-size=\"14.00\">grad 0.0000</text>\n</g>\n<!-- 140559190052336&#45;&gt;140559195341152tanh -->\n<g id=\"edge11\" class=\"edge\">\n<title>140559190052336&#45;&gt;140559195341152tanh</title>\n<path fill=\"none\" stroke=\"black\" d=\"M824,-211C832.58,-211 841.38,-211 849.66,-211\"/>\n<polygon fill=\"black\" stroke=\"black\" points=\"849.82,-214.5 859.82,-211 849.82,-207.5 849.82,-214.5\"/>\n</g>\n<!-- 140559190052336+&#45;&gt;140559190052336 -->\n<g id=\"edge5\" class=\"edge\">\n<title>140559190052336+&#45;&gt;140559190052336</title>\n<path fill=\"none\" stroke=\"black\" d=\"M684.21,-211C691.88,-211 700.62,-211 709.51,-211\"/>\n<polygon fill=\"black\" stroke=\"black\" points=\"709.58,-214.5 719.58,-211 709.58,-207.5 709.58,-214.5\"/>\n</g>\n</g>\n</svg>\n",
      "text/plain": [
       "<graphviz.graphs.Digraph at 0x7fd67c97c700>"
      ]
     },
     "execution_count": 235,
     "metadata": {},
     "output_type": "execute_result"
    }
   ],
   "source": [
    "#inputs\n",
    "x1 = Value(2.0, label='x1')\n",
    "x2 = Value(0.0, label='x2')\n",
    "\n",
    "#weights\n",
    "w1 = Value(-3.0, label='w1')\n",
    "w2 = Value(1.0, label='w2')\n",
    "\n",
    "#bias\n",
    "b = Value(6.88137358, label='b')\n",
    "\n",
    "#output\n",
    "x1w1 = x1*w1; x1w1.label = 'x1*w1'\n",
    "x2w2 = x2*w2; x2w2.label = 'x2*w2'\n",
    "\n",
    "x1w1x2w2 = x1w1 + x2w2; x1w1x2w2.label = 'x1*w1 + x2*w2'\n",
    "n = x1w1x2w2 + b; n.label = 'n'\n",
    "o = n.tanh(); o.label = 'o'\n",
    "\n",
    "draw_dot(o)"
   ]
  },
  {
   "cell_type": "code",
   "execution_count": 218,
   "metadata": {},
   "outputs": [],
   "source": [
    "o.grad = 1.0\n",
    "o._backward()"
   ]
  },
  {
   "cell_type": "code",
   "execution_count": 220,
   "metadata": {},
   "outputs": [],
   "source": [
    "n._backward()"
   ]
  },
  {
   "cell_type": "code",
   "execution_count": 222,
   "metadata": {},
   "outputs": [],
   "source": [
    "b._backward()"
   ]
  },
  {
   "cell_type": "code",
   "execution_count": 224,
   "metadata": {},
   "outputs": [],
   "source": [
    "x1w1x2w2._backward()"
   ]
  },
  {
   "cell_type": "code",
   "execution_count": 226,
   "metadata": {},
   "outputs": [],
   "source": [
    "x1w1._backward()"
   ]
  },
  {
   "cell_type": "code",
   "execution_count": 227,
   "metadata": {},
   "outputs": [],
   "source": [
    "x2w2._backward()"
   ]
  },
  {
   "cell_type": "code",
   "execution_count": 228,
   "metadata": {},
   "outputs": [
    {
     "data": {
      "image/svg+xml": "<?xml version=\"1.0\" encoding=\"UTF-8\" standalone=\"no\"?>\n<!DOCTYPE svg PUBLIC \"-//W3C//DTD SVG 1.1//EN\"\n \"http://www.w3.org/Graphics/SVG/1.1/DTD/svg11.dtd\">\n<!-- Generated by graphviz version 2.43.0 (0)\n -->\n<!-- Title: %3 Pages: 1 -->\n<svg width=\"1073pt\" height=\"342pt\"\n viewBox=\"0.00 0.00 1072.69 342.00\" xmlns=\"http://www.w3.org/2000/svg\" xmlns:xlink=\"http://www.w3.org/1999/xlink\">\n<g id=\"graph0\" class=\"graph\" transform=\"scale(1 1) rotate(0) translate(4 338)\">\n<title>%3</title>\n<polygon fill=\"white\" stroke=\"transparent\" points=\"-4,4 -4,-338 1068.69,-338 1068.69,4 -4,4\"/>\n<!-- 140559191527424 -->\n<g id=\"node1\" class=\"node\">\n<title>140559191527424</title>\n<polygon fill=\"none\" stroke=\"black\" points=\"0,-264.5 0,-333.5 108,-333.5 108,-264.5 0,-264.5\"/>\n<text text-anchor=\"middle\" x=\"54\" y=\"-318.3\" font-family=\"Times,serif\" font-size=\"14.00\">x1</text>\n<polyline fill=\"none\" stroke=\"black\" points=\"0,-310.5 108,-310.5 \"/>\n<text text-anchor=\"middle\" x=\"54\" y=\"-295.3\" font-family=\"Times,serif\" font-size=\"14.00\">data 2.0000</text>\n<polyline fill=\"none\" stroke=\"black\" points=\"0,-287.5 108,-287.5 \"/>\n<text text-anchor=\"middle\" x=\"54\" y=\"-272.3\" font-family=\"Times,serif\" font-size=\"14.00\">grad &#45;1.5000</text>\n</g>\n<!-- 140559194761024* -->\n<g id=\"node7\" class=\"node\">\n<title>140559194761024*</title>\n<ellipse fill=\"none\" stroke=\"black\" cx=\"171\" cy=\"-211\" rx=\"27\" ry=\"18\"/>\n<text text-anchor=\"middle\" x=\"171\" y=\"-207.3\" font-family=\"Times,serif\" font-size=\"14.00\">*</text>\n</g>\n<!-- 140559191527424&#45;&gt;140559194761024* -->\n<g id=\"edge14\" class=\"edge\">\n<title>140559191527424&#45;&gt;140559194761024*</title>\n<path fill=\"none\" stroke=\"black\" d=\"M100.12,-264.47C115.19,-252.94 131.46,-240.49 144.5,-230.51\"/>\n<polygon fill=\"black\" stroke=\"black\" points=\"146.74,-233.2 152.56,-224.35 142.49,-227.64 146.74,-233.2\"/>\n</g>\n<!-- 140559191529056 -->\n<g id=\"node2\" class=\"node\">\n<title>140559191529056</title>\n<polygon fill=\"none\" stroke=\"black\" points=\"0.5,-176.5 0.5,-245.5 107.5,-245.5 107.5,-176.5 0.5,-176.5\"/>\n<text text-anchor=\"middle\" x=\"54\" y=\"-230.3\" font-family=\"Times,serif\" font-size=\"14.00\">w1</text>\n<polyline fill=\"none\" stroke=\"black\" points=\"0.5,-222.5 107.5,-222.5 \"/>\n<text text-anchor=\"middle\" x=\"54\" y=\"-207.3\" font-family=\"Times,serif\" font-size=\"14.00\">data &#45;3.0000</text>\n<polyline fill=\"none\" stroke=\"black\" points=\"0.5,-199.5 107.5,-199.5 \"/>\n<text text-anchor=\"middle\" x=\"54\" y=\"-184.3\" font-family=\"Times,serif\" font-size=\"14.00\">grad 0.0000</text>\n</g>\n<!-- 140559191529056&#45;&gt;140559194761024* -->\n<g id=\"edge9\" class=\"edge\">\n<title>140559191529056&#45;&gt;140559194761024*</title>\n<path fill=\"none\" stroke=\"black\" d=\"M107.79,-211C116.59,-211 125.54,-211 133.8,-211\"/>\n<polygon fill=\"black\" stroke=\"black\" points=\"133.85,-214.5 143.85,-211 133.85,-207.5 133.85,-214.5\"/>\n</g>\n<!-- 140559194762896 -->\n<g id=\"node3\" class=\"node\">\n<title>140559194762896</title>\n<polygon fill=\"none\" stroke=\"black\" points=\"467,-132.5 467,-201.5 595,-201.5 595,-132.5 467,-132.5\"/>\n<text text-anchor=\"middle\" x=\"531\" y=\"-186.3\" font-family=\"Times,serif\" font-size=\"14.00\">x1*w1 + x2*w2</text>\n<polyline fill=\"none\" stroke=\"black\" points=\"467,-178.5 595,-178.5 \"/>\n<text text-anchor=\"middle\" x=\"531\" y=\"-163.3\" font-family=\"Times,serif\" font-size=\"14.00\">data &#45;6.0000</text>\n<polyline fill=\"none\" stroke=\"black\" points=\"467,-155.5 595,-155.5 \"/>\n<text text-anchor=\"middle\" x=\"531\" y=\"-140.3\" font-family=\"Times,serif\" font-size=\"14.00\">grad 0.5000</text>\n</g>\n<!-- 140559194762704+ -->\n<g id=\"node15\" class=\"node\">\n<title>140559194762704+</title>\n<ellipse fill=\"none\" stroke=\"black\" cx=\"658\" cy=\"-123\" rx=\"27\" ry=\"18\"/>\n<text text-anchor=\"middle\" x=\"658\" y=\"-119.3\" font-family=\"Times,serif\" font-size=\"14.00\">+</text>\n</g>\n<!-- 140559194762896&#45;&gt;140559194762704+ -->\n<g id=\"edge10\" class=\"edge\">\n<title>140559194762896&#45;&gt;140559194762704+</title>\n<path fill=\"none\" stroke=\"black\" d=\"M595.23,-144.74C605.26,-141.21 615.27,-137.69 624.22,-134.54\"/>\n<polygon fill=\"black\" stroke=\"black\" points=\"625.54,-137.78 633.81,-131.16 623.22,-131.18 625.54,-137.78\"/>\n</g>\n<!-- 140559194762896+ -->\n<g id=\"node4\" class=\"node\">\n<title>140559194762896+</title>\n<ellipse fill=\"none\" stroke=\"black\" cx=\"404\" cy=\"-167\" rx=\"27\" ry=\"18\"/>\n<text text-anchor=\"middle\" x=\"404\" y=\"-163.3\" font-family=\"Times,serif\" font-size=\"14.00\">+</text>\n</g>\n<!-- 140559194762896+&#45;&gt;140559194762896 -->\n<g id=\"edge1\" class=\"edge\">\n<title>140559194762896+&#45;&gt;140559194762896</title>\n<path fill=\"none\" stroke=\"black\" d=\"M431.2,-167C438.8,-167 447.49,-167 456.49,-167\"/>\n<polygon fill=\"black\" stroke=\"black\" points=\"456.75,-170.5 466.75,-167 456.75,-163.5 456.75,-170.5\"/>\n</g>\n<!-- 140559191525120 -->\n<g id=\"node5\" class=\"node\">\n<title>140559191525120</title>\n<polygon fill=\"none\" stroke=\"black\" points=\"2,-88.5 2,-157.5 106,-157.5 106,-88.5 2,-88.5\"/>\n<text text-anchor=\"middle\" x=\"54\" y=\"-142.3\" font-family=\"Times,serif\" font-size=\"14.00\">w2</text>\n<polyline fill=\"none\" stroke=\"black\" points=\"2,-134.5 106,-134.5 \"/>\n<text text-anchor=\"middle\" x=\"54\" y=\"-119.3\" font-family=\"Times,serif\" font-size=\"14.00\">data 1.0000</text>\n<polyline fill=\"none\" stroke=\"black\" points=\"2,-111.5 106,-111.5 \"/>\n<text text-anchor=\"middle\" x=\"54\" y=\"-96.3\" font-family=\"Times,serif\" font-size=\"14.00\">grad 0.0000</text>\n</g>\n<!-- 140559194763712* -->\n<g id=\"node13\" class=\"node\">\n<title>140559194763712*</title>\n<ellipse fill=\"none\" stroke=\"black\" cx=\"171\" cy=\"-123\" rx=\"27\" ry=\"18\"/>\n<text text-anchor=\"middle\" x=\"171\" y=\"-119.3\" font-family=\"Times,serif\" font-size=\"14.00\">*</text>\n</g>\n<!-- 140559191525120&#45;&gt;140559194763712* -->\n<g id=\"edge7\" class=\"edge\">\n<title>140559191525120&#45;&gt;140559194763712*</title>\n<path fill=\"none\" stroke=\"black\" d=\"M106.11,-123C115.41,-123 124.93,-123 133.69,-123\"/>\n<polygon fill=\"black\" stroke=\"black\" points=\"133.93,-126.5 143.93,-123 133.93,-119.5 133.93,-126.5\"/>\n</g>\n<!-- 140559194761024 -->\n<g id=\"node6\" class=\"node\">\n<title>140559194761024</title>\n<polygon fill=\"none\" stroke=\"black\" points=\"234,-176.5 234,-245.5 341,-245.5 341,-176.5 234,-176.5\"/>\n<text text-anchor=\"middle\" x=\"287.5\" y=\"-230.3\" font-family=\"Times,serif\" font-size=\"14.00\">x1*w1</text>\n<polyline fill=\"none\" stroke=\"black\" points=\"234,-222.5 341,-222.5 \"/>\n<text text-anchor=\"middle\" x=\"287.5\" y=\"-207.3\" font-family=\"Times,serif\" font-size=\"14.00\">data &#45;6.0000</text>\n<polyline fill=\"none\" stroke=\"black\" points=\"234,-199.5 341,-199.5 \"/>\n<text text-anchor=\"middle\" x=\"287.5\" y=\"-184.3\" font-family=\"Times,serif\" font-size=\"14.00\">grad 0.5000</text>\n</g>\n<!-- 140559194761024&#45;&gt;140559194762896+ -->\n<g id=\"edge11\" class=\"edge\">\n<title>140559194761024&#45;&gt;140559194762896+</title>\n<path fill=\"none\" stroke=\"black\" d=\"M341.06,-190.8C351.16,-186.92 361.46,-182.96 370.68,-179.42\"/>\n<polygon fill=\"black\" stroke=\"black\" points=\"372.13,-182.61 380.21,-175.76 369.62,-176.08 372.13,-182.61\"/>\n</g>\n<!-- 140559194761024*&#45;&gt;140559194761024 -->\n<g id=\"edge2\" class=\"edge\">\n<title>140559194761024*&#45;&gt;140559194761024</title>\n<path fill=\"none\" stroke=\"black\" d=\"M198.27,-211C205.94,-211 214.68,-211 223.61,-211\"/>\n<polygon fill=\"black\" stroke=\"black\" points=\"223.71,-214.5 233.71,-211 223.71,-207.5 223.71,-214.5\"/>\n</g>\n<!-- 140559191528816 -->\n<g id=\"node8\" class=\"node\">\n<title>140559191528816</title>\n<polygon fill=\"none\" stroke=\"black\" points=\"2,-0.5 2,-69.5 106,-69.5 106,-0.5 2,-0.5\"/>\n<text text-anchor=\"middle\" x=\"54\" y=\"-54.3\" font-family=\"Times,serif\" font-size=\"14.00\">x2</text>\n<polyline fill=\"none\" stroke=\"black\" points=\"2,-46.5 106,-46.5 \"/>\n<text text-anchor=\"middle\" x=\"54\" y=\"-31.3\" font-family=\"Times,serif\" font-size=\"14.00\">data 0.0000</text>\n<polyline fill=\"none\" stroke=\"black\" points=\"2,-23.5 106,-23.5 \"/>\n<text text-anchor=\"middle\" x=\"54\" y=\"-8.3\" font-family=\"Times,serif\" font-size=\"14.00\">grad 0.5000</text>\n</g>\n<!-- 140559191528816&#45;&gt;140559194763712* -->\n<g id=\"edge8\" class=\"edge\">\n<title>140559191528816&#45;&gt;140559194763712*</title>\n<path fill=\"none\" stroke=\"black\" d=\"M100.12,-69.53C115.19,-81.06 131.46,-93.51 144.5,-103.49\"/>\n<polygon fill=\"black\" stroke=\"black\" points=\"142.49,-106.36 152.56,-109.65 146.74,-100.8 142.49,-106.36\"/>\n</g>\n<!-- 140559194762128 -->\n<g id=\"node9\" class=\"node\">\n<title>140559194762128</title>\n<polygon fill=\"none\" stroke=\"black\" points=\"960.69,-88.5 960.69,-157.5 1064.69,-157.5 1064.69,-88.5 960.69,-88.5\"/>\n<text text-anchor=\"middle\" x=\"1012.69\" y=\"-142.3\" font-family=\"Times,serif\" font-size=\"14.00\">o</text>\n<polyline fill=\"none\" stroke=\"black\" points=\"960.69,-134.5 1064.69,-134.5 \"/>\n<text text-anchor=\"middle\" x=\"1012.69\" y=\"-119.3\" font-family=\"Times,serif\" font-size=\"14.00\">data 0.7071</text>\n<polyline fill=\"none\" stroke=\"black\" points=\"960.69,-111.5 1064.69,-111.5 \"/>\n<text text-anchor=\"middle\" x=\"1012.69\" y=\"-96.3\" font-family=\"Times,serif\" font-size=\"14.00\">grad 1.0000</text>\n</g>\n<!-- 140559194762128tanh -->\n<g id=\"node10\" class=\"node\">\n<title>140559194762128tanh</title>\n<ellipse fill=\"none\" stroke=\"black\" cx=\"892.85\" cy=\"-123\" rx=\"31.7\" ry=\"18\"/>\n<text text-anchor=\"middle\" x=\"892.85\" y=\"-119.3\" font-family=\"Times,serif\" font-size=\"14.00\">tanh</text>\n</g>\n<!-- 140559194762128tanh&#45;&gt;140559194762128 -->\n<g id=\"edge3\" class=\"edge\">\n<title>140559194762128tanh&#45;&gt;140559194762128</title>\n<path fill=\"none\" stroke=\"black\" d=\"M924.81,-123C932.74,-123 941.54,-123 950.42,-123\"/>\n<polygon fill=\"black\" stroke=\"black\" points=\"950.43,-126.5 960.43,-123 950.43,-119.5 950.43,-126.5\"/>\n</g>\n<!-- 140559191533472 -->\n<g id=\"node11\" class=\"node\">\n<title>140559191533472</title>\n<polygon fill=\"none\" stroke=\"black\" points=\"479,-44.5 479,-113.5 583,-113.5 583,-44.5 479,-44.5\"/>\n<text text-anchor=\"middle\" x=\"531\" y=\"-98.3\" font-family=\"Times,serif\" font-size=\"14.00\">b</text>\n<polyline fill=\"none\" stroke=\"black\" points=\"479,-90.5 583,-90.5 \"/>\n<text text-anchor=\"middle\" x=\"531\" y=\"-75.3\" font-family=\"Times,serif\" font-size=\"14.00\">data 6.8814</text>\n<polyline fill=\"none\" stroke=\"black\" points=\"479,-67.5 583,-67.5 \"/>\n<text text-anchor=\"middle\" x=\"531\" y=\"-52.3\" font-family=\"Times,serif\" font-size=\"14.00\">grad 0.5000</text>\n</g>\n<!-- 140559191533472&#45;&gt;140559194762704+ -->\n<g id=\"edge6\" class=\"edge\">\n<title>140559191533472&#45;&gt;140559194762704+</title>\n<path fill=\"none\" stroke=\"black\" d=\"M583.2,-97.02C597.04,-101.89 611.63,-107.03 624.16,-111.44\"/>\n<polygon fill=\"black\" stroke=\"black\" points=\"623.11,-114.78 633.71,-114.8 625.44,-108.18 623.11,-114.78\"/>\n</g>\n<!-- 140559194763712 -->\n<g id=\"node12\" class=\"node\">\n<title>140559194763712</title>\n<polygon fill=\"none\" stroke=\"black\" points=\"235.5,-88.5 235.5,-157.5 339.5,-157.5 339.5,-88.5 235.5,-88.5\"/>\n<text text-anchor=\"middle\" x=\"287.5\" y=\"-142.3\" font-family=\"Times,serif\" font-size=\"14.00\">x2*w2</text>\n<polyline fill=\"none\" stroke=\"black\" points=\"235.5,-134.5 339.5,-134.5 \"/>\n<text text-anchor=\"middle\" x=\"287.5\" y=\"-119.3\" font-family=\"Times,serif\" font-size=\"14.00\">data 0.0000</text>\n<polyline fill=\"none\" stroke=\"black\" points=\"235.5,-111.5 339.5,-111.5 \"/>\n<text text-anchor=\"middle\" x=\"287.5\" y=\"-96.3\" font-family=\"Times,serif\" font-size=\"14.00\">grad 0.5000</text>\n</g>\n<!-- 140559194763712&#45;&gt;140559194762896+ -->\n<g id=\"edge13\" class=\"edge\">\n<title>140559194763712&#45;&gt;140559194762896+</title>\n<path fill=\"none\" stroke=\"black\" d=\"M339.72,-142.68C350.24,-146.73 361.03,-150.87 370.66,-154.57\"/>\n<polygon fill=\"black\" stroke=\"black\" points=\"369.62,-157.92 380.21,-158.24 372.13,-151.39 369.62,-157.92\"/>\n</g>\n<!-- 140559194763712*&#45;&gt;140559194763712 -->\n<g id=\"edge4\" class=\"edge\">\n<title>140559194763712*&#45;&gt;140559194763712</title>\n<path fill=\"none\" stroke=\"black\" d=\"M198.27,-123C206.32,-123 215.54,-123 224.91,-123\"/>\n<polygon fill=\"black\" stroke=\"black\" points=\"225.09,-126.5 235.09,-123 225.09,-119.5 225.09,-126.5\"/>\n</g>\n<!-- 140559194762704 -->\n<g id=\"node14\" class=\"node\">\n<title>140559194762704</title>\n<polygon fill=\"none\" stroke=\"black\" points=\"721,-88.5 721,-157.5 825,-157.5 825,-88.5 721,-88.5\"/>\n<text text-anchor=\"middle\" x=\"773\" y=\"-142.3\" font-family=\"Times,serif\" font-size=\"14.00\">n</text>\n<polyline fill=\"none\" stroke=\"black\" points=\"721,-134.5 825,-134.5 \"/>\n<text text-anchor=\"middle\" x=\"773\" y=\"-119.3\" font-family=\"Times,serif\" font-size=\"14.00\">data 0.8814</text>\n<polyline fill=\"none\" stroke=\"black\" points=\"721,-111.5 825,-111.5 \"/>\n<text text-anchor=\"middle\" x=\"773\" y=\"-96.3\" font-family=\"Times,serif\" font-size=\"14.00\">grad 0.5000</text>\n</g>\n<!-- 140559194762704&#45;&gt;140559194762128tanh -->\n<g id=\"edge12\" class=\"edge\">\n<title>140559194762704&#45;&gt;140559194762128tanh</title>\n<path fill=\"none\" stroke=\"black\" d=\"M825,-123C833.58,-123 842.38,-123 850.66,-123\"/>\n<polygon fill=\"black\" stroke=\"black\" points=\"850.82,-126.5 860.82,-123 850.82,-119.5 850.82,-126.5\"/>\n</g>\n<!-- 140559194762704+&#45;&gt;140559194762704 -->\n<g id=\"edge5\" class=\"edge\">\n<title>140559194762704+&#45;&gt;140559194762704</title>\n<path fill=\"none\" stroke=\"black\" d=\"M685.21,-123C692.88,-123 701.62,-123 710.51,-123\"/>\n<polygon fill=\"black\" stroke=\"black\" points=\"710.58,-126.5 720.58,-123 710.58,-119.5 710.58,-126.5\"/>\n</g>\n</g>\n</svg>\n",
      "text/plain": [
       "<graphviz.graphs.Digraph at 0x7fd67cae4550>"
      ]
     },
     "execution_count": 228,
     "metadata": {},
     "output_type": "execute_result"
    }
   ],
   "source": [
    "draw_dot(o)"
   ]
  },
  {
   "cell_type": "markdown",
   "metadata": {},
   "source": [
    "Topological Graph: Topological Sort: "
   ]
  },
  {
   "cell_type": "markdown",
   "metadata": {},
   "source": [
    "To call backward for a node only when all children are calc"
   ]
  },
  {
   "cell_type": "code",
   "execution_count": 236,
   "metadata": {},
   "outputs": [],
   "source": [
    "topo = []\n",
    "visited = set()\n",
    "def build_topo(v):\n",
    "    if v not in visited:\n",
    "        visited.add(v)\n",
    "        for child in v._prev:\n",
    "            build_topo(child)\n",
    "        topo.append(v)\n",
    "build_topo(o)\n",
    "topo\n",
    "for node in reversed(topo):\n",
    "    node._backward()\n"
   ]
  },
  {
   "cell_type": "code",
   "execution_count": 237,
   "metadata": {},
   "outputs": [
    {
     "data": {
      "image/svg+xml": "<?xml version=\"1.0\" encoding=\"UTF-8\" standalone=\"no\"?>\n<!DOCTYPE svg PUBLIC \"-//W3C//DTD SVG 1.1//EN\"\n \"http://www.w3.org/Graphics/SVG/1.1/DTD/svg11.dtd\">\n<!-- Generated by graphviz version 2.43.0 (0)\n -->\n<!-- Title: %3 Pages: 1 -->\n<svg width=\"1073pt\" height=\"342pt\"\n viewBox=\"0.00 0.00 1072.69 342.00\" xmlns=\"http://www.w3.org/2000/svg\" xmlns:xlink=\"http://www.w3.org/1999/xlink\">\n<g id=\"graph0\" class=\"graph\" transform=\"scale(1 1) rotate(0) translate(4 338)\">\n<title>%3</title>\n<polygon fill=\"white\" stroke=\"transparent\" points=\"-4,4 -4,-338 1068.69,-338 1068.69,4 -4,4\"/>\n<!-- 140559190051856 -->\n<g id=\"node1\" class=\"node\">\n<title>140559190051856</title>\n<polygon fill=\"none\" stroke=\"black\" points=\"235.5,-88.5 235.5,-157.5 339.5,-157.5 339.5,-88.5 235.5,-88.5\"/>\n<text text-anchor=\"middle\" x=\"287.5\" y=\"-142.3\" font-family=\"Times,serif\" font-size=\"14.00\">x2*w2</text>\n<polyline fill=\"none\" stroke=\"black\" points=\"235.5,-134.5 339.5,-134.5 \"/>\n<text text-anchor=\"middle\" x=\"287.5\" y=\"-119.3\" font-family=\"Times,serif\" font-size=\"14.00\">data 0.0000</text>\n<polyline fill=\"none\" stroke=\"black\" points=\"235.5,-111.5 339.5,-111.5 \"/>\n<text text-anchor=\"middle\" x=\"287.5\" y=\"-96.3\" font-family=\"Times,serif\" font-size=\"14.00\">grad 0.0000</text>\n</g>\n<!-- 140559190049984+ -->\n<g id=\"node6\" class=\"node\">\n<title>140559190049984+</title>\n<ellipse fill=\"none\" stroke=\"black\" cx=\"404\" cy=\"-167\" rx=\"27\" ry=\"18\"/>\n<text text-anchor=\"middle\" x=\"404\" y=\"-163.3\" font-family=\"Times,serif\" font-size=\"14.00\">+</text>\n</g>\n<!-- 140559190051856&#45;&gt;140559190049984+ -->\n<g id=\"edge12\" class=\"edge\">\n<title>140559190051856&#45;&gt;140559190049984+</title>\n<path fill=\"none\" stroke=\"black\" d=\"M339.72,-142.68C350.24,-146.73 361.03,-150.87 370.66,-154.57\"/>\n<polygon fill=\"black\" stroke=\"black\" points=\"369.62,-157.92 380.21,-158.24 372.13,-151.39 369.62,-157.92\"/>\n</g>\n<!-- 140559190051856* -->\n<g id=\"node2\" class=\"node\">\n<title>140559190051856*</title>\n<ellipse fill=\"none\" stroke=\"black\" cx=\"171\" cy=\"-123\" rx=\"27\" ry=\"18\"/>\n<text text-anchor=\"middle\" x=\"171\" y=\"-119.3\" font-family=\"Times,serif\" font-size=\"14.00\">*</text>\n</g>\n<!-- 140559190051856*&#45;&gt;140559190051856 -->\n<g id=\"edge1\" class=\"edge\">\n<title>140559190051856*&#45;&gt;140559190051856</title>\n<path fill=\"none\" stroke=\"black\" d=\"M198.27,-123C206.32,-123 215.54,-123 224.91,-123\"/>\n<polygon fill=\"black\" stroke=\"black\" points=\"225.09,-126.5 235.09,-123 225.09,-119.5 225.09,-126.5\"/>\n</g>\n<!-- 140559189628464 -->\n<g id=\"node3\" class=\"node\">\n<title>140559189628464</title>\n<polygon fill=\"none\" stroke=\"black\" points=\"2,-88.5 2,-157.5 106,-157.5 106,-88.5 2,-88.5\"/>\n<text text-anchor=\"middle\" x=\"54\" y=\"-142.3\" font-family=\"Times,serif\" font-size=\"14.00\">x2</text>\n<polyline fill=\"none\" stroke=\"black\" points=\"2,-134.5 106,-134.5 \"/>\n<text text-anchor=\"middle\" x=\"54\" y=\"-119.3\" font-family=\"Times,serif\" font-size=\"14.00\">data 0.0000</text>\n<polyline fill=\"none\" stroke=\"black\" points=\"2,-111.5 106,-111.5 \"/>\n<text text-anchor=\"middle\" x=\"54\" y=\"-96.3\" font-family=\"Times,serif\" font-size=\"14.00\">grad 0.0000</text>\n</g>\n<!-- 140559189628464&#45;&gt;140559190051856* -->\n<g id=\"edge14\" class=\"edge\">\n<title>140559189628464&#45;&gt;140559190051856*</title>\n<path fill=\"none\" stroke=\"black\" d=\"M106.11,-123C115.41,-123 124.93,-123 133.69,-123\"/>\n<polygon fill=\"black\" stroke=\"black\" points=\"133.93,-126.5 143.93,-123 133.93,-119.5 133.93,-126.5\"/>\n</g>\n<!-- 140559190060688 -->\n<g id=\"node4\" class=\"node\">\n<title>140559190060688</title>\n<polygon fill=\"none\" stroke=\"black\" points=\"2,-0.5 2,-69.5 106,-69.5 106,-0.5 2,-0.5\"/>\n<text text-anchor=\"middle\" x=\"54\" y=\"-54.3\" font-family=\"Times,serif\" font-size=\"14.00\">w2</text>\n<polyline fill=\"none\" stroke=\"black\" points=\"2,-46.5 106,-46.5 \"/>\n<text text-anchor=\"middle\" x=\"54\" y=\"-31.3\" font-family=\"Times,serif\" font-size=\"14.00\">data 1.0000</text>\n<polyline fill=\"none\" stroke=\"black\" points=\"2,-23.5 106,-23.5 \"/>\n<text text-anchor=\"middle\" x=\"54\" y=\"-8.3\" font-family=\"Times,serif\" font-size=\"14.00\">grad 0.0000</text>\n</g>\n<!-- 140559190060688&#45;&gt;140559190051856* -->\n<g id=\"edge8\" class=\"edge\">\n<title>140559190060688&#45;&gt;140559190051856*</title>\n<path fill=\"none\" stroke=\"black\" d=\"M100.12,-69.53C115.19,-81.06 131.46,-93.51 144.5,-103.49\"/>\n<polygon fill=\"black\" stroke=\"black\" points=\"142.49,-106.36 152.56,-109.65 146.74,-100.8 142.49,-106.36\"/>\n</g>\n<!-- 140559190049984 -->\n<g id=\"node5\" class=\"node\">\n<title>140559190049984</title>\n<polygon fill=\"none\" stroke=\"black\" points=\"467,-132.5 467,-201.5 595,-201.5 595,-132.5 467,-132.5\"/>\n<text text-anchor=\"middle\" x=\"531\" y=\"-186.3\" font-family=\"Times,serif\" font-size=\"14.00\">x1*w1 + x2*w2</text>\n<polyline fill=\"none\" stroke=\"black\" points=\"467,-178.5 595,-178.5 \"/>\n<text text-anchor=\"middle\" x=\"531\" y=\"-163.3\" font-family=\"Times,serif\" font-size=\"14.00\">data &#45;6.0000</text>\n<polyline fill=\"none\" stroke=\"black\" points=\"467,-155.5 595,-155.5 \"/>\n<text text-anchor=\"middle\" x=\"531\" y=\"-140.3\" font-family=\"Times,serif\" font-size=\"14.00\">grad 0.0000</text>\n</g>\n<!-- 140559190052336+ -->\n<g id=\"node15\" class=\"node\">\n<title>140559190052336+</title>\n<ellipse fill=\"none\" stroke=\"black\" cx=\"658\" cy=\"-211\" rx=\"27\" ry=\"18\"/>\n<text text-anchor=\"middle\" x=\"658\" y=\"-207.3\" font-family=\"Times,serif\" font-size=\"14.00\">+</text>\n</g>\n<!-- 140559190049984&#45;&gt;140559190052336+ -->\n<g id=\"edge6\" class=\"edge\">\n<title>140559190049984&#45;&gt;140559190052336+</title>\n<path fill=\"none\" stroke=\"black\" d=\"M595.23,-189.26C605.26,-192.79 615.27,-196.31 624.22,-199.46\"/>\n<polygon fill=\"black\" stroke=\"black\" points=\"623.22,-202.82 633.81,-202.84 625.54,-196.22 623.22,-202.82\"/>\n</g>\n<!-- 140559190049984+&#45;&gt;140559190049984 -->\n<g id=\"edge2\" class=\"edge\">\n<title>140559190049984+&#45;&gt;140559190049984</title>\n<path fill=\"none\" stroke=\"black\" d=\"M431.2,-167C438.8,-167 447.49,-167 456.49,-167\"/>\n<polygon fill=\"black\" stroke=\"black\" points=\"456.75,-170.5 466.75,-167 456.75,-163.5 456.75,-170.5\"/>\n</g>\n<!-- 140559189627072 -->\n<g id=\"node7\" class=\"node\">\n<title>140559189627072</title>\n<polygon fill=\"none\" stroke=\"black\" points=\"0.5,-264.5 0.5,-333.5 107.5,-333.5 107.5,-264.5 0.5,-264.5\"/>\n<text text-anchor=\"middle\" x=\"54\" y=\"-318.3\" font-family=\"Times,serif\" font-size=\"14.00\">w1</text>\n<polyline fill=\"none\" stroke=\"black\" points=\"0.5,-310.5 107.5,-310.5 \"/>\n<text text-anchor=\"middle\" x=\"54\" y=\"-295.3\" font-family=\"Times,serif\" font-size=\"14.00\">data &#45;3.0000</text>\n<polyline fill=\"none\" stroke=\"black\" points=\"0.5,-287.5 107.5,-287.5 \"/>\n<text text-anchor=\"middle\" x=\"54\" y=\"-272.3\" font-family=\"Times,serif\" font-size=\"14.00\">grad 0.0000</text>\n</g>\n<!-- 140559190061840* -->\n<g id=\"node9\" class=\"node\">\n<title>140559190061840*</title>\n<ellipse fill=\"none\" stroke=\"black\" cx=\"171\" cy=\"-211\" rx=\"27\" ry=\"18\"/>\n<text text-anchor=\"middle\" x=\"171\" y=\"-207.3\" font-family=\"Times,serif\" font-size=\"14.00\">*</text>\n</g>\n<!-- 140559189627072&#45;&gt;140559190061840* -->\n<g id=\"edge10\" class=\"edge\">\n<title>140559189627072&#45;&gt;140559190061840*</title>\n<path fill=\"none\" stroke=\"black\" d=\"M100.12,-264.47C115.19,-252.94 131.46,-240.49 144.5,-230.51\"/>\n<polygon fill=\"black\" stroke=\"black\" points=\"146.74,-233.2 152.56,-224.35 142.49,-227.64 146.74,-233.2\"/>\n</g>\n<!-- 140559190061840 -->\n<g id=\"node8\" class=\"node\">\n<title>140559190061840</title>\n<polygon fill=\"none\" stroke=\"black\" points=\"234,-176.5 234,-245.5 341,-245.5 341,-176.5 234,-176.5\"/>\n<text text-anchor=\"middle\" x=\"287.5\" y=\"-230.3\" font-family=\"Times,serif\" font-size=\"14.00\">x1*w1</text>\n<polyline fill=\"none\" stroke=\"black\" points=\"234,-222.5 341,-222.5 \"/>\n<text text-anchor=\"middle\" x=\"287.5\" y=\"-207.3\" font-family=\"Times,serif\" font-size=\"14.00\">data &#45;6.0000</text>\n<polyline fill=\"none\" stroke=\"black\" points=\"234,-199.5 341,-199.5 \"/>\n<text text-anchor=\"middle\" x=\"287.5\" y=\"-184.3\" font-family=\"Times,serif\" font-size=\"14.00\">grad 0.0000</text>\n</g>\n<!-- 140559190061840&#45;&gt;140559190049984+ -->\n<g id=\"edge13\" class=\"edge\">\n<title>140559190061840&#45;&gt;140559190049984+</title>\n<path fill=\"none\" stroke=\"black\" d=\"M341.06,-190.8C351.16,-186.92 361.46,-182.96 370.68,-179.42\"/>\n<polygon fill=\"black\" stroke=\"black\" points=\"372.13,-182.61 380.21,-175.76 369.62,-176.08 372.13,-182.61\"/>\n</g>\n<!-- 140559190061840*&#45;&gt;140559190061840 -->\n<g id=\"edge3\" class=\"edge\">\n<title>140559190061840*&#45;&gt;140559190061840</title>\n<path fill=\"none\" stroke=\"black\" d=\"M198.27,-211C205.94,-211 214.68,-211 223.61,-211\"/>\n<polygon fill=\"black\" stroke=\"black\" points=\"223.71,-214.5 233.71,-211 223.71,-207.5 223.71,-214.5\"/>\n</g>\n<!-- 140559190060832 -->\n<g id=\"node10\" class=\"node\">\n<title>140559190060832</title>\n<polygon fill=\"none\" stroke=\"black\" points=\"479,-220.5 479,-289.5 583,-289.5 583,-220.5 479,-220.5\"/>\n<text text-anchor=\"middle\" x=\"531\" y=\"-274.3\" font-family=\"Times,serif\" font-size=\"14.00\">b</text>\n<polyline fill=\"none\" stroke=\"black\" points=\"479,-266.5 583,-266.5 \"/>\n<text text-anchor=\"middle\" x=\"531\" y=\"-251.3\" font-family=\"Times,serif\" font-size=\"14.00\">data 6.8814</text>\n<polyline fill=\"none\" stroke=\"black\" points=\"479,-243.5 583,-243.5 \"/>\n<text text-anchor=\"middle\" x=\"531\" y=\"-228.3\" font-family=\"Times,serif\" font-size=\"14.00\">grad 0.0000</text>\n</g>\n<!-- 140559190060832&#45;&gt;140559190052336+ -->\n<g id=\"edge7\" class=\"edge\">\n<title>140559190060832&#45;&gt;140559190052336+</title>\n<path fill=\"none\" stroke=\"black\" d=\"M583.2,-236.98C597.04,-232.11 611.63,-226.97 624.16,-222.56\"/>\n<polygon fill=\"black\" stroke=\"black\" points=\"625.44,-225.82 633.71,-219.2 623.11,-219.22 625.44,-225.82\"/>\n</g>\n<!-- 140559195341152 -->\n<g id=\"node11\" class=\"node\">\n<title>140559195341152</title>\n<polygon fill=\"none\" stroke=\"black\" points=\"960.69,-176.5 960.69,-245.5 1064.69,-245.5 1064.69,-176.5 960.69,-176.5\"/>\n<text text-anchor=\"middle\" x=\"1012.69\" y=\"-230.3\" font-family=\"Times,serif\" font-size=\"14.00\">o</text>\n<polyline fill=\"none\" stroke=\"black\" points=\"960.69,-222.5 1064.69,-222.5 \"/>\n<text text-anchor=\"middle\" x=\"1012.69\" y=\"-207.3\" font-family=\"Times,serif\" font-size=\"14.00\">data 0.7071</text>\n<polyline fill=\"none\" stroke=\"black\" points=\"960.69,-199.5 1064.69,-199.5 \"/>\n<text text-anchor=\"middle\" x=\"1012.69\" y=\"-184.3\" font-family=\"Times,serif\" font-size=\"14.00\">grad 0.0000</text>\n</g>\n<!-- 140559195341152tanh -->\n<g id=\"node12\" class=\"node\">\n<title>140559195341152tanh</title>\n<ellipse fill=\"none\" stroke=\"black\" cx=\"892.85\" cy=\"-211\" rx=\"31.7\" ry=\"18\"/>\n<text text-anchor=\"middle\" x=\"892.85\" y=\"-207.3\" font-family=\"Times,serif\" font-size=\"14.00\">tanh</text>\n</g>\n<!-- 140559195341152tanh&#45;&gt;140559195341152 -->\n<g id=\"edge4\" class=\"edge\">\n<title>140559195341152tanh&#45;&gt;140559195341152</title>\n<path fill=\"none\" stroke=\"black\" d=\"M924.81,-211C932.74,-211 941.54,-211 950.42,-211\"/>\n<polygon fill=\"black\" stroke=\"black\" points=\"950.43,-214.5 960.43,-211 950.43,-207.5 950.43,-214.5\"/>\n</g>\n<!-- 140559190059392 -->\n<g id=\"node13\" class=\"node\">\n<title>140559190059392</title>\n<polygon fill=\"none\" stroke=\"black\" points=\"0,-176.5 0,-245.5 108,-245.5 108,-176.5 0,-176.5\"/>\n<text text-anchor=\"middle\" x=\"54\" y=\"-230.3\" font-family=\"Times,serif\" font-size=\"14.00\">x1</text>\n<polyline fill=\"none\" stroke=\"black\" points=\"0,-222.5 108,-222.5 \"/>\n<text text-anchor=\"middle\" x=\"54\" y=\"-207.3\" font-family=\"Times,serif\" font-size=\"14.00\">data 2.0000</text>\n<polyline fill=\"none\" stroke=\"black\" points=\"0,-199.5 108,-199.5 \"/>\n<text text-anchor=\"middle\" x=\"54\" y=\"-184.3\" font-family=\"Times,serif\" font-size=\"14.00\">grad &#45;0.0000</text>\n</g>\n<!-- 140559190059392&#45;&gt;140559190061840* -->\n<g id=\"edge9\" class=\"edge\">\n<title>140559190059392&#45;&gt;140559190061840*</title>\n<path fill=\"none\" stroke=\"black\" d=\"M108.12,-211C116.72,-211 125.44,-211 133.52,-211\"/>\n<polygon fill=\"black\" stroke=\"black\" points=\"133.71,-214.5 143.71,-211 133.71,-207.5 133.71,-214.5\"/>\n</g>\n<!-- 140559190052336 -->\n<g id=\"node14\" class=\"node\">\n<title>140559190052336</title>\n<polygon fill=\"none\" stroke=\"black\" points=\"721,-176.5 721,-245.5 825,-245.5 825,-176.5 721,-176.5\"/>\n<text text-anchor=\"middle\" x=\"773\" y=\"-230.3\" font-family=\"Times,serif\" font-size=\"14.00\">n</text>\n<polyline fill=\"none\" stroke=\"black\" points=\"721,-222.5 825,-222.5 \"/>\n<text text-anchor=\"middle\" x=\"773\" y=\"-207.3\" font-family=\"Times,serif\" font-size=\"14.00\">data 0.8814</text>\n<polyline fill=\"none\" stroke=\"black\" points=\"721,-199.5 825,-199.5 \"/>\n<text text-anchor=\"middle\" x=\"773\" y=\"-184.3\" font-family=\"Times,serif\" font-size=\"14.00\">grad 0.0000</text>\n</g>\n<!-- 140559190052336&#45;&gt;140559195341152tanh -->\n<g id=\"edge11\" class=\"edge\">\n<title>140559190052336&#45;&gt;140559195341152tanh</title>\n<path fill=\"none\" stroke=\"black\" d=\"M825,-211C833.58,-211 842.38,-211 850.66,-211\"/>\n<polygon fill=\"black\" stroke=\"black\" points=\"850.82,-214.5 860.82,-211 850.82,-207.5 850.82,-214.5\"/>\n</g>\n<!-- 140559190052336+&#45;&gt;140559190052336 -->\n<g id=\"edge5\" class=\"edge\">\n<title>140559190052336+&#45;&gt;140559190052336</title>\n<path fill=\"none\" stroke=\"black\" d=\"M685.21,-211C692.88,-211 701.62,-211 710.51,-211\"/>\n<polygon fill=\"black\" stroke=\"black\" points=\"710.58,-214.5 720.58,-211 710.58,-207.5 710.58,-214.5\"/>\n</g>\n</g>\n</svg>\n",
      "text/plain": [
       "<graphviz.graphs.Digraph at 0x7fd67c9bb6d0>"
      ]
     },
     "execution_count": 237,
     "metadata": {},
     "output_type": "execute_result"
    }
   ],
   "source": [
    "draw_dot(o)"
   ]
  }
 ],
 "metadata": {
  "kernelspec": {
   "display_name": "transformers",
   "language": "python",
   "name": "python3"
  },
  "language_info": {
   "codemirror_mode": {
    "name": "ipython",
    "version": 3
   },
   "file_extension": ".py",
   "mimetype": "text/x-python",
   "name": "python",
   "nbconvert_exporter": "python",
   "pygments_lexer": "ipython3",
   "version": "3.10.8"
  },
  "orig_nbformat": 4,
  "vscode": {
   "interpreter": {
    "hash": "dddab157190c3c29c7bfa9724dd2612e80e7d4a281bb7f76e54f36d2e23abd8a"
   }
  }
 },
 "nbformat": 4,
 "nbformat_minor": 2
}
