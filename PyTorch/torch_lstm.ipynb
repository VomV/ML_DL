{
 "cells": [
  {
   "attachments": {},
   "cell_type": "markdown",
   "metadata": {},
   "source": [
    "### LSTM model for POS tagging"
   ]
  },
  {
   "cell_type": "code",
   "execution_count": 1,
   "metadata": {},
   "outputs": [],
   "source": [
    "import torch"
   ]
  },
  {
   "cell_type": "code",
   "execution_count": 5,
   "metadata": {},
   "outputs": [],
   "source": [
    "class LSTMTagger(torch.nn.Module):\n",
    "\n",
    "    def __init__(self, embedding_dim, hidden_dim, vocab_size, target_size):\n",
    "        super().__init__()\n",
    "        self.hidden_data = hidden_dim\n",
    "\n",
    "        self.word_embeddings = torch.nn.Embedding(vocab_size, hidden_dim)\n",
    "        \n",
    "        #emedding to hidden state\n",
    "        self.lstm = torch.nn.LSTM(embedding_dim, hidden_dim)\n",
    "\n",
    "        #hidden state to tag space\n",
    "        self.hidden2tag = torch.nn.Linear(hidden_dim, target_size)\n",
    "\n",
    "\n",
    "    def forward(self, x):\n",
    "        embed = self.word_embeddings(x)\n",
    "        lstm_out, _ = self.lstm(embed.view(len(x), 1, -1))\n",
    "        tag_space = self.hidden2tag(lstm_out.view(len(x), -1))\n",
    "        tag_scores = torch.nn.functional.log_softmax(tag_space, dim=1)\n",
    "        return tag_scores\n",
    "\n",
    "\n"
   ]
  },
  {
   "attachments": {},
   "cell_type": "markdown",
   "metadata": {},
   "source": [
    "\n",
    "Prepare Data"
   ]
  },
  {
   "cell_type": "code",
   "execution_count": 3,
   "metadata": {},
   "outputs": [
    {
     "name": "stdout",
     "output_type": "stream",
     "text": [
      "{'The': 0, 'dog': 1, 'ate': 2, 'the': 3, 'pie': 4, 'All': 5, 'hail': 6, 'king': 7}\n"
     ]
    }
   ],
   "source": [
    "def prepare_sequence(seq, word_to_ix):\n",
    "\n",
    "    idxs = [word_to_ix[w] for w in seq]\n",
    "    return torch.tensor(idxs, dtype=torch.long)\n",
    "\n",
    "training_data = [\n",
    "                    ###Tags: 'DET': Determiner, 'NN': Noun, 'V': Verb\n",
    "                    ('The dog ate the pie'.split(), ['DET', 'NN', 'V', 'DET', 'NN']),\n",
    "                    ('All hail the king'.split(), ['DET', 'V', 'DET', 'NN']),\n",
    "\n",
    "                ]\n",
    "\n",
    "#Assign each word a unique index\n",
    "word_to_ix={}\n",
    "for sent, tags in training_data:\n",
    "    for word in sent:\n",
    "        if word not in word_to_ix:\n",
    "            word_to_ix[word] = len(word_to_ix)\n",
    "\n",
    "print(word_to_ix)\n",
    "\n",
    "#unique index for each tag\n",
    "tag_to_ix = {'DET':0, 'NN':1, 'V':2}\n",
    "\n",
    "EMBEDDING_DIM = 6\n",
    "HIDDEN_DIM = 6"
   ]
  },
  {
   "cell_type": "markdown",
   "metadata": {},
   "source": [
    "Train the model"
   ]
  },
  {
   "cell_type": "code",
   "execution_count": 8,
   "metadata": {},
   "outputs": [],
   "source": [
    "model = LSTMTagger(EMBEDDING_DIM, HIDDEN_DIM, len(word_to_ix), len(tag_to_ix))\n",
    "\n",
    "loss_fn = torch.nn.NLLLoss()\n",
    "optimizer = torch.optim.SGD(model.parameters(),lr=1e-2)\n"
   ]
  },
  {
   "cell_type": "code",
   "execution_count": 9,
   "metadata": {},
   "outputs": [
    {
     "name": "stdout",
     "output_type": "stream",
     "text": [
      "tensor([[-0.8472, -1.2827, -1.2238],\n",
      "        [-0.8954, -1.3289, -1.1185],\n",
      "        [-0.9093, -1.3191, -1.1092],\n",
      "        [-0.8804, -1.4042, -1.0794],\n",
      "        [-0.8234, -1.4640, -1.1094]])\n"
     ]
    }
   ],
   "source": [
    "\n",
    "#Score before training\n",
    "#Score i,j is for word i and tag j\n",
    "with torch.no_grad():\n",
    "    output = model(prepare_sequence(training_data[0][0], word_to_ix))\n",
    "    print(output)"
   ]
  },
  {
   "cell_type": "markdown",
   "metadata": {},
   "source": [
    "Scores after training"
   ]
  },
  {
   "cell_type": "code",
   "execution_count": 11,
   "metadata": {},
   "outputs": [],
   "source": [
    "for epoch in range(100):\n",
    "    for sentence, tags in training_data:\n",
    "\n",
    "        #Step 1: Clear the Gradients\n",
    "        model.zero_grad()\n",
    "\n",
    "        #Step 2: Get inputs ready\n",
    "        inputs = prepare_sequence(sentence, word_to_ix)\n",
    "        targets = prepare_sequence(tags, tag_to_ix)\n",
    "\n",
    "        #Step 3: Run forward pass\n",
    "        tag_scores = model(inputs)\n",
    "\n",
    "        #Step 4: Compute loss, grads and update weights\n",
    "        loss = loss_fn(tag_scores, targets)\n",
    "        loss.backward()\n",
    "        optimizer.step()\n",
    "\n",
    "\n"
   ]
  },
  {
   "cell_type": "code",
   "execution_count": 12,
   "metadata": {},
   "outputs": [
    {
     "name": "stdout",
     "output_type": "stream",
     "text": [
      "tensor([[-0.8138, -1.1846, -1.3825],\n",
      "        [-0.8666, -1.2047, -1.2735],\n",
      "        [-0.8840, -1.1945, -1.2587],\n",
      "        [-0.8391, -1.2528, -1.2652],\n",
      "        [-0.7763, -1.3047, -1.3143]])\n"
     ]
    }
   ],
   "source": [
    "with torch.no_grad():\n",
    "\n",
    "    inputs = prepare_sequence(training_data[0][0], word_to_ix)\n",
    "    tag_scores = model(inputs)\n",
    "    print(tag_scores)"
   ]
  },
  {
   "attachments": {},
   "cell_type": "markdown",
   "metadata": {},
   "source": [
    "#### ToDo: Create Character Embeddings"
   ]
  }
 ],
 "metadata": {
  "kernelspec": {
   "display_name": "transformers",
   "language": "python",
   "name": "python3"
  },
  "language_info": {
   "codemirror_mode": {
    "name": "ipython",
    "version": 3
   },
   "file_extension": ".py",
   "mimetype": "text/x-python",
   "name": "python",
   "nbconvert_exporter": "python",
   "pygments_lexer": "ipython3",
   "version": "3.10.8"
  },
  "orig_nbformat": 4,
  "vscode": {
   "interpreter": {
    "hash": "dddab157190c3c29c7bfa9724dd2612e80e7d4a281bb7f76e54f36d2e23abd8a"
   }
  }
 },
 "nbformat": 4,
 "nbformat_minor": 2
}
