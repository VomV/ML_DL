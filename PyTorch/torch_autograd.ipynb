{
 "cells": [
  {
   "attachments": {},
   "cell_type": "markdown",
   "metadata": {},
   "source": [
    "### Autograd: Engine in pytorch to automatically compute gradients for backpropogation"
   ]
  },
  {
   "cell_type": "markdown",
   "metadata": {},
   "source": [
    "Simple one layer NN"
   ]
  },
  {
   "cell_type": "markdown",
   "metadata": {},
   "source": [
    "Gradients are required for w and b, so we set the requires_grad=True for those tensors"
   ]
  },
  {
   "cell_type": "code",
   "execution_count": 31,
   "metadata": {},
   "outputs": [],
   "source": [
    "import torch\n",
    "import matplotlib.pyplot as plt\n",
    "import math"
   ]
  },
  {
   "cell_type": "code",
   "execution_count": null,
   "metadata": {},
   "outputs": [],
   "source": [
    "\n",
    "#input tensor\n",
    "x = torch.ones(5)\n",
    "\n",
    "#output\n",
    "y = torch.zeros(3)\n",
    "\n",
    "w = torch.randn(5, 3, requires_grad=True)\n",
    "b = torch.randn(3, requires_grad=True)\n",
    "z = torch.matmul(x, w) + b\n",
    "loss = torch.nn.functional.binary_cross_entropy_with_logits(z, y)"
   ]
  },
  {
   "cell_type": "code",
   "execution_count": 2,
   "metadata": {},
   "outputs": [
    {
     "data": {
      "text/plain": [
       "tensor(0.5478, grad_fn=<BinaryCrossEntropyWithLogitsBackward0>)"
      ]
     },
     "execution_count": 2,
     "metadata": {},
     "output_type": "execute_result"
    }
   ],
   "source": [
    "loss"
   ]
  },
  {
   "cell_type": "markdown",
   "metadata": {},
   "source": [
    "Computation Graph for this operation is"
   ]
  },
  {
   "cell_type": "markdown",
   "metadata": {},
   "source": [
    "Reference to grad object of z"
   ]
  },
  {
   "cell_type": "code",
   "execution_count": 3,
   "metadata": {},
   "outputs": [
    {
     "data": {
      "text/plain": [
       "<AddBackward0 at 0x7fce7017e260>"
      ]
     },
     "execution_count": 3,
     "metadata": {},
     "output_type": "execute_result"
    }
   ],
   "source": [
    "z.grad_fn\n"
   ]
  },
  {
   "cell_type": "code",
   "execution_count": 4,
   "metadata": {},
   "outputs": [
    {
     "data": {
      "text/plain": [
       "<BinaryCrossEntropyWithLogitsBackward0 at 0x7fce7017ecb0>"
      ]
     },
     "execution_count": 4,
     "metadata": {},
     "output_type": "execute_result"
    }
   ],
   "source": [
    "loss.grad_fn"
   ]
  },
  {
   "cell_type": "markdown",
   "metadata": {},
   "source": [
    "Partial derivatives of loss, wrt w and b"
   ]
  },
  {
   "cell_type": "markdown",
   "metadata": {},
   "source": [
    "∂loss/∂w and ∂loss/∂b under some fixed values of x and y"
   ]
  },
  {
   "cell_type": "code",
   "execution_count": 5,
   "metadata": {},
   "outputs": [
    {
     "name": "stdout",
     "output_type": "stream",
     "text": [
      "tensor([[0.0123, 0.2486, 0.0700],\n",
      "        [0.0123, 0.2486, 0.0700],\n",
      "        [0.0123, 0.2486, 0.0700],\n",
      "        [0.0123, 0.2486, 0.0700],\n",
      "        [0.0123, 0.2486, 0.0700]])\n",
      "tensor([0.0123, 0.2486, 0.0700])\n"
     ]
    }
   ],
   "source": [
    "loss.backward()\n",
    "print(w.grad)\n",
    "print(b.grad)"
   ]
  },
  {
   "cell_type": "markdown",
   "metadata": {},
   "source": [
    "##### We can get grad properties for only leaf nodes of the computational graph"
   ]
  },
  {
   "cell_type": "markdown",
   "metadata": {},
   "source": [
    "Disable Gradient Tracking"
   ]
  },
  {
   "cell_type": "code",
   "execution_count": 6,
   "metadata": {},
   "outputs": [
    {
     "data": {
      "text/plain": [
       "False"
      ]
     },
     "execution_count": 6,
     "metadata": {},
     "output_type": "execute_result"
    }
   ],
   "source": [
    "with torch.no_grad():\n",
    "    z = torch.matmul(x, w)+b\n",
    "z.requires_grad"
   ]
  },
  {
   "cell_type": "code",
   "execution_count": 7,
   "metadata": {},
   "outputs": [
    {
     "data": {
      "text/plain": [
       "False"
      ]
     },
     "execution_count": 7,
     "metadata": {},
     "output_type": "execute_result"
    }
   ],
   "source": [
    "z = torch.matmul(x, w)+b\n",
    "z_det = z.detach()\n",
    "z_det.requires_grad"
   ]
  },
  {
   "cell_type": "code",
   "execution_count": null,
   "metadata": {},
   "outputs": [],
   "source": []
  },
  {
   "cell_type": "markdown",
   "metadata": {},
   "source": [
    "- This can be used to freeze cetain params while finetuning a pretrained model\n",
    "- Also, when only forward pass is req"
   ]
  },
  {
   "cell_type": "markdown",
   "metadata": {},
   "source": [
    "- Autograd keeps a record of tensor and all executed operations in a DAG\n",
    "- Leaves are input tensors and root is output tensor\n",
    "- Tracing from root to leaves, gradients can be computed using chain rule"
   ]
  },
  {
   "cell_type": "markdown",
   "metadata": {},
   "source": [
    "Autograd Test"
   ]
  },
  {
   "cell_type": "code",
   "execution_count": 35,
   "metadata": {},
   "outputs": [
    {
     "data": {
      "text/plain": [
       "tensor([0.0000, 0.2618, 0.5236, 0.7854, 1.0472, 1.3090, 1.5708, 1.8326, 2.0944,\n",
       "        2.3562, 2.6180, 2.8798, 3.1416, 3.4034, 3.6652, 3.9270, 4.1888, 4.4506,\n",
       "        4.7124, 4.9742, 5.2360, 5.4978, 5.7596, 6.0214, 6.2832],\n",
       "       requires_grad=True)"
      ]
     },
     "execution_count": 35,
     "metadata": {},
     "output_type": "execute_result"
    }
   ],
   "source": [
    "a = torch.linspace(0, 2*math.pi, steps=25, requires_grad=True)\n",
    "a"
   ]
  },
  {
   "cell_type": "code",
   "execution_count": 36,
   "metadata": {},
   "outputs": [
    {
     "data": {
      "text/plain": [
       "tensor([ 0.0000e+00,  2.5882e-01,  5.0000e-01,  7.0711e-01,  8.6603e-01,\n",
       "         9.6593e-01,  1.0000e+00,  9.6593e-01,  8.6603e-01,  7.0711e-01,\n",
       "         5.0000e-01,  2.5882e-01, -8.7423e-08, -2.5882e-01, -5.0000e-01,\n",
       "        -7.0711e-01, -8.6603e-01, -9.6593e-01, -1.0000e+00, -9.6593e-01,\n",
       "        -8.6603e-01, -7.0711e-01, -5.0000e-01, -2.5882e-01,  1.7485e-07],\n",
       "       grad_fn=<SinBackward0>)"
      ]
     },
     "execution_count": 36,
     "metadata": {},
     "output_type": "execute_result"
    }
   ],
   "source": [
    "b = torch.sin(a)\n",
    "b"
   ]
  },
  {
   "cell_type": "code",
   "execution_count": 37,
   "metadata": {},
   "outputs": [
    {
     "data": {
      "text/plain": [
       "tensor([ 1.0000e+00,  1.5176e+00,  2.0000e+00,  2.4142e+00,  2.7321e+00,\n",
       "         2.9319e+00,  3.0000e+00,  2.9319e+00,  2.7321e+00,  2.4142e+00,\n",
       "         2.0000e+00,  1.5176e+00,  1.0000e+00,  4.8236e-01, -3.5763e-07,\n",
       "        -4.1421e-01, -7.3205e-01, -9.3185e-01, -1.0000e+00, -9.3185e-01,\n",
       "        -7.3205e-01, -4.1421e-01,  4.7684e-07,  4.8236e-01,  1.0000e+00],\n",
       "       grad_fn=<AddBackward0>)"
      ]
     },
     "execution_count": 37,
     "metadata": {},
     "output_type": "execute_result"
    }
   ],
   "source": [
    "c = 2 * b\n",
    "d = c + 1\n",
    "d"
   ]
  },
  {
   "cell_type": "markdown",
   "metadata": {},
   "source": [
    "Output for autograd gradient computation must be scalar value"
   ]
  },
  {
   "cell_type": "code",
   "execution_count": 38,
   "metadata": {},
   "outputs": [
    {
     "data": {
      "text/plain": [
       "tensor(25., grad_fn=<SumBackward0>)"
      ]
     },
     "execution_count": 38,
     "metadata": {},
     "output_type": "execute_result"
    }
   ],
   "source": [
    "out = d.sum()\n",
    "out"
   ]
  },
  {
   "cell_type": "markdown",
   "metadata": {},
   "source": [
    "Each computation is stored by grad_fn. Allows walking back to the input tensor."
   ]
  },
  {
   "cell_type": "code",
   "execution_count": 39,
   "metadata": {},
   "outputs": [
    {
     "name": "stdout",
     "output_type": "stream",
     "text": [
      "<SumBackward0 object at 0x7fcdc2f6f8b0>\n",
      "((<AddBackward0 object at 0x7fcdc2f6e230>, 0),)\n",
      "((<MulBackward0 object at 0x7fcdc2f6f8b0>, 0), (None, 0))\n",
      "((<SinBackward0 object at 0x7fcdc2f6faf0>, 0), (None, 0))\n",
      "((<AccumulateGrad object at 0x7fcdc2f6f8b0>, 0),)\n"
     ]
    }
   ],
   "source": [
    "print(out.grad_fn)\n",
    "print(out.grad_fn.next_functions)\n",
    "print(out.grad_fn.next_functions[0][0].next_functions)\n",
    "print(out.grad_fn.next_functions[0][0].next_functions[0][0].next_functions)\n",
    "print(out.grad_fn.next_functions[0][0].next_functions[0][0].next_functions[0][0].next_functions)\n"
   ]
  },
  {
   "cell_type": "markdown",
   "metadata": {},
   "source": [
    "Compute Gradient"
   ]
  },
  {
   "cell_type": "code",
   "execution_count": 40,
   "metadata": {},
   "outputs": [],
   "source": [
    "out.backward()"
   ]
  },
  {
   "cell_type": "markdown",
   "metadata": {},
   "source": [
    "Gradient is stored in input's grad property"
   ]
  },
  {
   "cell_type": "code",
   "execution_count": 41,
   "metadata": {},
   "outputs": [
    {
     "data": {
      "text/plain": [
       "tensor([0.0000, 0.2618, 0.5236, 0.7854, 1.0472, 1.3090, 1.5708, 1.8326, 2.0944,\n",
       "        2.3562, 2.6180, 2.8798, 3.1416, 3.4034, 3.6652, 3.9270, 4.1888, 4.4506,\n",
       "        4.7124, 4.9742, 5.2360, 5.4978, 5.7596, 6.0214, 6.2832],\n",
       "       requires_grad=True)"
      ]
     },
     "execution_count": 41,
     "metadata": {},
     "output_type": "execute_result"
    }
   ],
   "source": [
    "a"
   ]
  },
  {
   "cell_type": "code",
   "execution_count": 44,
   "metadata": {},
   "outputs": [
    {
     "name": "stdout",
     "output_type": "stream",
     "text": [
      "tensor([ 2.0000e+00,  1.9319e+00,  1.7321e+00,  1.4142e+00,  1.0000e+00,\n",
      "         5.1764e-01, -8.7423e-08, -5.1764e-01, -1.0000e+00, -1.4142e+00,\n",
      "        -1.7321e+00, -1.9319e+00, -2.0000e+00, -1.9319e+00, -1.7321e+00,\n",
      "        -1.4142e+00, -1.0000e+00, -5.1764e-01,  2.3850e-08,  5.1764e-01,\n",
      "         1.0000e+00,  1.4142e+00,  1.7321e+00,  1.9319e+00,  2.0000e+00])\n"
     ]
    },
    {
     "data": {
      "text/plain": [
       "[<matplotlib.lines.Line2D at 0x7fcdc2eface0>]"
      ]
     },
     "execution_count": 44,
     "metadata": {},
     "output_type": "execute_result"
    },
    {
     "data": {
      "image/png": "[encoded data removed]",
      "text/plain": [
       "<Figure size 640x480 with 1 Axes>"
      ]
     },
     "metadata": {},
     "output_type": "display_data"
    }
   ],
   "source": [
    "print(a.grad)\n",
    "plt.plot(a.detach(), a.grad.detach())"
   ]
  },
  {
   "cell_type": "markdown",
   "metadata": {},
   "source": [
    "Autograd in a NN"
   ]
  },
  {
   "cell_type": "code",
   "execution_count": 67,
   "metadata": {},
   "outputs": [],
   "source": [
    "BATCH_SIZE = 16\n",
    "IN_DIM = 1000\n",
    "HIDDEN_DIM = 100\n",
    "OUT_DIM = 10\n",
    "\n",
    "class TestModel(torch.nn.Module):\n",
    "\n",
    "    def __init__(self):\n",
    "        super().__init__()\n",
    "        self.layer1 = torch.nn.Linear(1000, 100)\n",
    "        self.relu = torch.nn.ReLU()\n",
    "        self.layer2 = torch.nn.Linear(100, 10)\n",
    "\n",
    "    def forward(self, x):\n",
    "        x = self.layer1(self.relu(x))\n",
    "        x = self.layer2(x)\n",
    "        return x"
   ]
  },
  {
   "cell_type": "code",
   "execution_count": 68,
   "metadata": {},
   "outputs": [],
   "source": [
    "input = torch.rand(BATCH_SIZE, IN_DIM, requires_grad=True)\n",
    "output = torch.rand(BATCH_SIZE, OUT_DIM, requires_grad=True)\n",
    "\n",
    "model = TestModel()"
   ]
  },
  {
   "cell_type": "code",
   "execution_count": 69,
   "metadata": {},
   "outputs": [
    {
     "data": {
      "text/plain": [
       "torch.Size([1000])"
      ]
     },
     "execution_count": 69,
     "metadata": {},
     "output_type": "execute_result"
    }
   ],
   "source": [
    "(model.layer1.weight[0].shape)"
   ]
  },
  {
   "cell_type": "code",
   "execution_count": 70,
   "metadata": {},
   "outputs": [
    {
     "data": {
      "text/plain": [
       "tensor([-0.0056,  0.0228, -0.0804, -0.0882,  0.0235, -0.0683,  0.0990,  0.0009,\n",
       "        -0.0919, -0.0462,  0.0224,  0.0998,  0.0412,  0.0206,  0.0154,  0.0835,\n",
       "         0.0832,  0.0069,  0.0948,  0.0909,  0.0186,  0.0742,  0.0858, -0.0622,\n",
       "        -0.0062,  0.0445,  0.0493, -0.0912, -0.0962, -0.0141,  0.0177,  0.0014,\n",
       "        -0.0616,  0.0319, -0.0859, -0.0379, -0.0267, -0.0659,  0.0504,  0.0546,\n",
       "         0.0653,  0.0255, -0.0477, -0.0651,  0.0997,  0.0156,  0.0557, -0.0640,\n",
       "         0.0015, -0.0915,  0.0598,  0.0637,  0.0668, -0.0346, -0.0794, -0.0167,\n",
       "         0.0448,  0.0093,  0.0924, -0.0444,  0.0909, -0.0951, -0.0600, -0.0215,\n",
       "        -0.0383, -0.0352, -0.0647, -0.0489,  0.0244, -0.0380,  0.0755, -0.0372,\n",
       "        -0.0239, -0.0676,  0.0556,  0.0583, -0.0061,  0.0636,  0.0481, -0.0312,\n",
       "        -0.0849,  0.0894, -0.0486,  0.0535, -0.0817,  0.0346, -0.0215,  0.0611,\n",
       "        -0.0869, -0.0820, -0.0791, -0.0630, -0.0347, -0.0726,  0.0779, -0.0990,\n",
       "        -0.0148,  0.0071, -0.0620, -0.0863], grad_fn=<SelectBackward0>)"
      ]
     },
     "execution_count": 70,
     "metadata": {},
     "output_type": "execute_result"
    }
   ],
   "source": [
    "model.layer2.weight[0]"
   ]
  },
  {
   "cell_type": "code",
   "execution_count": 71,
   "metadata": {},
   "outputs": [],
   "source": [
    "model.layer1.weight.grad"
   ]
  },
  {
   "attachments": {},
   "cell_type": "markdown",
   "metadata": {},
   "source": [
    "### Loss and Optimizer"
   ]
  },
  {
   "cell_type": "code",
   "execution_count": 72,
   "metadata": {},
   "outputs": [],
   "source": [
    "label = torch.rand(BATCH_SIZE, OUT_DIM)"
   ]
  },
  {
   "cell_type": "code",
   "execution_count": 73,
   "metadata": {},
   "outputs": [],
   "source": [
    "optimizer = torch.optim.SGD(model.parameters(), lr=1e-3, momentum=0.9)\n",
    "\n",
    "pred = model(input)\n",
    "loss = ((pred - label)**2).sum()"
   ]
  },
  {
   "cell_type": "code",
   "execution_count": 74,
   "metadata": {},
   "outputs": [],
   "source": [
    "loss.backward()"
   ]
  },
  {
   "cell_type": "code",
   "execution_count": 77,
   "metadata": {},
   "outputs": [
    {
     "name": "stdout",
     "output_type": "stream",
     "text": [
      "tensor([ 3.3038,  0.0714, -2.5615, -0.0545, -1.8378,  0.6396, -2.6217,  0.7085,\n",
      "        -2.1604,  2.4438, -0.4341, -2.5471,  0.8466, -1.4724,  2.3822,  2.0183,\n",
      "        -0.3310, -2.4159, -4.7160,  0.0938, -1.8356, -1.3907,  1.3814, -2.4925,\n",
      "        -3.1633,  0.7442,  0.1743, -0.2867,  0.9257,  1.9771, -1.9243,  4.3873,\n",
      "         1.7689,  1.4346, -0.7212,  0.4498,  1.3191, -2.6351, -1.9039, -3.1572,\n",
      "        -2.2550, -2.3247,  1.9735, -0.6701,  1.1000,  1.4406,  0.3933,  1.1733,\n",
      "         0.1960,  0.8506, -0.7878,  0.0665,  0.6248, -2.7735, -0.7687,  2.4577,\n",
      "         2.8372, -2.8095, -3.2394,  0.0065, -0.9681, -2.2876,  2.8305, -1.2178,\n",
      "         4.3755, -2.4037, -0.5579, -2.3732,  1.2081, -3.8286, -2.2530,  3.2775,\n",
      "         0.6181,  0.8639,  0.9787, -0.1202,  1.6534,  1.5799,  0.8366,  1.8908,\n",
      "        -0.9636, -3.7135,  0.6607, -2.4769,  1.1223, -2.8473,  1.2085, -1.5461,\n",
      "         1.7043,  0.2704, -1.9508, -1.8908,  0.8851,  0.1497, -0.2090,  0.4092,\n",
      "         0.3177,  3.1322, -0.7211,  0.9371])\n"
     ]
    }
   ],
   "source": [
    "print(model.layer2.weight.grad[0])"
   ]
  },
  {
   "cell_type": "markdown",
   "metadata": {},
   "source": [
    "Update the parameters"
   ]
  },
  {
   "cell_type": "code",
   "execution_count": 78,
   "metadata": {},
   "outputs": [
    {
     "name": "stdout",
     "output_type": "stream",
     "text": [
      "tensor([-0.0089,  0.0227, -0.0778, -0.0882,  0.0253, -0.0689,  0.1016,  0.0001,\n",
      "        -0.0897, -0.0486,  0.0228,  0.1023,  0.0403,  0.0220,  0.0130,  0.0815,\n",
      "         0.0835,  0.0093,  0.0995,  0.0908,  0.0204,  0.0756,  0.0844, -0.0597,\n",
      "        -0.0030,  0.0438,  0.0491, -0.0909, -0.0971, -0.0161,  0.0197, -0.0030,\n",
      "        -0.0634,  0.0305, -0.0851, -0.0384, -0.0280, -0.0633,  0.0523,  0.0577,\n",
      "         0.0676,  0.0278, -0.0496, -0.0644,  0.0986,  0.0141,  0.0553, -0.0652,\n",
      "         0.0013, -0.0923,  0.0606,  0.0637,  0.0662, -0.0319, -0.0786, -0.0191,\n",
      "         0.0420,  0.0122,  0.0957, -0.0444,  0.0918, -0.0928, -0.0628, -0.0203,\n",
      "        -0.0427, -0.0328, -0.0641, -0.0465,  0.0232, -0.0341,  0.0778, -0.0405,\n",
      "        -0.0245, -0.0685,  0.0547,  0.0584, -0.0078,  0.0621,  0.0472, -0.0331,\n",
      "        -0.0839,  0.0931, -0.0493,  0.0560, -0.0829,  0.0375, -0.0227,  0.0627,\n",
      "        -0.0887, -0.0823, -0.0771, -0.0611, -0.0356, -0.0728,  0.0781, -0.0994,\n",
      "        -0.0151,  0.0040, -0.0613, -0.0872], grad_fn=<SelectBackward0>)\n"
     ]
    }
   ],
   "source": [
    "optimizer.step()\n",
    "print(model.layer2.weight[0])"
   ]
  },
  {
   "cell_type": "markdown",
   "metadata": {},
   "source": [
    "Zero the gradient or else it will get accumulated in next step"
   ]
  },
  {
   "cell_type": "code",
   "execution_count": 79,
   "metadata": {},
   "outputs": [],
   "source": [
    "optimizer.zero_grad()"
   ]
  }
 ],
 "metadata": {
  "kernelspec": {
   "display_name": "transformers",
   "language": "python",
   "name": "python3"
  },
  "language_info": {
   "codemirror_mode": {
    "name": "ipython",
    "version": 3
   },
   "file_extension": ".py",
   "mimetype": "text/x-python",
   "name": "python",
   "nbconvert_exporter": "python",
   "pygments_lexer": "ipython3",
   "version": "3.10.8"
  },
  "orig_nbformat": 4,
  "vscode": {
   "interpreter": {
    "hash": "dddab157190c3c29c7bfa9724dd2612e80e7d4a281bb7f76e54f36d2e23abd8a"
   }
  }
 },
 "nbformat": 4,
 "nbformat_minor": 2
}
